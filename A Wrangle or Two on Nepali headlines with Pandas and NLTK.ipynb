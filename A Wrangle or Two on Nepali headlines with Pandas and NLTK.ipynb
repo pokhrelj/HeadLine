{
 "cells": [
  {
   "cell_type": "code",
   "execution_count": 1,
   "id": "488082cc",
   "metadata": {},
   "outputs": [],
   "source": [
    "# packages to record the day of fetching headlines  \n",
    "import datetime\n",
    "import nepali_datetime\n",
    "miti = nepali_datetime.date.today().strftime('%K-%n-%D (%k %N %G)')"
   ]
  },
  {
   "cell_type": "code",
   "execution_count": 2,
   "id": "e1382745-c87d-4e16-9907-ecd5e26143ac",
   "metadata": {},
   "outputs": [
    {
     "name": "stdout",
     "output_type": "stream",
     "text": [
      "२०७९-०४-०८ (७९ श्रावण आइतबार)\n"
     ]
    }
   ],
   "source": [
    "# packages to use\n",
    "import pandas as pd\n",
    "import requests\n",
    "from bs4 import BeautifulSoup as bs\n",
    "import re\n",
    "print(miti)"
   ]
  },
  {
   "cell_type": "code",
   "execution_count": 3,
   "id": "7ccc33ff-c33f-4984-b451-24a40c83adec",
   "metadata": {},
   "outputs": [],
   "source": [
    "# my function, soupify, fetches headlines from a list of news sites\n",
    "def soupify (patrika = []):\n",
    "    \n",
    "    pagefile = open(\"homepages25.txt\", \"r\", -1, \"utf-8\").read()\n",
    "    \n",
    "    patrika = [] # populate the list of URLs to visit for headlines \n",
    "    for url in pagefile.splitlines():\n",
    "        try:\n",
    "            if \"\\ufeff\" in url:\n",
    "                patrika.append(str(url.replace(\"\\ufeff\", \"\")))\n",
    "            else:\n",
    "                patrika.append(str(url))\n",
    "        except:\n",
    "            \"Sorry, something wrong. Try again later.\"\n",
    "    \n",
    "    bowl = [] # list of response objects in the bowl\n",
    "    for paper in patrika:\n",
    "        try:\n",
    "            r = requests.get(paper)\n",
    "            bowl.append(r)\n",
    "        except:\n",
    "            \"Sorry, something wrong. Try again later.\"\n",
    "    \n",
    "    soup = [] # list of BeautifulSoup objects \n",
    "    for r in bowl:\n",
    "        try:\n",
    "            spoon = bs(r.text, \"html.parser\")\n",
    "            soup.append(spoon)\n",
    "        except:\n",
    "            \"Sorry, something wrong. Try again later.\"\n",
    "    return soup"
   ]
  },
  {
   "cell_type": "code",
   "execution_count": 4,
   "id": "3c6ed2a4-ca4f-4a06-a56a-ac3fe5ef1d20",
   "metadata": {},
   "outputs": [],
   "source": [
    "# looking at the alphapet soup on the websites  \n",
    "mixed_soup = soupify(patrika = [])"
   ]
  },
  {
   "cell_type": "code",
   "execution_count": 5,
   "id": "f4a92c24-cb2b-48dc-a519-dc124f7d81d9",
   "metadata": {},
   "outputs": [],
   "source": [
    "headlines = []\n",
    "heading_tags = [\"h1\", \"h2\", \"h3\", \"h4\", \"h5\", \"h6\"]\n",
    "for ms in mixed_soup:\n",
    "    for tags in ms.find_all(heading_tags):\n",
    "        headlines.append(tags.text.strip())\n",
    "        #print(tags.name + ' -> ' + tags.text.strip())"
   ]
  },
  {
   "cell_type": "code",
   "execution_count": 6,
   "id": "80ed4dd8-6534-48d8-b25f-b7f5655b2e58",
   "metadata": {
    "scrolled": true
   },
   "outputs": [
    {
     "data": {
      "text/plain": [
       "['हाम्रोबारे',\n",
       " 'लिङ्कहरू',\n",
       " 'लिङ्कहरू',\n",
       " 'लोकप्रिय समाचार',\n",
       " 'भारतबाट फर्कनेमा कोरोनाको सङ्क्रमण देखिँदै']"
      ]
     },
     "execution_count": 6,
     "metadata": {},
     "output_type": "execute_result"
    }
   ],
   "source": [
    "headlines[:5]"
   ]
  },
  {
   "cell_type": "code",
   "execution_count": 7,
   "id": "6d88e097-dd3e-47ba-93e2-14251c7123ad",
   "metadata": {},
   "outputs": [],
   "source": [
    "df = pd.DataFrame(headlines)"
   ]
  },
  {
   "cell_type": "code",
   "execution_count": 8,
   "id": "cba6e10b",
   "metadata": {
    "scrolled": true
   },
   "outputs": [
    {
     "name": "stdout",
     "output_type": "stream",
     "text": [
      "<class 'pandas.core.frame.DataFrame'>\n",
      "RangeIndex: 3002 entries, 0 to 3001\n",
      "Data columns (total 1 columns):\n",
      " #   Column  Non-Null Count  Dtype \n",
      "---  ------  --------------  ----- \n",
      " 0   0       3002 non-null   object\n",
      "dtypes: object(1)\n",
      "memory usage: 23.6+ KB\n"
     ]
    }
   ],
   "source": [
    "df.info()"
   ]
  },
  {
   "cell_type": "code",
   "execution_count": 9,
   "id": "741a62c2",
   "metadata": {},
   "outputs": [],
   "source": [
    "df.columns = [\"headline\"]"
   ]
  },
  {
   "cell_type": "code",
   "execution_count": 10,
   "id": "de1bf992",
   "metadata": {
    "scrolled": false
   },
   "outputs": [
    {
     "data": {
      "text/html": [
       "<div>\n",
       "<style scoped>\n",
       "    .dataframe tbody tr th:only-of-type {\n",
       "        vertical-align: middle;\n",
       "    }\n",
       "\n",
       "    .dataframe tbody tr th {\n",
       "        vertical-align: top;\n",
       "    }\n",
       "\n",
       "    .dataframe thead th {\n",
       "        text-align: right;\n",
       "    }\n",
       "</style>\n",
       "<table border=\"1\" class=\"dataframe\">\n",
       "  <thead>\n",
       "    <tr style=\"text-align: right;\">\n",
       "      <th></th>\n",
       "      <th>headline</th>\n",
       "    </tr>\n",
       "  </thead>\n",
       "  <tbody>\n",
       "    <tr>\n",
       "      <th>0</th>\n",
       "      <td>हाम्रोबारे</td>\n",
       "    </tr>\n",
       "    <tr>\n",
       "      <th>1</th>\n",
       "      <td>लिङ्कहरू</td>\n",
       "    </tr>\n",
       "    <tr>\n",
       "      <th>2</th>\n",
       "      <td>लोकप्रिय समाचार</td>\n",
       "    </tr>\n",
       "    <tr>\n",
       "      <th>3</th>\n",
       "      <td>भारतबाट फर्कनेमा कोरोनाको सङ्क्रमण देखिँदै</td>\n",
       "    </tr>\n",
       "    <tr>\n",
       "      <th>4</th>\n",
       "      <td>मस्को प्रस्तावित सम्झौतामा ट्वीटरले खर्च गर्‍य...</td>\n",
       "    </tr>\n",
       "    <tr>\n",
       "      <th>...</th>\n",
       "      <td>...</td>\n",
       "    </tr>\n",
       "    <tr>\n",
       "      <th>2389</th>\n",
       "      <td>चोरी गरेर अमेरिका पुरयाइएको टुँडाल फर्काइयो</td>\n",
       "    </tr>\n",
       "    <tr>\n",
       "      <th>2390</th>\n",
       "      <td>चलचित्र ‘म’को ट्रेलर सार्वजनिक</td>\n",
       "    </tr>\n",
       "    <tr>\n",
       "      <th>2391</th>\n",
       "      <td>फिल्म ‘माइकल अधिकारी’को ट्रेलर सार्वजनिक</td>\n",
       "    </tr>\n",
       "    <tr>\n",
       "      <th>2392</th>\n",
       "      <td>गोल्डेन ओक १२औं कृति अवार्ड २६ भदौमा</td>\n",
       "    </tr>\n",
       "    <tr>\n",
       "      <th>2393</th>\n",
       "      <td>Quick navigation</td>\n",
       "    </tr>\n",
       "  </tbody>\n",
       "</table>\n",
       "<p>2394 rows × 1 columns</p>\n",
       "</div>"
      ],
      "text/plain": [
       "                                               headline\n",
       "0                                            हाम्रोबारे\n",
       "1                                              लिङ्कहरू\n",
       "2                                       लोकप्रिय समाचार\n",
       "3            भारतबाट फर्कनेमा कोरोनाको सङ्क्रमण देखिँदै\n",
       "4     मस्को प्रस्तावित सम्झौतामा ट्वीटरले खर्च गर्‍य...\n",
       "...                                                 ...\n",
       "2389        चोरी गरेर अमेरिका पुरयाइएको टुँडाल फर्काइयो\n",
       "2390                     चलचित्र ‘म’को ट्रेलर सार्वजनिक\n",
       "2391           फिल्म ‘माइकल अधिकारी’को ट्रेलर सार्वजनिक\n",
       "2392               गोल्डेन ओक १२औं कृति अवार्ड २६ भदौमा\n",
       "2393                                   Quick navigation\n",
       "\n",
       "[2394 rows x 1 columns]"
      ]
     },
     "execution_count": 10,
     "metadata": {},
     "output_type": "execute_result"
    }
   ],
   "source": [
    "df.drop_duplicates(subset=None, keep='first', inplace=False, ignore_index=True)"
   ]
  },
  {
   "cell_type": "code",
   "execution_count": 11,
   "id": "264f5631",
   "metadata": {},
   "outputs": [],
   "source": [
    "stopfile = open(\"nepali_stopwords.txt\", \"r\", -1, \"utf-8\").read()\n",
    "\n",
    "nepali_stopwords = [] # populate the list of URLs to visit for headlines \n",
    "for word in stopfile.splitlines():\n",
    "    nepali_stopwords.append(str(word))"
   ]
  },
  {
   "cell_type": "code",
   "execution_count": 12,
   "id": "c81c39c7",
   "metadata": {},
   "outputs": [],
   "source": [
    "df['headline'] = df['headline'].apply(lambda x: ' '.join([word for word in x.split() if word not in (nepali_stopwords)]))"
   ]
  },
  {
   "cell_type": "code",
   "execution_count": 13,
   "id": "5069564d",
   "metadata": {
    "scrolled": false
   },
   "outputs": [
    {
     "data": {
      "text/html": [
       "<div>\n",
       "<style scoped>\n",
       "    .dataframe tbody tr th:only-of-type {\n",
       "        vertical-align: middle;\n",
       "    }\n",
       "\n",
       "    .dataframe tbody tr th {\n",
       "        vertical-align: top;\n",
       "    }\n",
       "\n",
       "    .dataframe thead th {\n",
       "        text-align: right;\n",
       "    }\n",
       "</style>\n",
       "<table border=\"1\" class=\"dataframe\">\n",
       "  <thead>\n",
       "    <tr style=\"text-align: right;\">\n",
       "      <th></th>\n",
       "      <th>headline</th>\n",
       "    </tr>\n",
       "  </thead>\n",
       "  <tbody>\n",
       "    <tr>\n",
       "      <th>0</th>\n",
       "      <td>हाम्रोबारे</td>\n",
       "    </tr>\n",
       "    <tr>\n",
       "      <th>1</th>\n",
       "      <td></td>\n",
       "    </tr>\n",
       "    <tr>\n",
       "      <th>2</th>\n",
       "      <td></td>\n",
       "    </tr>\n",
       "    <tr>\n",
       "      <th>3</th>\n",
       "      <td></td>\n",
       "    </tr>\n",
       "    <tr>\n",
       "      <th>4</th>\n",
       "      <td>भारतबाट फर्कनेमा कोरोनाको सङ्क्रमण देखिँदै</td>\n",
       "    </tr>\n",
       "  </tbody>\n",
       "</table>\n",
       "</div>"
      ],
      "text/plain": [
       "                                     headline\n",
       "0                                  हाम्रोबारे\n",
       "1                                            \n",
       "2                                            \n",
       "3                                            \n",
       "4  भारतबाट फर्कनेमा कोरोनाको सङ्क्रमण देखिँदै"
      ]
     },
     "execution_count": 13,
     "metadata": {},
     "output_type": "execute_result"
    }
   ],
   "source": [
    "df.head()"
   ]
  },
  {
   "cell_type": "code",
   "execution_count": 14,
   "id": "f9de0da6",
   "metadata": {
    "scrolled": false
   },
   "outputs": [
    {
     "data": {
      "text/html": [
       "<div>\n",
       "<style scoped>\n",
       "    .dataframe tbody tr th:only-of-type {\n",
       "        vertical-align: middle;\n",
       "    }\n",
       "\n",
       "    .dataframe tbody tr th {\n",
       "        vertical-align: top;\n",
       "    }\n",
       "\n",
       "    .dataframe thead th {\n",
       "        text-align: right;\n",
       "    }\n",
       "</style>\n",
       "<table border=\"1\" class=\"dataframe\">\n",
       "  <thead>\n",
       "    <tr style=\"text-align: right;\">\n",
       "      <th></th>\n",
       "      <th>headline</th>\n",
       "    </tr>\n",
       "  </thead>\n",
       "  <tbody>\n",
       "    <tr>\n",
       "      <th>0</th>\n",
       "      <td>हाम्रोबारे</td>\n",
       "    </tr>\n",
       "    <tr>\n",
       "      <th>1</th>\n",
       "      <td></td>\n",
       "    </tr>\n",
       "    <tr>\n",
       "      <th>2</th>\n",
       "      <td>भारतबाट फर्कनेमा कोरोनाको सङ्क्रमण देखिँदै</td>\n",
       "    </tr>\n",
       "    <tr>\n",
       "      <th>3</th>\n",
       "      <td>मस्को प्रस्तावित सम्झौतामा ट्वीटरले खर्च गर्‍य...</td>\n",
       "    </tr>\n",
       "    <tr>\n",
       "      <th>4</th>\n",
       "      <td>चीनले नेपालको सीमाछेउ विवादित क्षेत्रमा राजमार...</td>\n",
       "    </tr>\n",
       "    <tr>\n",
       "      <th>...</th>\n",
       "      <td>...</td>\n",
       "    </tr>\n",
       "    <tr>\n",
       "      <th>2271</th>\n",
       "      <td>चोरी अमेरिका पुरयाइएको टुँडाल फर्काइयो</td>\n",
       "    </tr>\n",
       "    <tr>\n",
       "      <th>2272</th>\n",
       "      <td>चलचित्र ‘म’को ट्रेलर सार्वजनिक</td>\n",
       "    </tr>\n",
       "    <tr>\n",
       "      <th>2273</th>\n",
       "      <td>फिल्म ‘माइकल अधिकारी’को ट्रेलर सार्वजनिक</td>\n",
       "    </tr>\n",
       "    <tr>\n",
       "      <th>2274</th>\n",
       "      <td>गोल्डेन ओक १२औं कृति अवार्ड २६ भदौमा</td>\n",
       "    </tr>\n",
       "    <tr>\n",
       "      <th>2275</th>\n",
       "      <td>Quick navigation</td>\n",
       "    </tr>\n",
       "  </tbody>\n",
       "</table>\n",
       "<p>2276 rows × 1 columns</p>\n",
       "</div>"
      ],
      "text/plain": [
       "                                               headline\n",
       "0                                            हाम्रोबारे\n",
       "1                                                      \n",
       "2            भारतबाट फर्कनेमा कोरोनाको सङ्क्रमण देखिँदै\n",
       "3     मस्को प्रस्तावित सम्झौतामा ट्वीटरले खर्च गर्‍य...\n",
       "4     चीनले नेपालको सीमाछेउ विवादित क्षेत्रमा राजमार...\n",
       "...                                                 ...\n",
       "2271             चोरी अमेरिका पुरयाइएको टुँडाल फर्काइयो\n",
       "2272                     चलचित्र ‘म’को ट्रेलर सार्वजनिक\n",
       "2273           फिल्म ‘माइकल अधिकारी’को ट्रेलर सार्वजनिक\n",
       "2274               गोल्डेन ओक १२औं कृति अवार्ड २६ भदौमा\n",
       "2275                                   Quick navigation\n",
       "\n",
       "[2276 rows x 1 columns]"
      ]
     },
     "execution_count": 14,
     "metadata": {},
     "output_type": "execute_result"
    }
   ],
   "source": [
    "df.drop_duplicates(subset=None, keep='first', inplace=False, ignore_index=True)"
   ]
  },
  {
   "cell_type": "code",
   "execution_count": 15,
   "id": "ea5c169a",
   "metadata": {
    "scrolled": true
   },
   "outputs": [
    {
     "data": {
      "text/html": [
       "<div>\n",
       "<style scoped>\n",
       "    .dataframe tbody tr th:only-of-type {\n",
       "        vertical-align: middle;\n",
       "    }\n",
       "\n",
       "    .dataframe tbody tr th {\n",
       "        vertical-align: top;\n",
       "    }\n",
       "\n",
       "    .dataframe thead th {\n",
       "        text-align: right;\n",
       "    }\n",
       "</style>\n",
       "<table border=\"1\" class=\"dataframe\">\n",
       "  <thead>\n",
       "    <tr style=\"text-align: right;\">\n",
       "      <th></th>\n",
       "      <th>headline</th>\n",
       "      <th>head_token</th>\n",
       "    </tr>\n",
       "  </thead>\n",
       "  <tbody>\n",
       "    <tr>\n",
       "      <th>0</th>\n",
       "      <td>हाम्रोबारे</td>\n",
       "      <td>[हाम्रोबारे]</td>\n",
       "    </tr>\n",
       "    <tr>\n",
       "      <th>1</th>\n",
       "      <td></td>\n",
       "      <td>[]</td>\n",
       "    </tr>\n",
       "    <tr>\n",
       "      <th>2</th>\n",
       "      <td></td>\n",
       "      <td>[]</td>\n",
       "    </tr>\n",
       "    <tr>\n",
       "      <th>3</th>\n",
       "      <td></td>\n",
       "      <td>[]</td>\n",
       "    </tr>\n",
       "    <tr>\n",
       "      <th>4</th>\n",
       "      <td>भारतबाट फर्कनेमा कोरोनाको सङ्क्रमण देखिँदै</td>\n",
       "      <td>[भारतबाट, फर्कनेमा, कोरोनाको, सङ्क्रमण, देखिँदै]</td>\n",
       "    </tr>\n",
       "    <tr>\n",
       "      <th>5</th>\n",
       "      <td>मस्को प्रस्तावित सम्झौतामा ट्वीटरले खर्च गर्‍य...</td>\n",
       "      <td>[मस्को, प्रस्तावित, सम्झौतामा, ट्वीटरले, खर्च,...</td>\n",
       "    </tr>\n",
       "    <tr>\n",
       "      <th>6</th>\n",
       "      <td>भारतबाट फर्कनेमा कोरोनाको सङ्क्रमण देखिँदै</td>\n",
       "      <td>[भारतबाट, फर्कनेमा, कोरोनाको, सङ्क्रमण, देखिँदै]</td>\n",
       "    </tr>\n",
       "    <tr>\n",
       "      <th>7</th>\n",
       "      <td>चीनले नेपालको सीमाछेउ विवादित क्षेत्रमा राजमार...</td>\n",
       "      <td>[चीनले, नेपालको, सीमाछेउ, विवादित, क्षेत्रमा, ...</td>\n",
       "    </tr>\n",
       "    <tr>\n",
       "      <th>8</th>\n",
       "      <td>रुपन्देहीमा सातामा ट्रक कपडा बरामद, प्रहरी छाड...</td>\n",
       "      <td>[रुपन्देहीमा, सातामा, ट्रक, कपडा, बरामद, ,, प्...</td>\n",
       "    </tr>\n",
       "    <tr>\n",
       "      <th>9</th>\n",
       "      <td>गाँजाको बोट नष्ट तनहुँ प्रहरी</td>\n",
       "      <td>[गाँजाको, बोट, नष्ट, तनहुँ, प्रहरी]</td>\n",
       "    </tr>\n",
       "  </tbody>\n",
       "</table>\n",
       "</div>"
      ],
      "text/plain": [
       "                                            headline  \\\n",
       "0                                         हाम्रोबारे   \n",
       "1                                                      \n",
       "2                                                      \n",
       "3                                                      \n",
       "4         भारतबाट फर्कनेमा कोरोनाको सङ्क्रमण देखिँदै   \n",
       "5  मस्को प्रस्तावित सम्झौतामा ट्वीटरले खर्च गर्‍य...   \n",
       "6         भारतबाट फर्कनेमा कोरोनाको सङ्क्रमण देखिँदै   \n",
       "7  चीनले नेपालको सीमाछेउ विवादित क्षेत्रमा राजमार...   \n",
       "8  रुपन्देहीमा सातामा ट्रक कपडा बरामद, प्रहरी छाड...   \n",
       "9                      गाँजाको बोट नष्ट तनहुँ प्रहरी   \n",
       "\n",
       "                                          head_token  \n",
       "0                                       [हाम्रोबारे]  \n",
       "1                                                 []  \n",
       "2                                                 []  \n",
       "3                                                 []  \n",
       "4   [भारतबाट, फर्कनेमा, कोरोनाको, सङ्क्रमण, देखिँदै]  \n",
       "5  [मस्को, प्रस्तावित, सम्झौतामा, ट्वीटरले, खर्च,...  \n",
       "6   [भारतबाट, फर्कनेमा, कोरोनाको, सङ्क्रमण, देखिँदै]  \n",
       "7  [चीनले, नेपालको, सीमाछेउ, विवादित, क्षेत्रमा, ...  \n",
       "8  [रुपन्देहीमा, सातामा, ट्रक, कपडा, बरामद, ,, प्...  \n",
       "9                [गाँजाको, बोट, नष्ट, तनहुँ, प्रहरी]  "
      ]
     },
     "execution_count": 15,
     "metadata": {},
     "output_type": "execute_result"
    }
   ],
   "source": [
    "import nltk\n",
    "from nltk.tokenize import word_tokenize\n",
    "df['head_token']=df['headline'].apply(word_tokenize)\n",
    "df.head(10)"
   ]
  },
  {
   "cell_type": "code",
   "execution_count": null,
   "id": "fecb93f7",
   "metadata": {
    "scrolled": true
   },
   "outputs": [],
   "source": [
    "#df.drop(columns = ['headline'])"
   ]
  },
  {
   "cell_type": "code",
   "execution_count": 16,
   "id": "1b485fda",
   "metadata": {},
   "outputs": [],
   "source": [
    "df = df.drop([0, 1, 2, 3])"
   ]
  },
  {
   "cell_type": "code",
   "execution_count": 17,
   "id": "fd65aeb4",
   "metadata": {
    "scrolled": true
   },
   "outputs": [
    {
     "data": {
      "text/html": [
       "<div>\n",
       "<style scoped>\n",
       "    .dataframe tbody tr th:only-of-type {\n",
       "        vertical-align: middle;\n",
       "    }\n",
       "\n",
       "    .dataframe tbody tr th {\n",
       "        vertical-align: top;\n",
       "    }\n",
       "\n",
       "    .dataframe thead th {\n",
       "        text-align: right;\n",
       "    }\n",
       "</style>\n",
       "<table border=\"1\" class=\"dataframe\">\n",
       "  <thead>\n",
       "    <tr style=\"text-align: right;\">\n",
       "      <th></th>\n",
       "      <th>headline</th>\n",
       "      <th>head_token</th>\n",
       "    </tr>\n",
       "  </thead>\n",
       "  <tbody>\n",
       "    <tr>\n",
       "      <th>4</th>\n",
       "      <td>भारतबाट फर्कनेमा कोरोनाको सङ्क्रमण देखिँदै</td>\n",
       "      <td>[भारतबाट, फर्कनेमा, कोरोनाको, सङ्क्रमण, देखिँदै]</td>\n",
       "    </tr>\n",
       "    <tr>\n",
       "      <th>5</th>\n",
       "      <td>मस्को प्रस्तावित सम्झौतामा ट्वीटरले खर्च गर्‍य...</td>\n",
       "      <td>[मस्को, प्रस्तावित, सम्झौतामा, ट्वीटरले, खर्च,...</td>\n",
       "    </tr>\n",
       "    <tr>\n",
       "      <th>6</th>\n",
       "      <td>भारतबाट फर्कनेमा कोरोनाको सङ्क्रमण देखिँदै</td>\n",
       "      <td>[भारतबाट, फर्कनेमा, कोरोनाको, सङ्क्रमण, देखिँदै]</td>\n",
       "    </tr>\n",
       "    <tr>\n",
       "      <th>7</th>\n",
       "      <td>चीनले नेपालको सीमाछेउ विवादित क्षेत्रमा राजमार...</td>\n",
       "      <td>[चीनले, नेपालको, सीमाछेउ, विवादित, क्षेत्रमा, ...</td>\n",
       "    </tr>\n",
       "    <tr>\n",
       "      <th>8</th>\n",
       "      <td>रुपन्देहीमा सातामा ट्रक कपडा बरामद, प्रहरी छाड...</td>\n",
       "      <td>[रुपन्देहीमा, सातामा, ट्रक, कपडा, बरामद, ,, प्...</td>\n",
       "    </tr>\n",
       "  </tbody>\n",
       "</table>\n",
       "</div>"
      ],
      "text/plain": [
       "                                            headline  \\\n",
       "4         भारतबाट फर्कनेमा कोरोनाको सङ्क्रमण देखिँदै   \n",
       "5  मस्को प्रस्तावित सम्झौतामा ट्वीटरले खर्च गर्‍य...   \n",
       "6         भारतबाट फर्कनेमा कोरोनाको सङ्क्रमण देखिँदै   \n",
       "7  चीनले नेपालको सीमाछेउ विवादित क्षेत्रमा राजमार...   \n",
       "8  रुपन्देहीमा सातामा ट्रक कपडा बरामद, प्रहरी छाड...   \n",
       "\n",
       "                                          head_token  \n",
       "4   [भारतबाट, फर्कनेमा, कोरोनाको, सङ्क्रमण, देखिँदै]  \n",
       "5  [मस्को, प्रस्तावित, सम्झौतामा, ट्वीटरले, खर्च,...  \n",
       "6   [भारतबाट, फर्कनेमा, कोरोनाको, सङ्क्रमण, देखिँदै]  \n",
       "7  [चीनले, नेपालको, सीमाछेउ, विवादित, क्षेत्रमा, ...  \n",
       "8  [रुपन्देहीमा, सातामा, ट्रक, कपडा, बरामद, ,, प्...  "
      ]
     },
     "execution_count": 17,
     "metadata": {},
     "output_type": "execute_result"
    }
   ],
   "source": [
    "df.head()"
   ]
  },
  {
   "cell_type": "code",
   "execution_count": 18,
   "id": "d33e8012",
   "metadata": {},
   "outputs": [],
   "source": [
    "df['head_token'] = df['head_token'].apply(lambda x: [item for item in x if item not in nepali_stopwords])"
   ]
  },
  {
   "cell_type": "code",
   "execution_count": 19,
   "id": "8d3c6340",
   "metadata": {
    "scrolled": true
   },
   "outputs": [
    {
     "data": {
      "text/html": [
       "<div>\n",
       "<style scoped>\n",
       "    .dataframe tbody tr th:only-of-type {\n",
       "        vertical-align: middle;\n",
       "    }\n",
       "\n",
       "    .dataframe tbody tr th {\n",
       "        vertical-align: top;\n",
       "    }\n",
       "\n",
       "    .dataframe thead th {\n",
       "        text-align: right;\n",
       "    }\n",
       "</style>\n",
       "<table border=\"1\" class=\"dataframe\">\n",
       "  <thead>\n",
       "    <tr style=\"text-align: right;\">\n",
       "      <th></th>\n",
       "      <th>headline</th>\n",
       "      <th>head_token</th>\n",
       "    </tr>\n",
       "  </thead>\n",
       "  <tbody>\n",
       "    <tr>\n",
       "      <th>4</th>\n",
       "      <td>भारतबाट फर्कनेमा कोरोनाको सङ्क्रमण देखिँदै</td>\n",
       "      <td>[भारतबाट, फर्कनेमा, कोरोनाको, सङ्क्रमण, देखिँदै]</td>\n",
       "    </tr>\n",
       "    <tr>\n",
       "      <th>5</th>\n",
       "      <td>मस्को प्रस्तावित सम्झौतामा ट्वीटरले खर्च गर्‍य...</td>\n",
       "      <td>[मस्को, प्रस्तावित, सम्झौतामा, ट्वीटरले, खर्च,...</td>\n",
       "    </tr>\n",
       "    <tr>\n",
       "      <th>6</th>\n",
       "      <td>भारतबाट फर्कनेमा कोरोनाको सङ्क्रमण देखिँदै</td>\n",
       "      <td>[भारतबाट, फर्कनेमा, कोरोनाको, सङ्क्रमण, देखिँदै]</td>\n",
       "    </tr>\n",
       "    <tr>\n",
       "      <th>7</th>\n",
       "      <td>चीनले नेपालको सीमाछेउ विवादित क्षेत्रमा राजमार...</td>\n",
       "      <td>[चीनले, नेपालको, सीमाछेउ, विवादित, क्षेत्रमा, ...</td>\n",
       "    </tr>\n",
       "    <tr>\n",
       "      <th>8</th>\n",
       "      <td>रुपन्देहीमा सातामा ट्रक कपडा बरामद, प्रहरी छाड...</td>\n",
       "      <td>[रुपन्देहीमा, सातामा, ट्रक, कपडा, बरामद, ,, प्...</td>\n",
       "    </tr>\n",
       "  </tbody>\n",
       "</table>\n",
       "</div>"
      ],
      "text/plain": [
       "                                            headline  \\\n",
       "4         भारतबाट फर्कनेमा कोरोनाको सङ्क्रमण देखिँदै   \n",
       "5  मस्को प्रस्तावित सम्झौतामा ट्वीटरले खर्च गर्‍य...   \n",
       "6         भारतबाट फर्कनेमा कोरोनाको सङ्क्रमण देखिँदै   \n",
       "7  चीनले नेपालको सीमाछेउ विवादित क्षेत्रमा राजमार...   \n",
       "8  रुपन्देहीमा सातामा ट्रक कपडा बरामद, प्रहरी छाड...   \n",
       "\n",
       "                                          head_token  \n",
       "4   [भारतबाट, फर्कनेमा, कोरोनाको, सङ्क्रमण, देखिँदै]  \n",
       "5  [मस्को, प्रस्तावित, सम्झौतामा, ट्वीटरले, खर्च,...  \n",
       "6   [भारतबाट, फर्कनेमा, कोरोनाको, सङ्क्रमण, देखिँदै]  \n",
       "7  [चीनले, नेपालको, सीमाछेउ, विवादित, क्षेत्रमा, ...  \n",
       "8  [रुपन्देहीमा, सातामा, ट्रक, कपडा, बरामद, ,, प्...  "
      ]
     },
     "execution_count": 19,
     "metadata": {},
     "output_type": "execute_result"
    }
   ],
   "source": [
    "df.head()"
   ]
  },
  {
   "cell_type": "code",
   "execution_count": 20,
   "id": "e364046e",
   "metadata": {},
   "outputs": [],
   "source": [
    "df['head_string'] = df['head_token'].apply(lambda x: ' '.join([item for item in x if len(item)>3]))"
   ]
  },
  {
   "cell_type": "code",
   "execution_count": 21,
   "id": "b33faf6f",
   "metadata": {},
   "outputs": [
    {
     "data": {
      "text/html": [
       "<div>\n",
       "<style scoped>\n",
       "    .dataframe tbody tr th:only-of-type {\n",
       "        vertical-align: middle;\n",
       "    }\n",
       "\n",
       "    .dataframe tbody tr th {\n",
       "        vertical-align: top;\n",
       "    }\n",
       "\n",
       "    .dataframe thead th {\n",
       "        text-align: right;\n",
       "    }\n",
       "</style>\n",
       "<table border=\"1\" class=\"dataframe\">\n",
       "  <thead>\n",
       "    <tr style=\"text-align: right;\">\n",
       "      <th></th>\n",
       "      <th>headline</th>\n",
       "      <th>head_token</th>\n",
       "      <th>head_string</th>\n",
       "    </tr>\n",
       "  </thead>\n",
       "  <tbody>\n",
       "    <tr>\n",
       "      <th>4</th>\n",
       "      <td>भारतबाट फर्कनेमा कोरोनाको सङ्क्रमण देखिँदै</td>\n",
       "      <td>[भारतबाट, फर्कनेमा, कोरोनाको, सङ्क्रमण, देखिँदै]</td>\n",
       "      <td>भारतबाट फर्कनेमा कोरोनाको सङ्क्रमण देखिँदै</td>\n",
       "    </tr>\n",
       "    <tr>\n",
       "      <th>5</th>\n",
       "      <td>मस्को प्रस्तावित सम्झौतामा ट्वीटरले खर्च गर्‍य...</td>\n",
       "      <td>[मस्को, प्रस्तावित, सम्झौतामा, ट्वीटरले, खर्च,...</td>\n",
       "      <td>मस्को प्रस्तावित सम्झौतामा ट्वीटरले खर्च गर्‍य...</td>\n",
       "    </tr>\n",
       "    <tr>\n",
       "      <th>6</th>\n",
       "      <td>भारतबाट फर्कनेमा कोरोनाको सङ्क्रमण देखिँदै</td>\n",
       "      <td>[भारतबाट, फर्कनेमा, कोरोनाको, सङ्क्रमण, देखिँदै]</td>\n",
       "      <td>भारतबाट फर्कनेमा कोरोनाको सङ्क्रमण देखिँदै</td>\n",
       "    </tr>\n",
       "    <tr>\n",
       "      <th>7</th>\n",
       "      <td>चीनले नेपालको सीमाछेउ विवादित क्षेत्रमा राजमार...</td>\n",
       "      <td>[चीनले, नेपालको, सीमाछेउ, विवादित, क्षेत्रमा, ...</td>\n",
       "      <td>चीनले नेपालको सीमाछेउ विवादित क्षेत्रमा राजमार...</td>\n",
       "    </tr>\n",
       "    <tr>\n",
       "      <th>8</th>\n",
       "      <td>रुपन्देहीमा सातामा ट्रक कपडा बरामद, प्रहरी छाड...</td>\n",
       "      <td>[रुपन्देहीमा, सातामा, ट्रक, कपडा, बरामद, ,, प्...</td>\n",
       "      <td>रुपन्देहीमा सातामा ट्रक कपडा बरामद प्रहरी छाड्...</td>\n",
       "    </tr>\n",
       "  </tbody>\n",
       "</table>\n",
       "</div>"
      ],
      "text/plain": [
       "                                            headline  \\\n",
       "4         भारतबाट फर्कनेमा कोरोनाको सङ्क्रमण देखिँदै   \n",
       "5  मस्को प्रस्तावित सम्झौतामा ट्वीटरले खर्च गर्‍य...   \n",
       "6         भारतबाट फर्कनेमा कोरोनाको सङ्क्रमण देखिँदै   \n",
       "7  चीनले नेपालको सीमाछेउ विवादित क्षेत्रमा राजमार...   \n",
       "8  रुपन्देहीमा सातामा ट्रक कपडा बरामद, प्रहरी छाड...   \n",
       "\n",
       "                                          head_token  \\\n",
       "4   [भारतबाट, फर्कनेमा, कोरोनाको, सङ्क्रमण, देखिँदै]   \n",
       "5  [मस्को, प्रस्तावित, सम्झौतामा, ट्वीटरले, खर्च,...   \n",
       "6   [भारतबाट, फर्कनेमा, कोरोनाको, सङ्क्रमण, देखिँदै]   \n",
       "7  [चीनले, नेपालको, सीमाछेउ, विवादित, क्षेत्रमा, ...   \n",
       "8  [रुपन्देहीमा, सातामा, ट्रक, कपडा, बरामद, ,, प्...   \n",
       "\n",
       "                                         head_string  \n",
       "4         भारतबाट फर्कनेमा कोरोनाको सङ्क्रमण देखिँदै  \n",
       "5  मस्को प्रस्तावित सम्झौतामा ट्वीटरले खर्च गर्‍य...  \n",
       "6         भारतबाट फर्कनेमा कोरोनाको सङ्क्रमण देखिँदै  \n",
       "7  चीनले नेपालको सीमाछेउ विवादित क्षेत्रमा राजमार...  \n",
       "8  रुपन्देहीमा सातामा ट्रक कपडा बरामद प्रहरी छाड्...  "
      ]
     },
     "execution_count": 21,
     "metadata": {},
     "output_type": "execute_result"
    }
   ],
   "source": [
    "df.head()"
   ]
  },
  {
   "cell_type": "code",
   "execution_count": 48,
   "id": "2ed550d4",
   "metadata": {},
   "outputs": [],
   "source": [
    "text = ' '.join([word for word in df['head_string']]).replace(\"\\u200d\", \" \")"
   ]
  },
  {
   "cell_type": "code",
   "execution_count": 49,
   "id": "cdf819f2",
   "metadata": {},
   "outputs": [
    {
     "data": {
      "text/plain": [
       "'भारतबाट फर्कनेमा कोरोनाको सङ्क्रमण देखिँदै मस्को प्रस्तावित सम्झौतामा ट्वीटरले खर्च गर् यो मिलियन भारतबाट फर्कनेमा कोरोनाको सङ्क्रमण देखिँदै चीनले नेपालको सीमाछेउ विवादित क्षेत्रमा राजमार्ग बनाउँदै भा'"
      ]
     },
     "execution_count": 49,
     "metadata": {},
     "output_type": "execute_result"
    }
   ],
   "source": [
    "text[0:200]"
   ]
  },
  {
   "cell_type": "code",
   "execution_count": 50,
   "id": "843554ee",
   "metadata": {},
   "outputs": [],
   "source": [
    "tokenized_words = word_tokenize(text)"
   ]
  },
  {
   "cell_type": "code",
   "execution_count": 51,
   "id": "e3ab0d51",
   "metadata": {},
   "outputs": [
    {
     "data": {
      "text/plain": [
       "FreqDist({'२०७९': 148, 'साउन': 66, 'नेपाली': 61, 'मृत्यु': 60, 'नेपाल': 58, 'घोषणा': 52, 'नागरिकता': 47, 'करोड': 41, 'आईतवार': 41, 'कोरोना': 39, ...})"
      ]
     },
     "execution_count": 51,
     "metadata": {},
     "output_type": "execute_result"
    }
   ],
   "source": [
    "from nltk.probability import FreqDist\n",
    "fdist = FreqDist(tokenized_words)\n",
    "fdist"
   ]
  },
  {
   "cell_type": "code",
   "execution_count": 52,
   "id": "ebe26f03",
   "metadata": {
    "scrolled": false
   },
   "outputs": [
    {
     "name": "stdout",
     "output_type": "stream",
     "text": [
      "[('२०७९', 148), ('साउन', 66), ('नेपाली', 61), ('मृत्यु', 60), ('नेपाल', 58), ('घोषणा', 52), ('नागरिकता', 47), ('करोड', 41), ('आईतवार', 41), ('कोरोना', 39), ('मौद्रिक', 39), ('पक्राउ', 37), ('श्रावण,८', 36), ('विधेयक', 35), ('जनाको', 35), ('सार्वजनिक', 35), ('संक्रमण', 33), ('राष्ट्रिय', 32), ('बढ्यो', 31), ('अवस्थामा', 30), ('सरकारको', 29), ('हजार', 28), ('किशोरी', 27), ('फेला', 27), ('तयारी', 27), ('मन्त्री', 26), ('प्रहरी', 25), ('हुँदै', 25), ('सेयर', 25), ('पारित', 24), ('प्रदर्शन', 24), ('भारत', 23), ('पौडेल', 23), ('बैठक', 23), ('विकास', 23), ('महिला', 23), ('जनामा', 23), ('अध्यक्ष', 22), ('बैंकको', 22), ('सरकार', 21), ('प्रचण्ड', 21), ('नेता', 21), ('नीति', 21), ('देशमा', 21), ('प्रतिशत', 21), ('बढ्दै', 20), ('अन्तिम', 20), ('बैंक', 20), ('हत्या', 20), ('सङ्क्रमण', 19), ('विकासका', 19), ('भारतमा', 19), ('कारण', 19), ('भारतीय', 18), ('अभियान', 18), ('वर्षमा', 18), ('अर्ब', 18), ('पुष्टि', 18), ('महिलाको', 18), ('घाइते', 18), ('भ्रमण', 18), ('खर्च', 17), ('झुण्डिएको', 17), ('वितरण', 17), ('सुरु', 17), ('आपतकाल', 17), ('भारतबाट', 16), ('यो', 16), ('बजारमा', 16), ('आईपीओ', 16), ('सुनको', 16), ('मूल्य', 16), ('संक्रमित', 16), ('भेटिए', 16), ('कर्मचारी', 16), ('होइन', 16), ('असार', 16), ('वर्ष', 16), ('थापा', 16), ('भक्तपुरमा', 16), ('पूरा', 15), ('प्रधानमन्त्री', 15), ('फुटबल', 15), ('कार्यक्रम', 15), ('राष्ट्रपति', 15), ('सरकारी', 15), ('प्रतिशतले', 15), ('शनिवार', 15), ('शुक्रवार', 15), ('नाफा', 15), ('घट्यो', 14), ('गठबन्धनको', 14), ('श्रेष्ठ', 14), ('समस्या', 14), ('रुखमा', 14), ('प्रश्न', 14), ('निर्वाचन', 14), ('झापामा', 14), ('फर्कनेमा', 13), ('देखिँदै', 13), ('गर्', 13), ('सम्मेलन', 13), ('सहभागी', 13), ('तयार', 13), ('गभर्नर', 13), ('भुसाल', 13), ('सम्झौता', 13), ('नेपालमा', 13), ('हुँदा', 13), ('पुग्यो', 13), ('डुबेर', 13), ('वैदेशिक', 12), ('सेवा', 12), ('बिरामी', 12), ('स्थानीय', 12), ('सूचना', 12), ('विद्यार्थी', 12), ('विश्वव्यापी', 12), ('रुपैयाँ', 12), ('आर्थिक', 12), ('नीतिले', 12), ('हेर्नुहोस्', 12), ('फिर्ता', 12), ('श्रावण,७', 12), ('क्षेत्रको', 12), ('श्रावण,६', 12), ('नेपालको', 11), ('क्षेत्रमा', 11), ('व्यवस्थित', 11), ('पोखरामा', 11), ('मिति', 11), ('वरिष्ठ', 11), ('यात्रा', 11), ('लघुवित्तले', 11), ('सरकारले', 11), ('अस्पताल', 11), ('लुम्बिनी', 11), ('दैनिक', 11), ('बस्दै', 11), ('एमाले', 11), ('विवाह', 11), ('भेटियो', 11), ('सहयोग', 11), ('विचार', 11), ('अनुभव', 11), ('रेडियो', 11), ('बरामद', 10), ('गाउँ', 10), ('जारी', 10), ('कार्यालय', 10), ('विद्यालयमा', 10), ('घुम्न', 10), ('ल्यायो', 10), ('कांग्रेस', 10), ('गाडी', 10), ('सेन्टर', 10), ('भन्दै', 10), ('कृषि', 10), ('सक्रिय', 10), ('निर्णय', 10), ('वेस्ट', 10), ('विजयी', 10), ('सम्पन्न', 10), ('थाहा', 10), ('काममा', 10), ('सानिमा', 10), ('भएपछि', 10), ('ढलेर', 10), ('टोली', 10), ('परीक्षामा', 10), ('राजनीतिक', 10), ('कोभिड', 10), ('फिल्म', 10), ('बनाउन', 10), ('नक्कली', 10), ('माधव', 10), ('सातामा', 9), ('ट्रक', 9), ('कपडा', 9), ('रोजगारीमा', 9), ('निर्वाचित', 9), ('आउने', 9), ('मंकीपक्सका', 9), ('आबेको', 9), ('पुनः', 9), ('नागरिक', 9), ('अवस्था', 9), ('साढे', 9), ('एमालेको', 9), ('राजस्व', 9), ('प्रस्थान', 9), ('सामाजिक', 9), ('उच्च', 9), ('निर्माणका', 9), ('स्वागत', 9), ('नाकाबाट', 9), ('दिनपछि', 9), ('बनाउने', 9), ('पैसा', 9), ('लघुवित्तको', 9)]  \n"
     ]
    }
   ],
   "source": [
    "print(fdist.most_common(200), \" \")"
   ]
  },
  {
   "cell_type": "code",
   "execution_count": 64,
   "id": "17a6fde1",
   "metadata": {},
   "outputs": [],
   "source": [
    "dff = pd.DataFrame(fdist.items(), columns=['word', 'frequency'])"
   ]
  },
  {
   "cell_type": "code",
   "execution_count": 92,
   "id": "78e8426b",
   "metadata": {},
   "outputs": [],
   "source": [
    "dfftop = dff.sort_values(by = 'frequency', axis=0, ascending=False, inplace=False, kind='quicksort', \n",
    "                na_position='last', ignore_index=False, key=None)"
   ]
  },
  {
   "cell_type": "code",
   "execution_count": 93,
   "id": "5cfdc9ad",
   "metadata": {},
   "outputs": [],
   "source": [
    "import plotly.express as px"
   ]
  },
  {
   "cell_type": "code",
   "execution_count": 96,
   "id": "09d33f62",
   "metadata": {},
   "outputs": [
    {
     "data": {
      "application/vnd.plotly.v1+json": {
       "config": {
        "plotlyServerURL": "https://plot.ly"
       },
       "data": [
        {
         "alignmentgroup": "True",
         "hovertemplate": "word=%{y}<br>frequency=%{x}<extra></extra>",
         "legendgroup": "२०७९",
         "marker": {
          "color": "#636efa",
          "pattern": {
           "shape": ""
          }
         },
         "name": "२०७९",
         "offsetgroup": "२०७९",
         "orientation": "h",
         "showlegend": true,
         "textposition": "auto",
         "type": "bar",
         "x": [
          148
         ],
         "xaxis": "x",
         "y": [
          "२०७९"
         ],
         "yaxis": "y"
        },
        {
         "alignmentgroup": "True",
         "hovertemplate": "word=%{y}<br>frequency=%{x}<extra></extra>",
         "legendgroup": "साउन",
         "marker": {
          "color": "#EF553B",
          "pattern": {
           "shape": ""
          }
         },
         "name": "साउन",
         "offsetgroup": "साउन",
         "orientation": "h",
         "showlegend": true,
         "textposition": "auto",
         "type": "bar",
         "x": [
          66
         ],
         "xaxis": "x",
         "y": [
          "साउन"
         ],
         "yaxis": "y"
        },
        {
         "alignmentgroup": "True",
         "hovertemplate": "word=%{y}<br>frequency=%{x}<extra></extra>",
         "legendgroup": "नेपाली",
         "marker": {
          "color": "#00cc96",
          "pattern": {
           "shape": ""
          }
         },
         "name": "नेपाली",
         "offsetgroup": "नेपाली",
         "orientation": "h",
         "showlegend": true,
         "textposition": "auto",
         "type": "bar",
         "x": [
          61
         ],
         "xaxis": "x",
         "y": [
          "नेपाली"
         ],
         "yaxis": "y"
        },
        {
         "alignmentgroup": "True",
         "hovertemplate": "word=%{y}<br>frequency=%{x}<extra></extra>",
         "legendgroup": "मृत्यु",
         "marker": {
          "color": "#ab63fa",
          "pattern": {
           "shape": ""
          }
         },
         "name": "मृत्यु",
         "offsetgroup": "मृत्यु",
         "orientation": "h",
         "showlegend": true,
         "textposition": "auto",
         "type": "bar",
         "x": [
          60
         ],
         "xaxis": "x",
         "y": [
          "मृत्यु"
         ],
         "yaxis": "y"
        },
        {
         "alignmentgroup": "True",
         "hovertemplate": "word=%{y}<br>frequency=%{x}<extra></extra>",
         "legendgroup": "नेपाल",
         "marker": {
          "color": "#FFA15A",
          "pattern": {
           "shape": ""
          }
         },
         "name": "नेपाल",
         "offsetgroup": "नेपाल",
         "orientation": "h",
         "showlegend": true,
         "textposition": "auto",
         "type": "bar",
         "x": [
          58
         ],
         "xaxis": "x",
         "y": [
          "नेपाल"
         ],
         "yaxis": "y"
        },
        {
         "alignmentgroup": "True",
         "hovertemplate": "word=%{y}<br>frequency=%{x}<extra></extra>",
         "legendgroup": "घोषणा",
         "marker": {
          "color": "#19d3f3",
          "pattern": {
           "shape": ""
          }
         },
         "name": "घोषणा",
         "offsetgroup": "घोषणा",
         "orientation": "h",
         "showlegend": true,
         "textposition": "auto",
         "type": "bar",
         "x": [
          52
         ],
         "xaxis": "x",
         "y": [
          "घोषणा"
         ],
         "yaxis": "y"
        },
        {
         "alignmentgroup": "True",
         "hovertemplate": "word=%{y}<br>frequency=%{x}<extra></extra>",
         "legendgroup": "नागरिकता",
         "marker": {
          "color": "#FF6692",
          "pattern": {
           "shape": ""
          }
         },
         "name": "नागरिकता",
         "offsetgroup": "नागरिकता",
         "orientation": "h",
         "showlegend": true,
         "textposition": "auto",
         "type": "bar",
         "x": [
          47
         ],
         "xaxis": "x",
         "y": [
          "नागरिकता"
         ],
         "yaxis": "y"
        },
        {
         "alignmentgroup": "True",
         "hovertemplate": "word=%{y}<br>frequency=%{x}<extra></extra>",
         "legendgroup": "आईतवार",
         "marker": {
          "color": "#B6E880",
          "pattern": {
           "shape": ""
          }
         },
         "name": "आईतवार",
         "offsetgroup": "आईतवार",
         "orientation": "h",
         "showlegend": true,
         "textposition": "auto",
         "type": "bar",
         "x": [
          41
         ],
         "xaxis": "x",
         "y": [
          "आईतवार"
         ],
         "yaxis": "y"
        },
        {
         "alignmentgroup": "True",
         "hovertemplate": "word=%{y}<br>frequency=%{x}<extra></extra>",
         "legendgroup": "करोड",
         "marker": {
          "color": "#FF97FF",
          "pattern": {
           "shape": ""
          }
         },
         "name": "करोड",
         "offsetgroup": "करोड",
         "orientation": "h",
         "showlegend": true,
         "textposition": "auto",
         "type": "bar",
         "x": [
          41
         ],
         "xaxis": "x",
         "y": [
          "करोड"
         ],
         "yaxis": "y"
        },
        {
         "alignmentgroup": "True",
         "hovertemplate": "word=%{y}<br>frequency=%{x}<extra></extra>",
         "legendgroup": "कोरोना",
         "marker": {
          "color": "#FECB52",
          "pattern": {
           "shape": ""
          }
         },
         "name": "कोरोना",
         "offsetgroup": "कोरोना",
         "orientation": "h",
         "showlegend": true,
         "textposition": "auto",
         "type": "bar",
         "x": [
          39
         ],
         "xaxis": "x",
         "y": [
          "कोरोना"
         ],
         "yaxis": "y"
        },
        {
         "alignmentgroup": "True",
         "hovertemplate": "word=%{y}<br>frequency=%{x}<extra></extra>",
         "legendgroup": "मौद्रिक",
         "marker": {
          "color": "#636efa",
          "pattern": {
           "shape": ""
          }
         },
         "name": "मौद्रिक",
         "offsetgroup": "मौद्रिक",
         "orientation": "h",
         "showlegend": true,
         "textposition": "auto",
         "type": "bar",
         "x": [
          39
         ],
         "xaxis": "x",
         "y": [
          "मौद्रिक"
         ],
         "yaxis": "y"
        },
        {
         "alignmentgroup": "True",
         "hovertemplate": "word=%{y}<br>frequency=%{x}<extra></extra>",
         "legendgroup": "पक्राउ",
         "marker": {
          "color": "#EF553B",
          "pattern": {
           "shape": ""
          }
         },
         "name": "पक्राउ",
         "offsetgroup": "पक्राउ",
         "orientation": "h",
         "showlegend": true,
         "textposition": "auto",
         "type": "bar",
         "x": [
          37
         ],
         "xaxis": "x",
         "y": [
          "पक्राउ"
         ],
         "yaxis": "y"
        },
        {
         "alignmentgroup": "True",
         "hovertemplate": "word=%{y}<br>frequency=%{x}<extra></extra>",
         "legendgroup": "श्रावण,८",
         "marker": {
          "color": "#00cc96",
          "pattern": {
           "shape": ""
          }
         },
         "name": "श्रावण,८",
         "offsetgroup": "श्रावण,८",
         "orientation": "h",
         "showlegend": true,
         "textposition": "auto",
         "type": "bar",
         "x": [
          36
         ],
         "xaxis": "x",
         "y": [
          "श्रावण,८"
         ],
         "yaxis": "y"
        },
        {
         "alignmentgroup": "True",
         "hovertemplate": "word=%{y}<br>frequency=%{x}<extra></extra>",
         "legendgroup": "सार्वजनिक",
         "marker": {
          "color": "#ab63fa",
          "pattern": {
           "shape": ""
          }
         },
         "name": "सार्वजनिक",
         "offsetgroup": "सार्वजनिक",
         "orientation": "h",
         "showlegend": true,
         "textposition": "auto",
         "type": "bar",
         "x": [
          35
         ],
         "xaxis": "x",
         "y": [
          "सार्वजनिक"
         ],
         "yaxis": "y"
        },
        {
         "alignmentgroup": "True",
         "hovertemplate": "word=%{y}<br>frequency=%{x}<extra></extra>",
         "legendgroup": "विधेयक",
         "marker": {
          "color": "#FFA15A",
          "pattern": {
           "shape": ""
          }
         },
         "name": "विधेयक",
         "offsetgroup": "विधेयक",
         "orientation": "h",
         "showlegend": true,
         "textposition": "auto",
         "type": "bar",
         "x": [
          35
         ],
         "xaxis": "x",
         "y": [
          "विधेयक"
         ],
         "yaxis": "y"
        },
        {
         "alignmentgroup": "True",
         "hovertemplate": "word=%{y}<br>frequency=%{x}<extra></extra>",
         "legendgroup": "जनाको",
         "marker": {
          "color": "#19d3f3",
          "pattern": {
           "shape": ""
          }
         },
         "name": "जनाको",
         "offsetgroup": "जनाको",
         "orientation": "h",
         "showlegend": true,
         "textposition": "auto",
         "type": "bar",
         "x": [
          35
         ],
         "xaxis": "x",
         "y": [
          "जनाको"
         ],
         "yaxis": "y"
        },
        {
         "alignmentgroup": "True",
         "hovertemplate": "word=%{y}<br>frequency=%{x}<extra></extra>",
         "legendgroup": "संक्रमण",
         "marker": {
          "color": "#FF6692",
          "pattern": {
           "shape": ""
          }
         },
         "name": "संक्रमण",
         "offsetgroup": "संक्रमण",
         "orientation": "h",
         "showlegend": true,
         "textposition": "auto",
         "type": "bar",
         "x": [
          33
         ],
         "xaxis": "x",
         "y": [
          "संक्रमण"
         ],
         "yaxis": "y"
        },
        {
         "alignmentgroup": "True",
         "hovertemplate": "word=%{y}<br>frequency=%{x}<extra></extra>",
         "legendgroup": "राष्ट्रिय",
         "marker": {
          "color": "#B6E880",
          "pattern": {
           "shape": ""
          }
         },
         "name": "राष्ट्रिय",
         "offsetgroup": "राष्ट्रिय",
         "orientation": "h",
         "showlegend": true,
         "textposition": "auto",
         "type": "bar",
         "x": [
          32
         ],
         "xaxis": "x",
         "y": [
          "राष्ट्रिय"
         ],
         "yaxis": "y"
        },
        {
         "alignmentgroup": "True",
         "hovertemplate": "word=%{y}<br>frequency=%{x}<extra></extra>",
         "legendgroup": "बढ्यो",
         "marker": {
          "color": "#FF97FF",
          "pattern": {
           "shape": ""
          }
         },
         "name": "बढ्यो",
         "offsetgroup": "बढ्यो",
         "orientation": "h",
         "showlegend": true,
         "textposition": "auto",
         "type": "bar",
         "x": [
          31
         ],
         "xaxis": "x",
         "y": [
          "बढ्यो"
         ],
         "yaxis": "y"
        },
        {
         "alignmentgroup": "True",
         "hovertemplate": "word=%{y}<br>frequency=%{x}<extra></extra>",
         "legendgroup": "अवस्थामा",
         "marker": {
          "color": "#FECB52",
          "pattern": {
           "shape": ""
          }
         },
         "name": "अवस्थामा",
         "offsetgroup": "अवस्थामा",
         "orientation": "h",
         "showlegend": true,
         "textposition": "auto",
         "type": "bar",
         "x": [
          30
         ],
         "xaxis": "x",
         "y": [
          "अवस्थामा"
         ],
         "yaxis": "y"
        }
       ],
       "layout": {
        "barmode": "relative",
        "height": 500,
        "legend": {
         "title": {
          "text": "word"
         },
         "tracegroupgap": 0
        },
        "margin": {
         "t": 60
        },
        "template": {
         "data": {
          "bar": [
           {
            "error_x": {
             "color": "#2a3f5f"
            },
            "error_y": {
             "color": "#2a3f5f"
            },
            "marker": {
             "line": {
              "color": "#E5ECF6",
              "width": 0.5
             },
             "pattern": {
              "fillmode": "overlay",
              "size": 10,
              "solidity": 0.2
             }
            },
            "type": "bar"
           }
          ],
          "barpolar": [
           {
            "marker": {
             "line": {
              "color": "#E5ECF6",
              "width": 0.5
             },
             "pattern": {
              "fillmode": "overlay",
              "size": 10,
              "solidity": 0.2
             }
            },
            "type": "barpolar"
           }
          ],
          "carpet": [
           {
            "aaxis": {
             "endlinecolor": "#2a3f5f",
             "gridcolor": "white",
             "linecolor": "white",
             "minorgridcolor": "white",
             "startlinecolor": "#2a3f5f"
            },
            "baxis": {
             "endlinecolor": "#2a3f5f",
             "gridcolor": "white",
             "linecolor": "white",
             "minorgridcolor": "white",
             "startlinecolor": "#2a3f5f"
            },
            "type": "carpet"
           }
          ],
          "choropleth": [
           {
            "colorbar": {
             "outlinewidth": 0,
             "ticks": ""
            },
            "type": "choropleth"
           }
          ],
          "contour": [
           {
            "colorbar": {
             "outlinewidth": 0,
             "ticks": ""
            },
            "colorscale": [
             [
              0,
              "#0d0887"
             ],
             [
              0.1111111111111111,
              "#46039f"
             ],
             [
              0.2222222222222222,
              "#7201a8"
             ],
             [
              0.3333333333333333,
              "#9c179e"
             ],
             [
              0.4444444444444444,
              "#bd3786"
             ],
             [
              0.5555555555555556,
              "#d8576b"
             ],
             [
              0.6666666666666666,
              "#ed7953"
             ],
             [
              0.7777777777777778,
              "#fb9f3a"
             ],
             [
              0.8888888888888888,
              "#fdca26"
             ],
             [
              1,
              "#f0f921"
             ]
            ],
            "type": "contour"
           }
          ],
          "contourcarpet": [
           {
            "colorbar": {
             "outlinewidth": 0,
             "ticks": ""
            },
            "type": "contourcarpet"
           }
          ],
          "heatmap": [
           {
            "colorbar": {
             "outlinewidth": 0,
             "ticks": ""
            },
            "colorscale": [
             [
              0,
              "#0d0887"
             ],
             [
              0.1111111111111111,
              "#46039f"
             ],
             [
              0.2222222222222222,
              "#7201a8"
             ],
             [
              0.3333333333333333,
              "#9c179e"
             ],
             [
              0.4444444444444444,
              "#bd3786"
             ],
             [
              0.5555555555555556,
              "#d8576b"
             ],
             [
              0.6666666666666666,
              "#ed7953"
             ],
             [
              0.7777777777777778,
              "#fb9f3a"
             ],
             [
              0.8888888888888888,
              "#fdca26"
             ],
             [
              1,
              "#f0f921"
             ]
            ],
            "type": "heatmap"
           }
          ],
          "heatmapgl": [
           {
            "colorbar": {
             "outlinewidth": 0,
             "ticks": ""
            },
            "colorscale": [
             [
              0,
              "#0d0887"
             ],
             [
              0.1111111111111111,
              "#46039f"
             ],
             [
              0.2222222222222222,
              "#7201a8"
             ],
             [
              0.3333333333333333,
              "#9c179e"
             ],
             [
              0.4444444444444444,
              "#bd3786"
             ],
             [
              0.5555555555555556,
              "#d8576b"
             ],
             [
              0.6666666666666666,
              "#ed7953"
             ],
             [
              0.7777777777777778,
              "#fb9f3a"
             ],
             [
              0.8888888888888888,
              "#fdca26"
             ],
             [
              1,
              "#f0f921"
             ]
            ],
            "type": "heatmapgl"
           }
          ],
          "histogram": [
           {
            "marker": {
             "pattern": {
              "fillmode": "overlay",
              "size": 10,
              "solidity": 0.2
             }
            },
            "type": "histogram"
           }
          ],
          "histogram2d": [
           {
            "colorbar": {
             "outlinewidth": 0,
             "ticks": ""
            },
            "colorscale": [
             [
              0,
              "#0d0887"
             ],
             [
              0.1111111111111111,
              "#46039f"
             ],
             [
              0.2222222222222222,
              "#7201a8"
             ],
             [
              0.3333333333333333,
              "#9c179e"
             ],
             [
              0.4444444444444444,
              "#bd3786"
             ],
             [
              0.5555555555555556,
              "#d8576b"
             ],
             [
              0.6666666666666666,
              "#ed7953"
             ],
             [
              0.7777777777777778,
              "#fb9f3a"
             ],
             [
              0.8888888888888888,
              "#fdca26"
             ],
             [
              1,
              "#f0f921"
             ]
            ],
            "type": "histogram2d"
           }
          ],
          "histogram2dcontour": [
           {
            "colorbar": {
             "outlinewidth": 0,
             "ticks": ""
            },
            "colorscale": [
             [
              0,
              "#0d0887"
             ],
             [
              0.1111111111111111,
              "#46039f"
             ],
             [
              0.2222222222222222,
              "#7201a8"
             ],
             [
              0.3333333333333333,
              "#9c179e"
             ],
             [
              0.4444444444444444,
              "#bd3786"
             ],
             [
              0.5555555555555556,
              "#d8576b"
             ],
             [
              0.6666666666666666,
              "#ed7953"
             ],
             [
              0.7777777777777778,
              "#fb9f3a"
             ],
             [
              0.8888888888888888,
              "#fdca26"
             ],
             [
              1,
              "#f0f921"
             ]
            ],
            "type": "histogram2dcontour"
           }
          ],
          "mesh3d": [
           {
            "colorbar": {
             "outlinewidth": 0,
             "ticks": ""
            },
            "type": "mesh3d"
           }
          ],
          "parcoords": [
           {
            "line": {
             "colorbar": {
              "outlinewidth": 0,
              "ticks": ""
             }
            },
            "type": "parcoords"
           }
          ],
          "pie": [
           {
            "automargin": true,
            "type": "pie"
           }
          ],
          "scatter": [
           {
            "fillpattern": {
             "fillmode": "overlay",
             "size": 10,
             "solidity": 0.2
            },
            "type": "scatter"
           }
          ],
          "scatter3d": [
           {
            "line": {
             "colorbar": {
              "outlinewidth": 0,
              "ticks": ""
             }
            },
            "marker": {
             "colorbar": {
              "outlinewidth": 0,
              "ticks": ""
             }
            },
            "type": "scatter3d"
           }
          ],
          "scattercarpet": [
           {
            "marker": {
             "colorbar": {
              "outlinewidth": 0,
              "ticks": ""
             }
            },
            "type": "scattercarpet"
           }
          ],
          "scattergeo": [
           {
            "marker": {
             "colorbar": {
              "outlinewidth": 0,
              "ticks": ""
             }
            },
            "type": "scattergeo"
           }
          ],
          "scattergl": [
           {
            "marker": {
             "colorbar": {
              "outlinewidth": 0,
              "ticks": ""
             }
            },
            "type": "scattergl"
           }
          ],
          "scattermapbox": [
           {
            "marker": {
             "colorbar": {
              "outlinewidth": 0,
              "ticks": ""
             }
            },
            "type": "scattermapbox"
           }
          ],
          "scatterpolar": [
           {
            "marker": {
             "colorbar": {
              "outlinewidth": 0,
              "ticks": ""
             }
            },
            "type": "scatterpolar"
           }
          ],
          "scatterpolargl": [
           {
            "marker": {
             "colorbar": {
              "outlinewidth": 0,
              "ticks": ""
             }
            },
            "type": "scatterpolargl"
           }
          ],
          "scatterternary": [
           {
            "marker": {
             "colorbar": {
              "outlinewidth": 0,
              "ticks": ""
             }
            },
            "type": "scatterternary"
           }
          ],
          "surface": [
           {
            "colorbar": {
             "outlinewidth": 0,
             "ticks": ""
            },
            "colorscale": [
             [
              0,
              "#0d0887"
             ],
             [
              0.1111111111111111,
              "#46039f"
             ],
             [
              0.2222222222222222,
              "#7201a8"
             ],
             [
              0.3333333333333333,
              "#9c179e"
             ],
             [
              0.4444444444444444,
              "#bd3786"
             ],
             [
              0.5555555555555556,
              "#d8576b"
             ],
             [
              0.6666666666666666,
              "#ed7953"
             ],
             [
              0.7777777777777778,
              "#fb9f3a"
             ],
             [
              0.8888888888888888,
              "#fdca26"
             ],
             [
              1,
              "#f0f921"
             ]
            ],
            "type": "surface"
           }
          ],
          "table": [
           {
            "cells": {
             "fill": {
              "color": "#EBF0F8"
             },
             "line": {
              "color": "white"
             }
            },
            "header": {
             "fill": {
              "color": "#C8D4E3"
             },
             "line": {
              "color": "white"
             }
            },
            "type": "table"
           }
          ]
         },
         "layout": {
          "annotationdefaults": {
           "arrowcolor": "#2a3f5f",
           "arrowhead": 0,
           "arrowwidth": 1
          },
          "autotypenumbers": "strict",
          "coloraxis": {
           "colorbar": {
            "outlinewidth": 0,
            "ticks": ""
           }
          },
          "colorscale": {
           "diverging": [
            [
             0,
             "#8e0152"
            ],
            [
             0.1,
             "#c51b7d"
            ],
            [
             0.2,
             "#de77ae"
            ],
            [
             0.3,
             "#f1b6da"
            ],
            [
             0.4,
             "#fde0ef"
            ],
            [
             0.5,
             "#f7f7f7"
            ],
            [
             0.6,
             "#e6f5d0"
            ],
            [
             0.7,
             "#b8e186"
            ],
            [
             0.8,
             "#7fbc41"
            ],
            [
             0.9,
             "#4d9221"
            ],
            [
             1,
             "#276419"
            ]
           ],
           "sequential": [
            [
             0,
             "#0d0887"
            ],
            [
             0.1111111111111111,
             "#46039f"
            ],
            [
             0.2222222222222222,
             "#7201a8"
            ],
            [
             0.3333333333333333,
             "#9c179e"
            ],
            [
             0.4444444444444444,
             "#bd3786"
            ],
            [
             0.5555555555555556,
             "#d8576b"
            ],
            [
             0.6666666666666666,
             "#ed7953"
            ],
            [
             0.7777777777777778,
             "#fb9f3a"
            ],
            [
             0.8888888888888888,
             "#fdca26"
            ],
            [
             1,
             "#f0f921"
            ]
           ],
           "sequentialminus": [
            [
             0,
             "#0d0887"
            ],
            [
             0.1111111111111111,
             "#46039f"
            ],
            [
             0.2222222222222222,
             "#7201a8"
            ],
            [
             0.3333333333333333,
             "#9c179e"
            ],
            [
             0.4444444444444444,
             "#bd3786"
            ],
            [
             0.5555555555555556,
             "#d8576b"
            ],
            [
             0.6666666666666666,
             "#ed7953"
            ],
            [
             0.7777777777777778,
             "#fb9f3a"
            ],
            [
             0.8888888888888888,
             "#fdca26"
            ],
            [
             1,
             "#f0f921"
            ]
           ]
          },
          "colorway": [
           "#636efa",
           "#EF553B",
           "#00cc96",
           "#ab63fa",
           "#FFA15A",
           "#19d3f3",
           "#FF6692",
           "#B6E880",
           "#FF97FF",
           "#FECB52"
          ],
          "font": {
           "color": "#2a3f5f"
          },
          "geo": {
           "bgcolor": "white",
           "lakecolor": "white",
           "landcolor": "#E5ECF6",
           "showlakes": true,
           "showland": true,
           "subunitcolor": "white"
          },
          "hoverlabel": {
           "align": "left"
          },
          "hovermode": "closest",
          "mapbox": {
           "style": "light"
          },
          "paper_bgcolor": "white",
          "plot_bgcolor": "#E5ECF6",
          "polar": {
           "angularaxis": {
            "gridcolor": "white",
            "linecolor": "white",
            "ticks": ""
           },
           "bgcolor": "#E5ECF6",
           "radialaxis": {
            "gridcolor": "white",
            "linecolor": "white",
            "ticks": ""
           }
          },
          "scene": {
           "xaxis": {
            "backgroundcolor": "#E5ECF6",
            "gridcolor": "white",
            "gridwidth": 2,
            "linecolor": "white",
            "showbackground": true,
            "ticks": "",
            "zerolinecolor": "white"
           },
           "yaxis": {
            "backgroundcolor": "#E5ECF6",
            "gridcolor": "white",
            "gridwidth": 2,
            "linecolor": "white",
            "showbackground": true,
            "ticks": "",
            "zerolinecolor": "white"
           },
           "zaxis": {
            "backgroundcolor": "#E5ECF6",
            "gridcolor": "white",
            "gridwidth": 2,
            "linecolor": "white",
            "showbackground": true,
            "ticks": "",
            "zerolinecolor": "white"
           }
          },
          "shapedefaults": {
           "line": {
            "color": "#2a3f5f"
           }
          },
          "ternary": {
           "aaxis": {
            "gridcolor": "white",
            "linecolor": "white",
            "ticks": ""
           },
           "baxis": {
            "gridcolor": "white",
            "linecolor": "white",
            "ticks": ""
           },
           "bgcolor": "#E5ECF6",
           "caxis": {
            "gridcolor": "white",
            "linecolor": "white",
            "ticks": ""
           }
          },
          "title": {
           "x": 0.05
          },
          "xaxis": {
           "automargin": true,
           "gridcolor": "white",
           "linecolor": "white",
           "ticks": "",
           "title": {
            "standoff": 15
           },
           "zerolinecolor": "white",
           "zerolinewidth": 2
          },
          "yaxis": {
           "automargin": true,
           "gridcolor": "white",
           "linecolor": "white",
           "ticks": "",
           "title": {
            "standoff": 15
           },
           "zerolinecolor": "white",
           "zerolinewidth": 2
          }
         }
        },
        "xaxis": {
         "anchor": "y",
         "domain": [
          0,
          1
         ],
         "title": {
          "text": "frequency"
         }
        },
        "yaxis": {
         "anchor": "x",
         "categoryarray": [
          "अवस्थामा",
          "बढ्यो",
          "राष्ट्रिय",
          "संक्रमण",
          "जनाको",
          "विधेयक",
          "सार्वजनिक",
          "श्रावण,८",
          "पक्राउ",
          "मौद्रिक",
          "कोरोना",
          "करोड",
          "आईतवार",
          "नागरिकता",
          "घोषणा",
          "नेपाल",
          "मृत्यु",
          "नेपाली",
          "साउन",
          "२०७९"
         ],
         "categoryorder": "array",
         "domain": [
          0,
          1
         ],
         "title": {
          "text": "word"
         }
        }
       }
      },
      "text/html": [
       "<div>                            <div id=\"662a749e-1528-4c49-937e-9d79f985b199\" class=\"plotly-graph-div\" style=\"height:500px; width:100%;\"></div>            <script type=\"text/javascript\">                require([\"plotly\"], function(Plotly) {                    window.PLOTLYENV=window.PLOTLYENV || {};                                    if (document.getElementById(\"662a749e-1528-4c49-937e-9d79f985b199\")) {                    Plotly.newPlot(                        \"662a749e-1528-4c49-937e-9d79f985b199\",                        [{\"alignmentgroup\":\"True\",\"hovertemplate\":\"word=%{y}<br>frequency=%{x}<extra></extra>\",\"legendgroup\":\"\\u0968\\u0966\\u096d\\u096f\",\"marker\":{\"color\":\"#636efa\",\"pattern\":{\"shape\":\"\"}},\"name\":\"\\u0968\\u0966\\u096d\\u096f\",\"offsetgroup\":\"\\u0968\\u0966\\u096d\\u096f\",\"orientation\":\"h\",\"showlegend\":true,\"textposition\":\"auto\",\"x\":[148],\"xaxis\":\"x\",\"y\":[\"\\u0968\\u0966\\u096d\\u096f\"],\"yaxis\":\"y\",\"type\":\"bar\"},{\"alignmentgroup\":\"True\",\"hovertemplate\":\"word=%{y}<br>frequency=%{x}<extra></extra>\",\"legendgroup\":\"\\u0938\\u093e\\u0909\\u0928\",\"marker\":{\"color\":\"#EF553B\",\"pattern\":{\"shape\":\"\"}},\"name\":\"\\u0938\\u093e\\u0909\\u0928\",\"offsetgroup\":\"\\u0938\\u093e\\u0909\\u0928\",\"orientation\":\"h\",\"showlegend\":true,\"textposition\":\"auto\",\"x\":[66],\"xaxis\":\"x\",\"y\":[\"\\u0938\\u093e\\u0909\\u0928\"],\"yaxis\":\"y\",\"type\":\"bar\"},{\"alignmentgroup\":\"True\",\"hovertemplate\":\"word=%{y}<br>frequency=%{x}<extra></extra>\",\"legendgroup\":\"\\u0928\\u0947\\u092a\\u093e\\u0932\\u0940\",\"marker\":{\"color\":\"#00cc96\",\"pattern\":{\"shape\":\"\"}},\"name\":\"\\u0928\\u0947\\u092a\\u093e\\u0932\\u0940\",\"offsetgroup\":\"\\u0928\\u0947\\u092a\\u093e\\u0932\\u0940\",\"orientation\":\"h\",\"showlegend\":true,\"textposition\":\"auto\",\"x\":[61],\"xaxis\":\"x\",\"y\":[\"\\u0928\\u0947\\u092a\\u093e\\u0932\\u0940\"],\"yaxis\":\"y\",\"type\":\"bar\"},{\"alignmentgroup\":\"True\",\"hovertemplate\":\"word=%{y}<br>frequency=%{x}<extra></extra>\",\"legendgroup\":\"\\u092e\\u0943\\u0924\\u094d\\u092f\\u0941\",\"marker\":{\"color\":\"#ab63fa\",\"pattern\":{\"shape\":\"\"}},\"name\":\"\\u092e\\u0943\\u0924\\u094d\\u092f\\u0941\",\"offsetgroup\":\"\\u092e\\u0943\\u0924\\u094d\\u092f\\u0941\",\"orientation\":\"h\",\"showlegend\":true,\"textposition\":\"auto\",\"x\":[60],\"xaxis\":\"x\",\"y\":[\"\\u092e\\u0943\\u0924\\u094d\\u092f\\u0941\"],\"yaxis\":\"y\",\"type\":\"bar\"},{\"alignmentgroup\":\"True\",\"hovertemplate\":\"word=%{y}<br>frequency=%{x}<extra></extra>\",\"legendgroup\":\"\\u0928\\u0947\\u092a\\u093e\\u0932\",\"marker\":{\"color\":\"#FFA15A\",\"pattern\":{\"shape\":\"\"}},\"name\":\"\\u0928\\u0947\\u092a\\u093e\\u0932\",\"offsetgroup\":\"\\u0928\\u0947\\u092a\\u093e\\u0932\",\"orientation\":\"h\",\"showlegend\":true,\"textposition\":\"auto\",\"x\":[58],\"xaxis\":\"x\",\"y\":[\"\\u0928\\u0947\\u092a\\u093e\\u0932\"],\"yaxis\":\"y\",\"type\":\"bar\"},{\"alignmentgroup\":\"True\",\"hovertemplate\":\"word=%{y}<br>frequency=%{x}<extra></extra>\",\"legendgroup\":\"\\u0918\\u094b\\u0937\\u0923\\u093e\",\"marker\":{\"color\":\"#19d3f3\",\"pattern\":{\"shape\":\"\"}},\"name\":\"\\u0918\\u094b\\u0937\\u0923\\u093e\",\"offsetgroup\":\"\\u0918\\u094b\\u0937\\u0923\\u093e\",\"orientation\":\"h\",\"showlegend\":true,\"textposition\":\"auto\",\"x\":[52],\"xaxis\":\"x\",\"y\":[\"\\u0918\\u094b\\u0937\\u0923\\u093e\"],\"yaxis\":\"y\",\"type\":\"bar\"},{\"alignmentgroup\":\"True\",\"hovertemplate\":\"word=%{y}<br>frequency=%{x}<extra></extra>\",\"legendgroup\":\"\\u0928\\u093e\\u0917\\u0930\\u093f\\u0915\\u0924\\u093e\",\"marker\":{\"color\":\"#FF6692\",\"pattern\":{\"shape\":\"\"}},\"name\":\"\\u0928\\u093e\\u0917\\u0930\\u093f\\u0915\\u0924\\u093e\",\"offsetgroup\":\"\\u0928\\u093e\\u0917\\u0930\\u093f\\u0915\\u0924\\u093e\",\"orientation\":\"h\",\"showlegend\":true,\"textposition\":\"auto\",\"x\":[47],\"xaxis\":\"x\",\"y\":[\"\\u0928\\u093e\\u0917\\u0930\\u093f\\u0915\\u0924\\u093e\"],\"yaxis\":\"y\",\"type\":\"bar\"},{\"alignmentgroup\":\"True\",\"hovertemplate\":\"word=%{y}<br>frequency=%{x}<extra></extra>\",\"legendgroup\":\"\\u0906\\u0908\\u0924\\u0935\\u093e\\u0930\",\"marker\":{\"color\":\"#B6E880\",\"pattern\":{\"shape\":\"\"}},\"name\":\"\\u0906\\u0908\\u0924\\u0935\\u093e\\u0930\",\"offsetgroup\":\"\\u0906\\u0908\\u0924\\u0935\\u093e\\u0930\",\"orientation\":\"h\",\"showlegend\":true,\"textposition\":\"auto\",\"x\":[41],\"xaxis\":\"x\",\"y\":[\"\\u0906\\u0908\\u0924\\u0935\\u093e\\u0930\"],\"yaxis\":\"y\",\"type\":\"bar\"},{\"alignmentgroup\":\"True\",\"hovertemplate\":\"word=%{y}<br>frequency=%{x}<extra></extra>\",\"legendgroup\":\"\\u0915\\u0930\\u094b\\u0921\",\"marker\":{\"color\":\"#FF97FF\",\"pattern\":{\"shape\":\"\"}},\"name\":\"\\u0915\\u0930\\u094b\\u0921\",\"offsetgroup\":\"\\u0915\\u0930\\u094b\\u0921\",\"orientation\":\"h\",\"showlegend\":true,\"textposition\":\"auto\",\"x\":[41],\"xaxis\":\"x\",\"y\":[\"\\u0915\\u0930\\u094b\\u0921\"],\"yaxis\":\"y\",\"type\":\"bar\"},{\"alignmentgroup\":\"True\",\"hovertemplate\":\"word=%{y}<br>frequency=%{x}<extra></extra>\",\"legendgroup\":\"\\u0915\\u094b\\u0930\\u094b\\u0928\\u093e\",\"marker\":{\"color\":\"#FECB52\",\"pattern\":{\"shape\":\"\"}},\"name\":\"\\u0915\\u094b\\u0930\\u094b\\u0928\\u093e\",\"offsetgroup\":\"\\u0915\\u094b\\u0930\\u094b\\u0928\\u093e\",\"orientation\":\"h\",\"showlegend\":true,\"textposition\":\"auto\",\"x\":[39],\"xaxis\":\"x\",\"y\":[\"\\u0915\\u094b\\u0930\\u094b\\u0928\\u093e\"],\"yaxis\":\"y\",\"type\":\"bar\"},{\"alignmentgroup\":\"True\",\"hovertemplate\":\"word=%{y}<br>frequency=%{x}<extra></extra>\",\"legendgroup\":\"\\u092e\\u094c\\u0926\\u094d\\u0930\\u093f\\u0915\",\"marker\":{\"color\":\"#636efa\",\"pattern\":{\"shape\":\"\"}},\"name\":\"\\u092e\\u094c\\u0926\\u094d\\u0930\\u093f\\u0915\",\"offsetgroup\":\"\\u092e\\u094c\\u0926\\u094d\\u0930\\u093f\\u0915\",\"orientation\":\"h\",\"showlegend\":true,\"textposition\":\"auto\",\"x\":[39],\"xaxis\":\"x\",\"y\":[\"\\u092e\\u094c\\u0926\\u094d\\u0930\\u093f\\u0915\"],\"yaxis\":\"y\",\"type\":\"bar\"},{\"alignmentgroup\":\"True\",\"hovertemplate\":\"word=%{y}<br>frequency=%{x}<extra></extra>\",\"legendgroup\":\"\\u092a\\u0915\\u094d\\u0930\\u093e\\u0909\",\"marker\":{\"color\":\"#EF553B\",\"pattern\":{\"shape\":\"\"}},\"name\":\"\\u092a\\u0915\\u094d\\u0930\\u093e\\u0909\",\"offsetgroup\":\"\\u092a\\u0915\\u094d\\u0930\\u093e\\u0909\",\"orientation\":\"h\",\"showlegend\":true,\"textposition\":\"auto\",\"x\":[37],\"xaxis\":\"x\",\"y\":[\"\\u092a\\u0915\\u094d\\u0930\\u093e\\u0909\"],\"yaxis\":\"y\",\"type\":\"bar\"},{\"alignmentgroup\":\"True\",\"hovertemplate\":\"word=%{y}<br>frequency=%{x}<extra></extra>\",\"legendgroup\":\"\\u0936\\u094d\\u0930\\u093e\\u0935\\u0923,\\u096e\",\"marker\":{\"color\":\"#00cc96\",\"pattern\":{\"shape\":\"\"}},\"name\":\"\\u0936\\u094d\\u0930\\u093e\\u0935\\u0923,\\u096e\",\"offsetgroup\":\"\\u0936\\u094d\\u0930\\u093e\\u0935\\u0923,\\u096e\",\"orientation\":\"h\",\"showlegend\":true,\"textposition\":\"auto\",\"x\":[36],\"xaxis\":\"x\",\"y\":[\"\\u0936\\u094d\\u0930\\u093e\\u0935\\u0923,\\u096e\"],\"yaxis\":\"y\",\"type\":\"bar\"},{\"alignmentgroup\":\"True\",\"hovertemplate\":\"word=%{y}<br>frequency=%{x}<extra></extra>\",\"legendgroup\":\"\\u0938\\u093e\\u0930\\u094d\\u0935\\u091c\\u0928\\u093f\\u0915\",\"marker\":{\"color\":\"#ab63fa\",\"pattern\":{\"shape\":\"\"}},\"name\":\"\\u0938\\u093e\\u0930\\u094d\\u0935\\u091c\\u0928\\u093f\\u0915\",\"offsetgroup\":\"\\u0938\\u093e\\u0930\\u094d\\u0935\\u091c\\u0928\\u093f\\u0915\",\"orientation\":\"h\",\"showlegend\":true,\"textposition\":\"auto\",\"x\":[35],\"xaxis\":\"x\",\"y\":[\"\\u0938\\u093e\\u0930\\u094d\\u0935\\u091c\\u0928\\u093f\\u0915\"],\"yaxis\":\"y\",\"type\":\"bar\"},{\"alignmentgroup\":\"True\",\"hovertemplate\":\"word=%{y}<br>frequency=%{x}<extra></extra>\",\"legendgroup\":\"\\u0935\\u093f\\u0927\\u0947\\u092f\\u0915\",\"marker\":{\"color\":\"#FFA15A\",\"pattern\":{\"shape\":\"\"}},\"name\":\"\\u0935\\u093f\\u0927\\u0947\\u092f\\u0915\",\"offsetgroup\":\"\\u0935\\u093f\\u0927\\u0947\\u092f\\u0915\",\"orientation\":\"h\",\"showlegend\":true,\"textposition\":\"auto\",\"x\":[35],\"xaxis\":\"x\",\"y\":[\"\\u0935\\u093f\\u0927\\u0947\\u092f\\u0915\"],\"yaxis\":\"y\",\"type\":\"bar\"},{\"alignmentgroup\":\"True\",\"hovertemplate\":\"word=%{y}<br>frequency=%{x}<extra></extra>\",\"legendgroup\":\"\\u091c\\u0928\\u093e\\u0915\\u094b\",\"marker\":{\"color\":\"#19d3f3\",\"pattern\":{\"shape\":\"\"}},\"name\":\"\\u091c\\u0928\\u093e\\u0915\\u094b\",\"offsetgroup\":\"\\u091c\\u0928\\u093e\\u0915\\u094b\",\"orientation\":\"h\",\"showlegend\":true,\"textposition\":\"auto\",\"x\":[35],\"xaxis\":\"x\",\"y\":[\"\\u091c\\u0928\\u093e\\u0915\\u094b\"],\"yaxis\":\"y\",\"type\":\"bar\"},{\"alignmentgroup\":\"True\",\"hovertemplate\":\"word=%{y}<br>frequency=%{x}<extra></extra>\",\"legendgroup\":\"\\u0938\\u0902\\u0915\\u094d\\u0930\\u092e\\u0923\",\"marker\":{\"color\":\"#FF6692\",\"pattern\":{\"shape\":\"\"}},\"name\":\"\\u0938\\u0902\\u0915\\u094d\\u0930\\u092e\\u0923\",\"offsetgroup\":\"\\u0938\\u0902\\u0915\\u094d\\u0930\\u092e\\u0923\",\"orientation\":\"h\",\"showlegend\":true,\"textposition\":\"auto\",\"x\":[33],\"xaxis\":\"x\",\"y\":[\"\\u0938\\u0902\\u0915\\u094d\\u0930\\u092e\\u0923\"],\"yaxis\":\"y\",\"type\":\"bar\"},{\"alignmentgroup\":\"True\",\"hovertemplate\":\"word=%{y}<br>frequency=%{x}<extra></extra>\",\"legendgroup\":\"\\u0930\\u093e\\u0937\\u094d\\u091f\\u094d\\u0930\\u093f\\u092f\",\"marker\":{\"color\":\"#B6E880\",\"pattern\":{\"shape\":\"\"}},\"name\":\"\\u0930\\u093e\\u0937\\u094d\\u091f\\u094d\\u0930\\u093f\\u092f\",\"offsetgroup\":\"\\u0930\\u093e\\u0937\\u094d\\u091f\\u094d\\u0930\\u093f\\u092f\",\"orientation\":\"h\",\"showlegend\":true,\"textposition\":\"auto\",\"x\":[32],\"xaxis\":\"x\",\"y\":[\"\\u0930\\u093e\\u0937\\u094d\\u091f\\u094d\\u0930\\u093f\\u092f\"],\"yaxis\":\"y\",\"type\":\"bar\"},{\"alignmentgroup\":\"True\",\"hovertemplate\":\"word=%{y}<br>frequency=%{x}<extra></extra>\",\"legendgroup\":\"\\u092c\\u0922\\u094d\\u092f\\u094b\",\"marker\":{\"color\":\"#FF97FF\",\"pattern\":{\"shape\":\"\"}},\"name\":\"\\u092c\\u0922\\u094d\\u092f\\u094b\",\"offsetgroup\":\"\\u092c\\u0922\\u094d\\u092f\\u094b\",\"orientation\":\"h\",\"showlegend\":true,\"textposition\":\"auto\",\"x\":[31],\"xaxis\":\"x\",\"y\":[\"\\u092c\\u0922\\u094d\\u092f\\u094b\"],\"yaxis\":\"y\",\"type\":\"bar\"},{\"alignmentgroup\":\"True\",\"hovertemplate\":\"word=%{y}<br>frequency=%{x}<extra></extra>\",\"legendgroup\":\"\\u0905\\u0935\\u0938\\u094d\\u0925\\u093e\\u092e\\u093e\",\"marker\":{\"color\":\"#FECB52\",\"pattern\":{\"shape\":\"\"}},\"name\":\"\\u0905\\u0935\\u0938\\u094d\\u0925\\u093e\\u092e\\u093e\",\"offsetgroup\":\"\\u0905\\u0935\\u0938\\u094d\\u0925\\u093e\\u092e\\u093e\",\"orientation\":\"h\",\"showlegend\":true,\"textposition\":\"auto\",\"x\":[30],\"xaxis\":\"x\",\"y\":[\"\\u0905\\u0935\\u0938\\u094d\\u0925\\u093e\\u092e\\u093e\"],\"yaxis\":\"y\",\"type\":\"bar\"}],                        {\"template\":{\"data\":{\"histogram2dcontour\":[{\"type\":\"histogram2dcontour\",\"colorbar\":{\"outlinewidth\":0,\"ticks\":\"\"},\"colorscale\":[[0.0,\"#0d0887\"],[0.1111111111111111,\"#46039f\"],[0.2222222222222222,\"#7201a8\"],[0.3333333333333333,\"#9c179e\"],[0.4444444444444444,\"#bd3786\"],[0.5555555555555556,\"#d8576b\"],[0.6666666666666666,\"#ed7953\"],[0.7777777777777778,\"#fb9f3a\"],[0.8888888888888888,\"#fdca26\"],[1.0,\"#f0f921\"]]}],\"choropleth\":[{\"type\":\"choropleth\",\"colorbar\":{\"outlinewidth\":0,\"ticks\":\"\"}}],\"histogram2d\":[{\"type\":\"histogram2d\",\"colorbar\":{\"outlinewidth\":0,\"ticks\":\"\"},\"colorscale\":[[0.0,\"#0d0887\"],[0.1111111111111111,\"#46039f\"],[0.2222222222222222,\"#7201a8\"],[0.3333333333333333,\"#9c179e\"],[0.4444444444444444,\"#bd3786\"],[0.5555555555555556,\"#d8576b\"],[0.6666666666666666,\"#ed7953\"],[0.7777777777777778,\"#fb9f3a\"],[0.8888888888888888,\"#fdca26\"],[1.0,\"#f0f921\"]]}],\"heatmap\":[{\"type\":\"heatmap\",\"colorbar\":{\"outlinewidth\":0,\"ticks\":\"\"},\"colorscale\":[[0.0,\"#0d0887\"],[0.1111111111111111,\"#46039f\"],[0.2222222222222222,\"#7201a8\"],[0.3333333333333333,\"#9c179e\"],[0.4444444444444444,\"#bd3786\"],[0.5555555555555556,\"#d8576b\"],[0.6666666666666666,\"#ed7953\"],[0.7777777777777778,\"#fb9f3a\"],[0.8888888888888888,\"#fdca26\"],[1.0,\"#f0f921\"]]}],\"heatmapgl\":[{\"type\":\"heatmapgl\",\"colorbar\":{\"outlinewidth\":0,\"ticks\":\"\"},\"colorscale\":[[0.0,\"#0d0887\"],[0.1111111111111111,\"#46039f\"],[0.2222222222222222,\"#7201a8\"],[0.3333333333333333,\"#9c179e\"],[0.4444444444444444,\"#bd3786\"],[0.5555555555555556,\"#d8576b\"],[0.6666666666666666,\"#ed7953\"],[0.7777777777777778,\"#fb9f3a\"],[0.8888888888888888,\"#fdca26\"],[1.0,\"#f0f921\"]]}],\"contourcarpet\":[{\"type\":\"contourcarpet\",\"colorbar\":{\"outlinewidth\":0,\"ticks\":\"\"}}],\"contour\":[{\"type\":\"contour\",\"colorbar\":{\"outlinewidth\":0,\"ticks\":\"\"},\"colorscale\":[[0.0,\"#0d0887\"],[0.1111111111111111,\"#46039f\"],[0.2222222222222222,\"#7201a8\"],[0.3333333333333333,\"#9c179e\"],[0.4444444444444444,\"#bd3786\"],[0.5555555555555556,\"#d8576b\"],[0.6666666666666666,\"#ed7953\"],[0.7777777777777778,\"#fb9f3a\"],[0.8888888888888888,\"#fdca26\"],[1.0,\"#f0f921\"]]}],\"surface\":[{\"type\":\"surface\",\"colorbar\":{\"outlinewidth\":0,\"ticks\":\"\"},\"colorscale\":[[0.0,\"#0d0887\"],[0.1111111111111111,\"#46039f\"],[0.2222222222222222,\"#7201a8\"],[0.3333333333333333,\"#9c179e\"],[0.4444444444444444,\"#bd3786\"],[0.5555555555555556,\"#d8576b\"],[0.6666666666666666,\"#ed7953\"],[0.7777777777777778,\"#fb9f3a\"],[0.8888888888888888,\"#fdca26\"],[1.0,\"#f0f921\"]]}],\"mesh3d\":[{\"type\":\"mesh3d\",\"colorbar\":{\"outlinewidth\":0,\"ticks\":\"\"}}],\"scatter\":[{\"fillpattern\":{\"fillmode\":\"overlay\",\"size\":10,\"solidity\":0.2},\"type\":\"scatter\"}],\"parcoords\":[{\"type\":\"parcoords\",\"line\":{\"colorbar\":{\"outlinewidth\":0,\"ticks\":\"\"}}}],\"scatterpolargl\":[{\"type\":\"scatterpolargl\",\"marker\":{\"colorbar\":{\"outlinewidth\":0,\"ticks\":\"\"}}}],\"bar\":[{\"error_x\":{\"color\":\"#2a3f5f\"},\"error_y\":{\"color\":\"#2a3f5f\"},\"marker\":{\"line\":{\"color\":\"#E5ECF6\",\"width\":0.5},\"pattern\":{\"fillmode\":\"overlay\",\"size\":10,\"solidity\":0.2}},\"type\":\"bar\"}],\"scattergeo\":[{\"type\":\"scattergeo\",\"marker\":{\"colorbar\":{\"outlinewidth\":0,\"ticks\":\"\"}}}],\"scatterpolar\":[{\"type\":\"scatterpolar\",\"marker\":{\"colorbar\":{\"outlinewidth\":0,\"ticks\":\"\"}}}],\"histogram\":[{\"marker\":{\"pattern\":{\"fillmode\":\"overlay\",\"size\":10,\"solidity\":0.2}},\"type\":\"histogram\"}],\"scattergl\":[{\"type\":\"scattergl\",\"marker\":{\"colorbar\":{\"outlinewidth\":0,\"ticks\":\"\"}}}],\"scatter3d\":[{\"type\":\"scatter3d\",\"line\":{\"colorbar\":{\"outlinewidth\":0,\"ticks\":\"\"}},\"marker\":{\"colorbar\":{\"outlinewidth\":0,\"ticks\":\"\"}}}],\"scattermapbox\":[{\"type\":\"scattermapbox\",\"marker\":{\"colorbar\":{\"outlinewidth\":0,\"ticks\":\"\"}}}],\"scatterternary\":[{\"type\":\"scatterternary\",\"marker\":{\"colorbar\":{\"outlinewidth\":0,\"ticks\":\"\"}}}],\"scattercarpet\":[{\"type\":\"scattercarpet\",\"marker\":{\"colorbar\":{\"outlinewidth\":0,\"ticks\":\"\"}}}],\"carpet\":[{\"aaxis\":{\"endlinecolor\":\"#2a3f5f\",\"gridcolor\":\"white\",\"linecolor\":\"white\",\"minorgridcolor\":\"white\",\"startlinecolor\":\"#2a3f5f\"},\"baxis\":{\"endlinecolor\":\"#2a3f5f\",\"gridcolor\":\"white\",\"linecolor\":\"white\",\"minorgridcolor\":\"white\",\"startlinecolor\":\"#2a3f5f\"},\"type\":\"carpet\"}],\"table\":[{\"cells\":{\"fill\":{\"color\":\"#EBF0F8\"},\"line\":{\"color\":\"white\"}},\"header\":{\"fill\":{\"color\":\"#C8D4E3\"},\"line\":{\"color\":\"white\"}},\"type\":\"table\"}],\"barpolar\":[{\"marker\":{\"line\":{\"color\":\"#E5ECF6\",\"width\":0.5},\"pattern\":{\"fillmode\":\"overlay\",\"size\":10,\"solidity\":0.2}},\"type\":\"barpolar\"}],\"pie\":[{\"automargin\":true,\"type\":\"pie\"}]},\"layout\":{\"autotypenumbers\":\"strict\",\"colorway\":[\"#636efa\",\"#EF553B\",\"#00cc96\",\"#ab63fa\",\"#FFA15A\",\"#19d3f3\",\"#FF6692\",\"#B6E880\",\"#FF97FF\",\"#FECB52\"],\"font\":{\"color\":\"#2a3f5f\"},\"hovermode\":\"closest\",\"hoverlabel\":{\"align\":\"left\"},\"paper_bgcolor\":\"white\",\"plot_bgcolor\":\"#E5ECF6\",\"polar\":{\"bgcolor\":\"#E5ECF6\",\"angularaxis\":{\"gridcolor\":\"white\",\"linecolor\":\"white\",\"ticks\":\"\"},\"radialaxis\":{\"gridcolor\":\"white\",\"linecolor\":\"white\",\"ticks\":\"\"}},\"ternary\":{\"bgcolor\":\"#E5ECF6\",\"aaxis\":{\"gridcolor\":\"white\",\"linecolor\":\"white\",\"ticks\":\"\"},\"baxis\":{\"gridcolor\":\"white\",\"linecolor\":\"white\",\"ticks\":\"\"},\"caxis\":{\"gridcolor\":\"white\",\"linecolor\":\"white\",\"ticks\":\"\"}},\"coloraxis\":{\"colorbar\":{\"outlinewidth\":0,\"ticks\":\"\"}},\"colorscale\":{\"sequential\":[[0.0,\"#0d0887\"],[0.1111111111111111,\"#46039f\"],[0.2222222222222222,\"#7201a8\"],[0.3333333333333333,\"#9c179e\"],[0.4444444444444444,\"#bd3786\"],[0.5555555555555556,\"#d8576b\"],[0.6666666666666666,\"#ed7953\"],[0.7777777777777778,\"#fb9f3a\"],[0.8888888888888888,\"#fdca26\"],[1.0,\"#f0f921\"]],\"sequentialminus\":[[0.0,\"#0d0887\"],[0.1111111111111111,\"#46039f\"],[0.2222222222222222,\"#7201a8\"],[0.3333333333333333,\"#9c179e\"],[0.4444444444444444,\"#bd3786\"],[0.5555555555555556,\"#d8576b\"],[0.6666666666666666,\"#ed7953\"],[0.7777777777777778,\"#fb9f3a\"],[0.8888888888888888,\"#fdca26\"],[1.0,\"#f0f921\"]],\"diverging\":[[0,\"#8e0152\"],[0.1,\"#c51b7d\"],[0.2,\"#de77ae\"],[0.3,\"#f1b6da\"],[0.4,\"#fde0ef\"],[0.5,\"#f7f7f7\"],[0.6,\"#e6f5d0\"],[0.7,\"#b8e186\"],[0.8,\"#7fbc41\"],[0.9,\"#4d9221\"],[1,\"#276419\"]]},\"xaxis\":{\"gridcolor\":\"white\",\"linecolor\":\"white\",\"ticks\":\"\",\"title\":{\"standoff\":15},\"zerolinecolor\":\"white\",\"automargin\":true,\"zerolinewidth\":2},\"yaxis\":{\"gridcolor\":\"white\",\"linecolor\":\"white\",\"ticks\":\"\",\"title\":{\"standoff\":15},\"zerolinecolor\":\"white\",\"automargin\":true,\"zerolinewidth\":2},\"scene\":{\"xaxis\":{\"backgroundcolor\":\"#E5ECF6\",\"gridcolor\":\"white\",\"linecolor\":\"white\",\"showbackground\":true,\"ticks\":\"\",\"zerolinecolor\":\"white\",\"gridwidth\":2},\"yaxis\":{\"backgroundcolor\":\"#E5ECF6\",\"gridcolor\":\"white\",\"linecolor\":\"white\",\"showbackground\":true,\"ticks\":\"\",\"zerolinecolor\":\"white\",\"gridwidth\":2},\"zaxis\":{\"backgroundcolor\":\"#E5ECF6\",\"gridcolor\":\"white\",\"linecolor\":\"white\",\"showbackground\":true,\"ticks\":\"\",\"zerolinecolor\":\"white\",\"gridwidth\":2}},\"shapedefaults\":{\"line\":{\"color\":\"#2a3f5f\"}},\"annotationdefaults\":{\"arrowcolor\":\"#2a3f5f\",\"arrowhead\":0,\"arrowwidth\":1},\"geo\":{\"bgcolor\":\"white\",\"landcolor\":\"#E5ECF6\",\"subunitcolor\":\"white\",\"showland\":true,\"showlakes\":true,\"lakecolor\":\"white\"},\"title\":{\"x\":0.05},\"mapbox\":{\"style\":\"light\"}}},\"xaxis\":{\"anchor\":\"y\",\"domain\":[0.0,1.0],\"title\":{\"text\":\"frequency\"}},\"yaxis\":{\"anchor\":\"x\",\"domain\":[0.0,1.0],\"title\":{\"text\":\"word\"},\"categoryorder\":\"array\",\"categoryarray\":[\"\\u0905\\u0935\\u0938\\u094d\\u0925\\u093e\\u092e\\u093e\",\"\\u092c\\u0922\\u094d\\u092f\\u094b\",\"\\u0930\\u093e\\u0937\\u094d\\u091f\\u094d\\u0930\\u093f\\u092f\",\"\\u0938\\u0902\\u0915\\u094d\\u0930\\u092e\\u0923\",\"\\u091c\\u0928\\u093e\\u0915\\u094b\",\"\\u0935\\u093f\\u0927\\u0947\\u092f\\u0915\",\"\\u0938\\u093e\\u0930\\u094d\\u0935\\u091c\\u0928\\u093f\\u0915\",\"\\u0936\\u094d\\u0930\\u093e\\u0935\\u0923,\\u096e\",\"\\u092a\\u0915\\u094d\\u0930\\u093e\\u0909\",\"\\u092e\\u094c\\u0926\\u094d\\u0930\\u093f\\u0915\",\"\\u0915\\u094b\\u0930\\u094b\\u0928\\u093e\",\"\\u0915\\u0930\\u094b\\u0921\",\"\\u0906\\u0908\\u0924\\u0935\\u093e\\u0930\",\"\\u0928\\u093e\\u0917\\u0930\\u093f\\u0915\\u0924\\u093e\",\"\\u0918\\u094b\\u0937\\u0923\\u093e\",\"\\u0928\\u0947\\u092a\\u093e\\u0932\",\"\\u092e\\u0943\\u0924\\u094d\\u092f\\u0941\",\"\\u0928\\u0947\\u092a\\u093e\\u0932\\u0940\",\"\\u0938\\u093e\\u0909\\u0928\",\"\\u0968\\u0966\\u096d\\u096f\"]},\"legend\":{\"title\":{\"text\":\"word\"},\"tracegroupgap\":0},\"margin\":{\"t\":60},\"barmode\":\"relative\",\"height\":500},                        {\"responsive\": true}                    ).then(function(){\n",
       "                            \n",
       "var gd = document.getElementById('662a749e-1528-4c49-937e-9d79f985b199');\n",
       "var x = new MutationObserver(function (mutations, observer) {{\n",
       "        var display = window.getComputedStyle(gd).display;\n",
       "        if (!display || display === 'none') {{\n",
       "            console.log([gd, 'removed!']);\n",
       "            Plotly.purge(gd);\n",
       "            observer.disconnect();\n",
       "        }}\n",
       "}});\n",
       "\n",
       "// Listen for the removal of the full notebook cells\n",
       "var notebookContainer = gd.closest('#notebook-container');\n",
       "if (notebookContainer) {{\n",
       "    x.observe(notebookContainer, {childList: true});\n",
       "}}\n",
       "\n",
       "// Listen for the clearing of the current output cell\n",
       "var outputEl = gd.closest('.output');\n",
       "if (outputEl) {{\n",
       "    x.observe(outputEl, {childList: true});\n",
       "}}\n",
       "\n",
       "                        })                };                });            </script>        </div>"
      ]
     },
     "metadata": {},
     "output_type": "display_data"
    }
   ],
   "source": [
    "px.bar(dfftop.head(20), x = 'frequency', \n",
    "       y = 'word',color = 'word', \n",
    "       height = 500,hover_data = ['word', 'frequency'])"
   ]
  },
  {
   "cell_type": "code",
   "execution_count": 98,
   "id": "e27ad9d0",
   "metadata": {},
   "outputs": [
    {
     "data": {
      "application/vnd.plotly.v1+json": {
       "config": {
        "plotlyServerURL": "https://plot.ly"
       },
       "data": [
        {
         "alignmentgroup": "True",
         "hovertemplate": "word=%{y}<br>frequency=%{x}<extra></extra>",
         "legendgroup": "२०७९",
         "marker": {
          "color": "#636efa",
          "pattern": {
           "shape": ""
          }
         },
         "name": "२०७९",
         "offsetgroup": "२०७९",
         "orientation": "h",
         "showlegend": true,
         "textposition": "auto",
         "type": "bar",
         "x": [
          148
         ],
         "xaxis": "x",
         "y": [
          "२०७९"
         ],
         "yaxis": "y"
        },
        {
         "alignmentgroup": "True",
         "hovertemplate": "word=%{y}<br>frequency=%{x}<extra></extra>",
         "legendgroup": "साउन",
         "marker": {
          "color": "#EF553B",
          "pattern": {
           "shape": ""
          }
         },
         "name": "साउन",
         "offsetgroup": "साउन",
         "orientation": "h",
         "showlegend": true,
         "textposition": "auto",
         "type": "bar",
         "x": [
          66
         ],
         "xaxis": "x",
         "y": [
          "साउन"
         ],
         "yaxis": "y"
        },
        {
         "alignmentgroup": "True",
         "hovertemplate": "word=%{y}<br>frequency=%{x}<extra></extra>",
         "legendgroup": "नेपाली",
         "marker": {
          "color": "#00cc96",
          "pattern": {
           "shape": ""
          }
         },
         "name": "नेपाली",
         "offsetgroup": "नेपाली",
         "orientation": "h",
         "showlegend": true,
         "textposition": "auto",
         "type": "bar",
         "x": [
          61
         ],
         "xaxis": "x",
         "y": [
          "नेपाली"
         ],
         "yaxis": "y"
        },
        {
         "alignmentgroup": "True",
         "hovertemplate": "word=%{y}<br>frequency=%{x}<extra></extra>",
         "legendgroup": "मृत्यु",
         "marker": {
          "color": "#ab63fa",
          "pattern": {
           "shape": ""
          }
         },
         "name": "मृत्यु",
         "offsetgroup": "मृत्यु",
         "orientation": "h",
         "showlegend": true,
         "textposition": "auto",
         "type": "bar",
         "x": [
          60
         ],
         "xaxis": "x",
         "y": [
          "मृत्यु"
         ],
         "yaxis": "y"
        },
        {
         "alignmentgroup": "True",
         "hovertemplate": "word=%{y}<br>frequency=%{x}<extra></extra>",
         "legendgroup": "नेपाल",
         "marker": {
          "color": "#FFA15A",
          "pattern": {
           "shape": ""
          }
         },
         "name": "नेपाल",
         "offsetgroup": "नेपाल",
         "orientation": "h",
         "showlegend": true,
         "textposition": "auto",
         "type": "bar",
         "x": [
          58
         ],
         "xaxis": "x",
         "y": [
          "नेपाल"
         ],
         "yaxis": "y"
        },
        {
         "alignmentgroup": "True",
         "hovertemplate": "word=%{y}<br>frequency=%{x}<extra></extra>",
         "legendgroup": "घोषणा",
         "marker": {
          "color": "#19d3f3",
          "pattern": {
           "shape": ""
          }
         },
         "name": "घोषणा",
         "offsetgroup": "घोषणा",
         "orientation": "h",
         "showlegend": true,
         "textposition": "auto",
         "type": "bar",
         "x": [
          52
         ],
         "xaxis": "x",
         "y": [
          "घोषणा"
         ],
         "yaxis": "y"
        },
        {
         "alignmentgroup": "True",
         "hovertemplate": "word=%{y}<br>frequency=%{x}<extra></extra>",
         "legendgroup": "नागरिकता",
         "marker": {
          "color": "#FF6692",
          "pattern": {
           "shape": ""
          }
         },
         "name": "नागरिकता",
         "offsetgroup": "नागरिकता",
         "orientation": "h",
         "showlegend": true,
         "textposition": "auto",
         "type": "bar",
         "x": [
          47
         ],
         "xaxis": "x",
         "y": [
          "नागरिकता"
         ],
         "yaxis": "y"
        },
        {
         "alignmentgroup": "True",
         "hovertemplate": "word=%{y}<br>frequency=%{x}<extra></extra>",
         "legendgroup": "आईतवार",
         "marker": {
          "color": "#B6E880",
          "pattern": {
           "shape": ""
          }
         },
         "name": "आईतवार",
         "offsetgroup": "आईतवार",
         "orientation": "h",
         "showlegend": true,
         "textposition": "auto",
         "type": "bar",
         "x": [
          41
         ],
         "xaxis": "x",
         "y": [
          "आईतवार"
         ],
         "yaxis": "y"
        },
        {
         "alignmentgroup": "True",
         "hovertemplate": "word=%{y}<br>frequency=%{x}<extra></extra>",
         "legendgroup": "करोड",
         "marker": {
          "color": "#FF97FF",
          "pattern": {
           "shape": ""
          }
         },
         "name": "करोड",
         "offsetgroup": "करोड",
         "orientation": "h",
         "showlegend": true,
         "textposition": "auto",
         "type": "bar",
         "x": [
          41
         ],
         "xaxis": "x",
         "y": [
          "करोड"
         ],
         "yaxis": "y"
        },
        {
         "alignmentgroup": "True",
         "hovertemplate": "word=%{y}<br>frequency=%{x}<extra></extra>",
         "legendgroup": "कोरोना",
         "marker": {
          "color": "#FECB52",
          "pattern": {
           "shape": ""
          }
         },
         "name": "कोरोना",
         "offsetgroup": "कोरोना",
         "orientation": "h",
         "showlegend": true,
         "textposition": "auto",
         "type": "bar",
         "x": [
          39
         ],
         "xaxis": "x",
         "y": [
          "कोरोना"
         ],
         "yaxis": "y"
        },
        {
         "alignmentgroup": "True",
         "hovertemplate": "word=%{y}<br>frequency=%{x}<extra></extra>",
         "legendgroup": "मौद्रिक",
         "marker": {
          "color": "#636efa",
          "pattern": {
           "shape": ""
          }
         },
         "name": "मौद्रिक",
         "offsetgroup": "मौद्रिक",
         "orientation": "h",
         "showlegend": true,
         "textposition": "auto",
         "type": "bar",
         "x": [
          39
         ],
         "xaxis": "x",
         "y": [
          "मौद्रिक"
         ],
         "yaxis": "y"
        },
        {
         "alignmentgroup": "True",
         "hovertemplate": "word=%{y}<br>frequency=%{x}<extra></extra>",
         "legendgroup": "पक्राउ",
         "marker": {
          "color": "#EF553B",
          "pattern": {
           "shape": ""
          }
         },
         "name": "पक्राउ",
         "offsetgroup": "पक्राउ",
         "orientation": "h",
         "showlegend": true,
         "textposition": "auto",
         "type": "bar",
         "x": [
          37
         ],
         "xaxis": "x",
         "y": [
          "पक्राउ"
         ],
         "yaxis": "y"
        },
        {
         "alignmentgroup": "True",
         "hovertemplate": "word=%{y}<br>frequency=%{x}<extra></extra>",
         "legendgroup": "श्रावण,८",
         "marker": {
          "color": "#00cc96",
          "pattern": {
           "shape": ""
          }
         },
         "name": "श्रावण,८",
         "offsetgroup": "श्रावण,८",
         "orientation": "h",
         "showlegend": true,
         "textposition": "auto",
         "type": "bar",
         "x": [
          36
         ],
         "xaxis": "x",
         "y": [
          "श्रावण,८"
         ],
         "yaxis": "y"
        },
        {
         "alignmentgroup": "True",
         "hovertemplate": "word=%{y}<br>frequency=%{x}<extra></extra>",
         "legendgroup": "सार्वजनिक",
         "marker": {
          "color": "#ab63fa",
          "pattern": {
           "shape": ""
          }
         },
         "name": "सार्वजनिक",
         "offsetgroup": "सार्वजनिक",
         "orientation": "h",
         "showlegend": true,
         "textposition": "auto",
         "type": "bar",
         "x": [
          35
         ],
         "xaxis": "x",
         "y": [
          "सार्वजनिक"
         ],
         "yaxis": "y"
        },
        {
         "alignmentgroup": "True",
         "hovertemplate": "word=%{y}<br>frequency=%{x}<extra></extra>",
         "legendgroup": "विधेयक",
         "marker": {
          "color": "#FFA15A",
          "pattern": {
           "shape": ""
          }
         },
         "name": "विधेयक",
         "offsetgroup": "विधेयक",
         "orientation": "h",
         "showlegend": true,
         "textposition": "auto",
         "type": "bar",
         "x": [
          35
         ],
         "xaxis": "x",
         "y": [
          "विधेयक"
         ],
         "yaxis": "y"
        },
        {
         "alignmentgroup": "True",
         "hovertemplate": "word=%{y}<br>frequency=%{x}<extra></extra>",
         "legendgroup": "जनाको",
         "marker": {
          "color": "#19d3f3",
          "pattern": {
           "shape": ""
          }
         },
         "name": "जनाको",
         "offsetgroup": "जनाको",
         "orientation": "h",
         "showlegend": true,
         "textposition": "auto",
         "type": "bar",
         "x": [
          35
         ],
         "xaxis": "x",
         "y": [
          "जनाको"
         ],
         "yaxis": "y"
        },
        {
         "alignmentgroup": "True",
         "hovertemplate": "word=%{y}<br>frequency=%{x}<extra></extra>",
         "legendgroup": "संक्रमण",
         "marker": {
          "color": "#FF6692",
          "pattern": {
           "shape": ""
          }
         },
         "name": "संक्रमण",
         "offsetgroup": "संक्रमण",
         "orientation": "h",
         "showlegend": true,
         "textposition": "auto",
         "type": "bar",
         "x": [
          33
         ],
         "xaxis": "x",
         "y": [
          "संक्रमण"
         ],
         "yaxis": "y"
        },
        {
         "alignmentgroup": "True",
         "hovertemplate": "word=%{y}<br>frequency=%{x}<extra></extra>",
         "legendgroup": "राष्ट्रिय",
         "marker": {
          "color": "#B6E880",
          "pattern": {
           "shape": ""
          }
         },
         "name": "राष्ट्रिय",
         "offsetgroup": "राष्ट्रिय",
         "orientation": "h",
         "showlegend": true,
         "textposition": "auto",
         "type": "bar",
         "x": [
          32
         ],
         "xaxis": "x",
         "y": [
          "राष्ट्रिय"
         ],
         "yaxis": "y"
        },
        {
         "alignmentgroup": "True",
         "hovertemplate": "word=%{y}<br>frequency=%{x}<extra></extra>",
         "legendgroup": "बढ्यो",
         "marker": {
          "color": "#FF97FF",
          "pattern": {
           "shape": ""
          }
         },
         "name": "बढ्यो",
         "offsetgroup": "बढ्यो",
         "orientation": "h",
         "showlegend": true,
         "textposition": "auto",
         "type": "bar",
         "x": [
          31
         ],
         "xaxis": "x",
         "y": [
          "बढ्यो"
         ],
         "yaxis": "y"
        },
        {
         "alignmentgroup": "True",
         "hovertemplate": "word=%{y}<br>frequency=%{x}<extra></extra>",
         "legendgroup": "अवस्थामा",
         "marker": {
          "color": "#FECB52",
          "pattern": {
           "shape": ""
          }
         },
         "name": "अवस्थामा",
         "offsetgroup": "अवस्थामा",
         "orientation": "h",
         "showlegend": true,
         "textposition": "auto",
         "type": "bar",
         "x": [
          30
         ],
         "xaxis": "x",
         "y": [
          "अवस्थामा"
         ],
         "yaxis": "y"
        },
        {
         "alignmentgroup": "True",
         "hovertemplate": "word=%{y}<br>frequency=%{x}<extra></extra>",
         "legendgroup": "सरकारको",
         "marker": {
          "color": "#636efa",
          "pattern": {
           "shape": ""
          }
         },
         "name": "सरकारको",
         "offsetgroup": "सरकारको",
         "orientation": "h",
         "showlegend": true,
         "textposition": "auto",
         "type": "bar",
         "x": [
          29
         ],
         "xaxis": "x",
         "y": [
          "सरकारको"
         ],
         "yaxis": "y"
        },
        {
         "alignmentgroup": "True",
         "hovertemplate": "word=%{y}<br>frequency=%{x}<extra></extra>",
         "legendgroup": "हजार",
         "marker": {
          "color": "#EF553B",
          "pattern": {
           "shape": ""
          }
         },
         "name": "हजार",
         "offsetgroup": "हजार",
         "orientation": "h",
         "showlegend": true,
         "textposition": "auto",
         "type": "bar",
         "x": [
          28
         ],
         "xaxis": "x",
         "y": [
          "हजार"
         ],
         "yaxis": "y"
        },
        {
         "alignmentgroup": "True",
         "hovertemplate": "word=%{y}<br>frequency=%{x}<extra></extra>",
         "legendgroup": "किशोरी",
         "marker": {
          "color": "#00cc96",
          "pattern": {
           "shape": ""
          }
         },
         "name": "किशोरी",
         "offsetgroup": "किशोरी",
         "orientation": "h",
         "showlegend": true,
         "textposition": "auto",
         "type": "bar",
         "x": [
          27
         ],
         "xaxis": "x",
         "y": [
          "किशोरी"
         ],
         "yaxis": "y"
        },
        {
         "alignmentgroup": "True",
         "hovertemplate": "word=%{y}<br>frequency=%{x}<extra></extra>",
         "legendgroup": "फेला",
         "marker": {
          "color": "#ab63fa",
          "pattern": {
           "shape": ""
          }
         },
         "name": "फेला",
         "offsetgroup": "फेला",
         "orientation": "h",
         "showlegend": true,
         "textposition": "auto",
         "type": "bar",
         "x": [
          27
         ],
         "xaxis": "x",
         "y": [
          "फेला"
         ],
         "yaxis": "y"
        },
        {
         "alignmentgroup": "True",
         "hovertemplate": "word=%{y}<br>frequency=%{x}<extra></extra>",
         "legendgroup": "तयारी",
         "marker": {
          "color": "#FFA15A",
          "pattern": {
           "shape": ""
          }
         },
         "name": "तयारी",
         "offsetgroup": "तयारी",
         "orientation": "h",
         "showlegend": true,
         "textposition": "auto",
         "type": "bar",
         "x": [
          27
         ],
         "xaxis": "x",
         "y": [
          "तयारी"
         ],
         "yaxis": "y"
        },
        {
         "alignmentgroup": "True",
         "hovertemplate": "word=%{y}<br>frequency=%{x}<extra></extra>",
         "legendgroup": "मन्त्री",
         "marker": {
          "color": "#19d3f3",
          "pattern": {
           "shape": ""
          }
         },
         "name": "मन्त्री",
         "offsetgroup": "मन्त्री",
         "orientation": "h",
         "showlegend": true,
         "textposition": "auto",
         "type": "bar",
         "x": [
          26
         ],
         "xaxis": "x",
         "y": [
          "मन्त्री"
         ],
         "yaxis": "y"
        },
        {
         "alignmentgroup": "True",
         "hovertemplate": "word=%{y}<br>frequency=%{x}<extra></extra>",
         "legendgroup": "प्रहरी",
         "marker": {
          "color": "#FF6692",
          "pattern": {
           "shape": ""
          }
         },
         "name": "प्रहरी",
         "offsetgroup": "प्रहरी",
         "orientation": "h",
         "showlegend": true,
         "textposition": "auto",
         "type": "bar",
         "x": [
          25
         ],
         "xaxis": "x",
         "y": [
          "प्रहरी"
         ],
         "yaxis": "y"
        },
        {
         "alignmentgroup": "True",
         "hovertemplate": "word=%{y}<br>frequency=%{x}<extra></extra>",
         "legendgroup": "सेयर",
         "marker": {
          "color": "#B6E880",
          "pattern": {
           "shape": ""
          }
         },
         "name": "सेयर",
         "offsetgroup": "सेयर",
         "orientation": "h",
         "showlegend": true,
         "textposition": "auto",
         "type": "bar",
         "x": [
          25
         ],
         "xaxis": "x",
         "y": [
          "सेयर"
         ],
         "yaxis": "y"
        },
        {
         "alignmentgroup": "True",
         "hovertemplate": "word=%{y}<br>frequency=%{x}<extra></extra>",
         "legendgroup": "हुँदै",
         "marker": {
          "color": "#FF97FF",
          "pattern": {
           "shape": ""
          }
         },
         "name": "हुँदै",
         "offsetgroup": "हुँदै",
         "orientation": "h",
         "showlegend": true,
         "textposition": "auto",
         "type": "bar",
         "x": [
          25
         ],
         "xaxis": "x",
         "y": [
          "हुँदै"
         ],
         "yaxis": "y"
        },
        {
         "alignmentgroup": "True",
         "hovertemplate": "word=%{y}<br>frequency=%{x}<extra></extra>",
         "legendgroup": "पारित",
         "marker": {
          "color": "#FECB52",
          "pattern": {
           "shape": ""
          }
         },
         "name": "पारित",
         "offsetgroup": "पारित",
         "orientation": "h",
         "showlegend": true,
         "textposition": "auto",
         "type": "bar",
         "x": [
          24
         ],
         "xaxis": "x",
         "y": [
          "पारित"
         ],
         "yaxis": "y"
        },
        {
         "alignmentgroup": "True",
         "hovertemplate": "word=%{y}<br>frequency=%{x}<extra></extra>",
         "legendgroup": "प्रदर्शन",
         "marker": {
          "color": "#636efa",
          "pattern": {
           "shape": ""
          }
         },
         "name": "प्रदर्शन",
         "offsetgroup": "प्रदर्शन",
         "orientation": "h",
         "showlegend": true,
         "textposition": "auto",
         "type": "bar",
         "x": [
          24
         ],
         "xaxis": "x",
         "y": [
          "प्रदर्शन"
         ],
         "yaxis": "y"
        },
        {
         "alignmentgroup": "True",
         "hovertemplate": "word=%{y}<br>frequency=%{x}<extra></extra>",
         "legendgroup": "पौडेल",
         "marker": {
          "color": "#EF553B",
          "pattern": {
           "shape": ""
          }
         },
         "name": "पौडेल",
         "offsetgroup": "पौडेल",
         "orientation": "h",
         "showlegend": true,
         "textposition": "auto",
         "type": "bar",
         "x": [
          23
         ],
         "xaxis": "x",
         "y": [
          "पौडेल"
         ],
         "yaxis": "y"
        },
        {
         "alignmentgroup": "True",
         "hovertemplate": "word=%{y}<br>frequency=%{x}<extra></extra>",
         "legendgroup": "जनामा",
         "marker": {
          "color": "#00cc96",
          "pattern": {
           "shape": ""
          }
         },
         "name": "जनामा",
         "offsetgroup": "जनामा",
         "orientation": "h",
         "showlegend": true,
         "textposition": "auto",
         "type": "bar",
         "x": [
          23
         ],
         "xaxis": "x",
         "y": [
          "जनामा"
         ],
         "yaxis": "y"
        },
        {
         "alignmentgroup": "True",
         "hovertemplate": "word=%{y}<br>frequency=%{x}<extra></extra>",
         "legendgroup": "महिला",
         "marker": {
          "color": "#ab63fa",
          "pattern": {
           "shape": ""
          }
         },
         "name": "महिला",
         "offsetgroup": "महिला",
         "orientation": "h",
         "showlegend": true,
         "textposition": "auto",
         "type": "bar",
         "x": [
          23
         ],
         "xaxis": "x",
         "y": [
          "महिला"
         ],
         "yaxis": "y"
        },
        {
         "alignmentgroup": "True",
         "hovertemplate": "word=%{y}<br>frequency=%{x}<extra></extra>",
         "legendgroup": "बैठक",
         "marker": {
          "color": "#FFA15A",
          "pattern": {
           "shape": ""
          }
         },
         "name": "बैठक",
         "offsetgroup": "बैठक",
         "orientation": "h",
         "showlegend": true,
         "textposition": "auto",
         "type": "bar",
         "x": [
          23
         ],
         "xaxis": "x",
         "y": [
          "बैठक"
         ],
         "yaxis": "y"
        },
        {
         "alignmentgroup": "True",
         "hovertemplate": "word=%{y}<br>frequency=%{x}<extra></extra>",
         "legendgroup": "विकास",
         "marker": {
          "color": "#19d3f3",
          "pattern": {
           "shape": ""
          }
         },
         "name": "विकास",
         "offsetgroup": "विकास",
         "orientation": "h",
         "showlegend": true,
         "textposition": "auto",
         "type": "bar",
         "x": [
          23
         ],
         "xaxis": "x",
         "y": [
          "विकास"
         ],
         "yaxis": "y"
        },
        {
         "alignmentgroup": "True",
         "hovertemplate": "word=%{y}<br>frequency=%{x}<extra></extra>",
         "legendgroup": "भारत",
         "marker": {
          "color": "#FF6692",
          "pattern": {
           "shape": ""
          }
         },
         "name": "भारत",
         "offsetgroup": "भारत",
         "orientation": "h",
         "showlegend": true,
         "textposition": "auto",
         "type": "bar",
         "x": [
          23
         ],
         "xaxis": "x",
         "y": [
          "भारत"
         ],
         "yaxis": "y"
        },
        {
         "alignmentgroup": "True",
         "hovertemplate": "word=%{y}<br>frequency=%{x}<extra></extra>",
         "legendgroup": "बैंकको",
         "marker": {
          "color": "#B6E880",
          "pattern": {
           "shape": ""
          }
         },
         "name": "बैंकको",
         "offsetgroup": "बैंकको",
         "orientation": "h",
         "showlegend": true,
         "textposition": "auto",
         "type": "bar",
         "x": [
          22
         ],
         "xaxis": "x",
         "y": [
          "बैंकको"
         ],
         "yaxis": "y"
        },
        {
         "alignmentgroup": "True",
         "hovertemplate": "word=%{y}<br>frequency=%{x}<extra></extra>",
         "legendgroup": "अध्यक्ष",
         "marker": {
          "color": "#FF97FF",
          "pattern": {
           "shape": ""
          }
         },
         "name": "अध्यक्ष",
         "offsetgroup": "अध्यक्ष",
         "orientation": "h",
         "showlegend": true,
         "textposition": "auto",
         "type": "bar",
         "x": [
          22
         ],
         "xaxis": "x",
         "y": [
          "अध्यक्ष"
         ],
         "yaxis": "y"
        },
        {
         "alignmentgroup": "True",
         "hovertemplate": "word=%{y}<br>frequency=%{x}<extra></extra>",
         "legendgroup": "सरकार",
         "marker": {
          "color": "#FECB52",
          "pattern": {
           "shape": ""
          }
         },
         "name": "सरकार",
         "offsetgroup": "सरकार",
         "orientation": "h",
         "showlegend": true,
         "textposition": "auto",
         "type": "bar",
         "x": [
          21
         ],
         "xaxis": "x",
         "y": [
          "सरकार"
         ],
         "yaxis": "y"
        },
        {
         "alignmentgroup": "True",
         "hovertemplate": "word=%{y}<br>frequency=%{x}<extra></extra>",
         "legendgroup": "प्रचण्ड",
         "marker": {
          "color": "#636efa",
          "pattern": {
           "shape": ""
          }
         },
         "name": "प्रचण्ड",
         "offsetgroup": "प्रचण्ड",
         "orientation": "h",
         "showlegend": true,
         "textposition": "auto",
         "type": "bar",
         "x": [
          21
         ],
         "xaxis": "x",
         "y": [
          "प्रचण्ड"
         ],
         "yaxis": "y"
        },
        {
         "alignmentgroup": "True",
         "hovertemplate": "word=%{y}<br>frequency=%{x}<extra></extra>",
         "legendgroup": "नेता",
         "marker": {
          "color": "#EF553B",
          "pattern": {
           "shape": ""
          }
         },
         "name": "नेता",
         "offsetgroup": "नेता",
         "orientation": "h",
         "showlegend": true,
         "textposition": "auto",
         "type": "bar",
         "x": [
          21
         ],
         "xaxis": "x",
         "y": [
          "नेता"
         ],
         "yaxis": "y"
        },
        {
         "alignmentgroup": "True",
         "hovertemplate": "word=%{y}<br>frequency=%{x}<extra></extra>",
         "legendgroup": "नीति",
         "marker": {
          "color": "#00cc96",
          "pattern": {
           "shape": ""
          }
         },
         "name": "नीति",
         "offsetgroup": "नीति",
         "orientation": "h",
         "showlegend": true,
         "textposition": "auto",
         "type": "bar",
         "x": [
          21
         ],
         "xaxis": "x",
         "y": [
          "नीति"
         ],
         "yaxis": "y"
        },
        {
         "alignmentgroup": "True",
         "hovertemplate": "word=%{y}<br>frequency=%{x}<extra></extra>",
         "legendgroup": "देशमा",
         "marker": {
          "color": "#ab63fa",
          "pattern": {
           "shape": ""
          }
         },
         "name": "देशमा",
         "offsetgroup": "देशमा",
         "orientation": "h",
         "showlegend": true,
         "textposition": "auto",
         "type": "bar",
         "x": [
          21
         ],
         "xaxis": "x",
         "y": [
          "देशमा"
         ],
         "yaxis": "y"
        },
        {
         "alignmentgroup": "True",
         "hovertemplate": "word=%{y}<br>frequency=%{x}<extra></extra>",
         "legendgroup": "प्रतिशत",
         "marker": {
          "color": "#FFA15A",
          "pattern": {
           "shape": ""
          }
         },
         "name": "प्रतिशत",
         "offsetgroup": "प्रतिशत",
         "orientation": "h",
         "showlegend": true,
         "textposition": "auto",
         "type": "bar",
         "x": [
          21
         ],
         "xaxis": "x",
         "y": [
          "प्रतिशत"
         ],
         "yaxis": "y"
        },
        {
         "alignmentgroup": "True",
         "hovertemplate": "word=%{y}<br>frequency=%{x}<extra></extra>",
         "legendgroup": "बैंक",
         "marker": {
          "color": "#19d3f3",
          "pattern": {
           "shape": ""
          }
         },
         "name": "बैंक",
         "offsetgroup": "बैंक",
         "orientation": "h",
         "showlegend": true,
         "textposition": "auto",
         "type": "bar",
         "x": [
          20
         ],
         "xaxis": "x",
         "y": [
          "बैंक"
         ],
         "yaxis": "y"
        },
        {
         "alignmentgroup": "True",
         "hovertemplate": "word=%{y}<br>frequency=%{x}<extra></extra>",
         "legendgroup": "अन्तिम",
         "marker": {
          "color": "#FF6692",
          "pattern": {
           "shape": ""
          }
         },
         "name": "अन्तिम",
         "offsetgroup": "अन्तिम",
         "orientation": "h",
         "showlegend": true,
         "textposition": "auto",
         "type": "bar",
         "x": [
          20
         ],
         "xaxis": "x",
         "y": [
          "अन्तिम"
         ],
         "yaxis": "y"
        },
        {
         "alignmentgroup": "True",
         "hovertemplate": "word=%{y}<br>frequency=%{x}<extra></extra>",
         "legendgroup": "बढ्दै",
         "marker": {
          "color": "#B6E880",
          "pattern": {
           "shape": ""
          }
         },
         "name": "बढ्दै",
         "offsetgroup": "बढ्दै",
         "orientation": "h",
         "showlegend": true,
         "textposition": "auto",
         "type": "bar",
         "x": [
          20
         ],
         "xaxis": "x",
         "y": [
          "बढ्दै"
         ],
         "yaxis": "y"
        },
        {
         "alignmentgroup": "True",
         "hovertemplate": "word=%{y}<br>frequency=%{x}<extra></extra>",
         "legendgroup": "हत्या",
         "marker": {
          "color": "#FF97FF",
          "pattern": {
           "shape": ""
          }
         },
         "name": "हत्या",
         "offsetgroup": "हत्या",
         "orientation": "h",
         "showlegend": true,
         "textposition": "auto",
         "type": "bar",
         "x": [
          20
         ],
         "xaxis": "x",
         "y": [
          "हत्या"
         ],
         "yaxis": "y"
        },
        {
         "alignmentgroup": "True",
         "hovertemplate": "word=%{y}<br>frequency=%{x}<extra></extra>",
         "legendgroup": "भारतमा",
         "marker": {
          "color": "#FECB52",
          "pattern": {
           "shape": ""
          }
         },
         "name": "भारतमा",
         "offsetgroup": "भारतमा",
         "orientation": "h",
         "showlegend": true,
         "textposition": "auto",
         "type": "bar",
         "x": [
          19
         ],
         "xaxis": "x",
         "y": [
          "भारतमा"
         ],
         "yaxis": "y"
        },
        {
         "alignmentgroup": "True",
         "hovertemplate": "word=%{y}<br>frequency=%{x}<extra></extra>",
         "legendgroup": "सङ्क्रमण",
         "marker": {
          "color": "#636efa",
          "pattern": {
           "shape": ""
          }
         },
         "name": "सङ्क्रमण",
         "offsetgroup": "सङ्क्रमण",
         "orientation": "h",
         "showlegend": true,
         "textposition": "auto",
         "type": "bar",
         "x": [
          19
         ],
         "xaxis": "x",
         "y": [
          "सङ्क्रमण"
         ],
         "yaxis": "y"
        },
        {
         "alignmentgroup": "True",
         "hovertemplate": "word=%{y}<br>frequency=%{x}<extra></extra>",
         "legendgroup": "विकासका",
         "marker": {
          "color": "#EF553B",
          "pattern": {
           "shape": ""
          }
         },
         "name": "विकासका",
         "offsetgroup": "विकासका",
         "orientation": "h",
         "showlegend": true,
         "textposition": "auto",
         "type": "bar",
         "x": [
          19
         ],
         "xaxis": "x",
         "y": [
          "विकासका"
         ],
         "yaxis": "y"
        },
        {
         "alignmentgroup": "True",
         "hovertemplate": "word=%{y}<br>frequency=%{x}<extra></extra>",
         "legendgroup": "कारण",
         "marker": {
          "color": "#00cc96",
          "pattern": {
           "shape": ""
          }
         },
         "name": "कारण",
         "offsetgroup": "कारण",
         "orientation": "h",
         "showlegend": true,
         "textposition": "auto",
         "type": "bar",
         "x": [
          19
         ],
         "xaxis": "x",
         "y": [
          "कारण"
         ],
         "yaxis": "y"
        },
        {
         "alignmentgroup": "True",
         "hovertemplate": "word=%{y}<br>frequency=%{x}<extra></extra>",
         "legendgroup": "पुष्टि",
         "marker": {
          "color": "#ab63fa",
          "pattern": {
           "shape": ""
          }
         },
         "name": "पुष्टि",
         "offsetgroup": "पुष्टि",
         "orientation": "h",
         "showlegend": true,
         "textposition": "auto",
         "type": "bar",
         "x": [
          18
         ],
         "xaxis": "x",
         "y": [
          "पुष्टि"
         ],
         "yaxis": "y"
        },
        {
         "alignmentgroup": "True",
         "hovertemplate": "word=%{y}<br>frequency=%{x}<extra></extra>",
         "legendgroup": "अभियान",
         "marker": {
          "color": "#FFA15A",
          "pattern": {
           "shape": ""
          }
         },
         "name": "अभियान",
         "offsetgroup": "अभियान",
         "orientation": "h",
         "showlegend": true,
         "textposition": "auto",
         "type": "bar",
         "x": [
          18
         ],
         "xaxis": "x",
         "y": [
          "अभियान"
         ],
         "yaxis": "y"
        },
        {
         "alignmentgroup": "True",
         "hovertemplate": "word=%{y}<br>frequency=%{x}<extra></extra>",
         "legendgroup": "महिलाको",
         "marker": {
          "color": "#19d3f3",
          "pattern": {
           "shape": ""
          }
         },
         "name": "महिलाको",
         "offsetgroup": "महिलाको",
         "orientation": "h",
         "showlegend": true,
         "textposition": "auto",
         "type": "bar",
         "x": [
          18
         ],
         "xaxis": "x",
         "y": [
          "महिलाको"
         ],
         "yaxis": "y"
        },
        {
         "alignmentgroup": "True",
         "hovertemplate": "word=%{y}<br>frequency=%{x}<extra></extra>",
         "legendgroup": "घाइते",
         "marker": {
          "color": "#FF6692",
          "pattern": {
           "shape": ""
          }
         },
         "name": "घाइते",
         "offsetgroup": "घाइते",
         "orientation": "h",
         "showlegend": true,
         "textposition": "auto",
         "type": "bar",
         "x": [
          18
         ],
         "xaxis": "x",
         "y": [
          "घाइते"
         ],
         "yaxis": "y"
        },
        {
         "alignmentgroup": "True",
         "hovertemplate": "word=%{y}<br>frequency=%{x}<extra></extra>",
         "legendgroup": "अर्ब",
         "marker": {
          "color": "#B6E880",
          "pattern": {
           "shape": ""
          }
         },
         "name": "अर्ब",
         "offsetgroup": "अर्ब",
         "orientation": "h",
         "showlegend": true,
         "textposition": "auto",
         "type": "bar",
         "x": [
          18
         ],
         "xaxis": "x",
         "y": [
          "अर्ब"
         ],
         "yaxis": "y"
        },
        {
         "alignmentgroup": "True",
         "hovertemplate": "word=%{y}<br>frequency=%{x}<extra></extra>",
         "legendgroup": "वर्षमा",
         "marker": {
          "color": "#FF97FF",
          "pattern": {
           "shape": ""
          }
         },
         "name": "वर्षमा",
         "offsetgroup": "वर्षमा",
         "orientation": "h",
         "showlegend": true,
         "textposition": "auto",
         "type": "bar",
         "x": [
          18
         ],
         "xaxis": "x",
         "y": [
          "वर्षमा"
         ],
         "yaxis": "y"
        },
        {
         "alignmentgroup": "True",
         "hovertemplate": "word=%{y}<br>frequency=%{x}<extra></extra>",
         "legendgroup": "भारतीय",
         "marker": {
          "color": "#FECB52",
          "pattern": {
           "shape": ""
          }
         },
         "name": "भारतीय",
         "offsetgroup": "भारतीय",
         "orientation": "h",
         "showlegend": true,
         "textposition": "auto",
         "type": "bar",
         "x": [
          18
         ],
         "xaxis": "x",
         "y": [
          "भारतीय"
         ],
         "yaxis": "y"
        },
        {
         "alignmentgroup": "True",
         "hovertemplate": "word=%{y}<br>frequency=%{x}<extra></extra>",
         "legendgroup": "भ्रमण",
         "marker": {
          "color": "#636efa",
          "pattern": {
           "shape": ""
          }
         },
         "name": "भ्रमण",
         "offsetgroup": "भ्रमण",
         "orientation": "h",
         "showlegend": true,
         "textposition": "auto",
         "type": "bar",
         "x": [
          18
         ],
         "xaxis": "x",
         "y": [
          "भ्रमण"
         ],
         "yaxis": "y"
        },
        {
         "alignmentgroup": "True",
         "hovertemplate": "word=%{y}<br>frequency=%{x}<extra></extra>",
         "legendgroup": "झुण्डिएको",
         "marker": {
          "color": "#EF553B",
          "pattern": {
           "shape": ""
          }
         },
         "name": "झुण्डिएको",
         "offsetgroup": "झुण्डिएको",
         "orientation": "h",
         "showlegend": true,
         "textposition": "auto",
         "type": "bar",
         "x": [
          17
         ],
         "xaxis": "x",
         "y": [
          "झुण्डिएको"
         ],
         "yaxis": "y"
        },
        {
         "alignmentgroup": "True",
         "hovertemplate": "word=%{y}<br>frequency=%{x}<extra></extra>",
         "legendgroup": "सुरु",
         "marker": {
          "color": "#00cc96",
          "pattern": {
           "shape": ""
          }
         },
         "name": "सुरु",
         "offsetgroup": "सुरु",
         "orientation": "h",
         "showlegend": true,
         "textposition": "auto",
         "type": "bar",
         "x": [
          17
         ],
         "xaxis": "x",
         "y": [
          "सुरु"
         ],
         "yaxis": "y"
        },
        {
         "alignmentgroup": "True",
         "hovertemplate": "word=%{y}<br>frequency=%{x}<extra></extra>",
         "legendgroup": "खर्च",
         "marker": {
          "color": "#ab63fa",
          "pattern": {
           "shape": ""
          }
         },
         "name": "खर्च",
         "offsetgroup": "खर्च",
         "orientation": "h",
         "showlegend": true,
         "textposition": "auto",
         "type": "bar",
         "x": [
          17
         ],
         "xaxis": "x",
         "y": [
          "खर्च"
         ],
         "yaxis": "y"
        },
        {
         "alignmentgroup": "True",
         "hovertemplate": "word=%{y}<br>frequency=%{x}<extra></extra>",
         "legendgroup": "वितरण",
         "marker": {
          "color": "#FFA15A",
          "pattern": {
           "shape": ""
          }
         },
         "name": "वितरण",
         "offsetgroup": "वितरण",
         "orientation": "h",
         "showlegend": true,
         "textposition": "auto",
         "type": "bar",
         "x": [
          17
         ],
         "xaxis": "x",
         "y": [
          "वितरण"
         ],
         "yaxis": "y"
        },
        {
         "alignmentgroup": "True",
         "hovertemplate": "word=%{y}<br>frequency=%{x}<extra></extra>",
         "legendgroup": "आपतकाल",
         "marker": {
          "color": "#19d3f3",
          "pattern": {
           "shape": ""
          }
         },
         "name": "आपतकाल",
         "offsetgroup": "आपतकाल",
         "orientation": "h",
         "showlegend": true,
         "textposition": "auto",
         "type": "bar",
         "x": [
          17
         ],
         "xaxis": "x",
         "y": [
          "आपतकाल"
         ],
         "yaxis": "y"
        },
        {
         "alignmentgroup": "True",
         "hovertemplate": "word=%{y}<br>frequency=%{x}<extra></extra>",
         "legendgroup": "संक्रमित",
         "marker": {
          "color": "#FF6692",
          "pattern": {
           "shape": ""
          }
         },
         "name": "संक्रमित",
         "offsetgroup": "संक्रमित",
         "orientation": "h",
         "showlegend": true,
         "textposition": "auto",
         "type": "bar",
         "x": [
          16
         ],
         "xaxis": "x",
         "y": [
          "संक्रमित"
         ],
         "yaxis": "y"
        },
        {
         "alignmentgroup": "True",
         "hovertemplate": "word=%{y}<br>frequency=%{x}<extra></extra>",
         "legendgroup": "भेटिए",
         "marker": {
          "color": "#B6E880",
          "pattern": {
           "shape": ""
          }
         },
         "name": "भेटिए",
         "offsetgroup": "भेटिए",
         "orientation": "h",
         "showlegend": true,
         "textposition": "auto",
         "type": "bar",
         "x": [
          16
         ],
         "xaxis": "x",
         "y": [
          "भेटिए"
         ],
         "yaxis": "y"
        },
        {
         "alignmentgroup": "True",
         "hovertemplate": "word=%{y}<br>frequency=%{x}<extra></extra>",
         "legendgroup": "वर्ष",
         "marker": {
          "color": "#FF97FF",
          "pattern": {
           "shape": ""
          }
         },
         "name": "वर्ष",
         "offsetgroup": "वर्ष",
         "orientation": "h",
         "showlegend": true,
         "textposition": "auto",
         "type": "bar",
         "x": [
          16
         ],
         "xaxis": "x",
         "y": [
          "वर्ष"
         ],
         "yaxis": "y"
        },
        {
         "alignmentgroup": "True",
         "hovertemplate": "word=%{y}<br>frequency=%{x}<extra></extra>",
         "legendgroup": "थापा",
         "marker": {
          "color": "#FECB52",
          "pattern": {
           "shape": ""
          }
         },
         "name": "थापा",
         "offsetgroup": "थापा",
         "orientation": "h",
         "showlegend": true,
         "textposition": "auto",
         "type": "bar",
         "x": [
          16
         ],
         "xaxis": "x",
         "y": [
          "थापा"
         ],
         "yaxis": "y"
        },
        {
         "alignmentgroup": "True",
         "hovertemplate": "word=%{y}<br>frequency=%{x}<extra></extra>",
         "legendgroup": "मूल्य",
         "marker": {
          "color": "#636efa",
          "pattern": {
           "shape": ""
          }
         },
         "name": "मूल्य",
         "offsetgroup": "मूल्य",
         "orientation": "h",
         "showlegend": true,
         "textposition": "auto",
         "type": "bar",
         "x": [
          16
         ],
         "xaxis": "x",
         "y": [
          "मूल्य"
         ],
         "yaxis": "y"
        },
        {
         "alignmentgroup": "True",
         "hovertemplate": "word=%{y}<br>frequency=%{x}<extra></extra>",
         "legendgroup": "सुनको",
         "marker": {
          "color": "#EF553B",
          "pattern": {
           "shape": ""
          }
         },
         "name": "सुनको",
         "offsetgroup": "सुनको",
         "orientation": "h",
         "showlegend": true,
         "textposition": "auto",
         "type": "bar",
         "x": [
          16
         ],
         "xaxis": "x",
         "y": [
          "सुनको"
         ],
         "yaxis": "y"
        },
        {
         "alignmentgroup": "True",
         "hovertemplate": "word=%{y}<br>frequency=%{x}<extra></extra>",
         "legendgroup": "कर्मचारी",
         "marker": {
          "color": "#00cc96",
          "pattern": {
           "shape": ""
          }
         },
         "name": "कर्मचारी",
         "offsetgroup": "कर्मचारी",
         "orientation": "h",
         "showlegend": true,
         "textposition": "auto",
         "type": "bar",
         "x": [
          16
         ],
         "xaxis": "x",
         "y": [
          "कर्मचारी"
         ],
         "yaxis": "y"
        },
        {
         "alignmentgroup": "True",
         "hovertemplate": "word=%{y}<br>frequency=%{x}<extra></extra>",
         "legendgroup": "होइन",
         "marker": {
          "color": "#ab63fa",
          "pattern": {
           "shape": ""
          }
         },
         "name": "होइन",
         "offsetgroup": "होइन",
         "orientation": "h",
         "showlegend": true,
         "textposition": "auto",
         "type": "bar",
         "x": [
          16
         ],
         "xaxis": "x",
         "y": [
          "होइन"
         ],
         "yaxis": "y"
        },
        {
         "alignmentgroup": "True",
         "hovertemplate": "word=%{y}<br>frequency=%{x}<extra></extra>",
         "legendgroup": "असार",
         "marker": {
          "color": "#FFA15A",
          "pattern": {
           "shape": ""
          }
         },
         "name": "असार",
         "offsetgroup": "असार",
         "orientation": "h",
         "showlegend": true,
         "textposition": "auto",
         "type": "bar",
         "x": [
          16
         ],
         "xaxis": "x",
         "y": [
          "असार"
         ],
         "yaxis": "y"
        },
        {
         "alignmentgroup": "True",
         "hovertemplate": "word=%{y}<br>frequency=%{x}<extra></extra>",
         "legendgroup": "आईपीओ",
         "marker": {
          "color": "#19d3f3",
          "pattern": {
           "shape": ""
          }
         },
         "name": "आईपीओ",
         "offsetgroup": "आईपीओ",
         "orientation": "h",
         "showlegend": true,
         "textposition": "auto",
         "type": "bar",
         "x": [
          16
         ],
         "xaxis": "x",
         "y": [
          "आईपीओ"
         ],
         "yaxis": "y"
        },
        {
         "alignmentgroup": "True",
         "hovertemplate": "word=%{y}<br>frequency=%{x}<extra></extra>",
         "legendgroup": "भक्तपुरमा",
         "marker": {
          "color": "#FF6692",
          "pattern": {
           "shape": ""
          }
         },
         "name": "भक्तपुरमा",
         "offsetgroup": "भक्तपुरमा",
         "orientation": "h",
         "showlegend": true,
         "textposition": "auto",
         "type": "bar",
         "x": [
          16
         ],
         "xaxis": "x",
         "y": [
          "भक्तपुरमा"
         ],
         "yaxis": "y"
        },
        {
         "alignmentgroup": "True",
         "hovertemplate": "word=%{y}<br>frequency=%{x}<extra></extra>",
         "legendgroup": "भारतबाट",
         "marker": {
          "color": "#B6E880",
          "pattern": {
           "shape": ""
          }
         },
         "name": "भारतबाट",
         "offsetgroup": "भारतबाट",
         "orientation": "h",
         "showlegend": true,
         "textposition": "auto",
         "type": "bar",
         "x": [
          16
         ],
         "xaxis": "x",
         "y": [
          "भारतबाट"
         ],
         "yaxis": "y"
        },
        {
         "alignmentgroup": "True",
         "hovertemplate": "word=%{y}<br>frequency=%{x}<extra></extra>",
         "legendgroup": "यो",
         "marker": {
          "color": "#FF97FF",
          "pattern": {
           "shape": ""
          }
         },
         "name": "यो",
         "offsetgroup": "यो",
         "orientation": "h",
         "showlegend": true,
         "textposition": "auto",
         "type": "bar",
         "x": [
          16
         ],
         "xaxis": "x",
         "y": [
          "यो"
         ],
         "yaxis": "y"
        },
        {
         "alignmentgroup": "True",
         "hovertemplate": "word=%{y}<br>frequency=%{x}<extra></extra>",
         "legendgroup": "बजारमा",
         "marker": {
          "color": "#FECB52",
          "pattern": {
           "shape": ""
          }
         },
         "name": "बजारमा",
         "offsetgroup": "बजारमा",
         "orientation": "h",
         "showlegend": true,
         "textposition": "auto",
         "type": "bar",
         "x": [
          16
         ],
         "xaxis": "x",
         "y": [
          "बजारमा"
         ],
         "yaxis": "y"
        },
        {
         "alignmentgroup": "True",
         "hovertemplate": "word=%{y}<br>frequency=%{x}<extra></extra>",
         "legendgroup": "प्रतिशतले",
         "marker": {
          "color": "#636efa",
          "pattern": {
           "shape": ""
          }
         },
         "name": "प्रतिशतले",
         "offsetgroup": "प्रतिशतले",
         "orientation": "h",
         "showlegend": true,
         "textposition": "auto",
         "type": "bar",
         "x": [
          15
         ],
         "xaxis": "x",
         "y": [
          "प्रतिशतले"
         ],
         "yaxis": "y"
        },
        {
         "alignmentgroup": "True",
         "hovertemplate": "word=%{y}<br>frequency=%{x}<extra></extra>",
         "legendgroup": "फुटबल",
         "marker": {
          "color": "#EF553B",
          "pattern": {
           "shape": ""
          }
         },
         "name": "फुटबल",
         "offsetgroup": "फुटबल",
         "orientation": "h",
         "showlegend": true,
         "textposition": "auto",
         "type": "bar",
         "x": [
          15
         ],
         "xaxis": "x",
         "y": [
          "फुटबल"
         ],
         "yaxis": "y"
        },
        {
         "alignmentgroup": "True",
         "hovertemplate": "word=%{y}<br>frequency=%{x}<extra></extra>",
         "legendgroup": "राष्ट्रपति",
         "marker": {
          "color": "#00cc96",
          "pattern": {
           "shape": ""
          }
         },
         "name": "राष्ट्रपति",
         "offsetgroup": "राष्ट्रपति",
         "orientation": "h",
         "showlegend": true,
         "textposition": "auto",
         "type": "bar",
         "x": [
          15
         ],
         "xaxis": "x",
         "y": [
          "राष्ट्रपति"
         ],
         "yaxis": "y"
        },
        {
         "alignmentgroup": "True",
         "hovertemplate": "word=%{y}<br>frequency=%{x}<extra></extra>",
         "legendgroup": "शनिवार",
         "marker": {
          "color": "#ab63fa",
          "pattern": {
           "shape": ""
          }
         },
         "name": "शनिवार",
         "offsetgroup": "शनिवार",
         "orientation": "h",
         "showlegend": true,
         "textposition": "auto",
         "type": "bar",
         "x": [
          15
         ],
         "xaxis": "x",
         "y": [
          "शनिवार"
         ],
         "yaxis": "y"
        },
        {
         "alignmentgroup": "True",
         "hovertemplate": "word=%{y}<br>frequency=%{x}<extra></extra>",
         "legendgroup": "प्रधानमन्त्री",
         "marker": {
          "color": "#FFA15A",
          "pattern": {
           "shape": ""
          }
         },
         "name": "प्रधानमन्त्री",
         "offsetgroup": "प्रधानमन्त्री",
         "orientation": "h",
         "showlegend": true,
         "textposition": "auto",
         "type": "bar",
         "x": [
          15
         ],
         "xaxis": "x",
         "y": [
          "प्रधानमन्त्री"
         ],
         "yaxis": "y"
        },
        {
         "alignmentgroup": "True",
         "hovertemplate": "word=%{y}<br>frequency=%{x}<extra></extra>",
         "legendgroup": "कार्यक्रम",
         "marker": {
          "color": "#19d3f3",
          "pattern": {
           "shape": ""
          }
         },
         "name": "कार्यक्रम",
         "offsetgroup": "कार्यक्रम",
         "orientation": "h",
         "showlegend": true,
         "textposition": "auto",
         "type": "bar",
         "x": [
          15
         ],
         "xaxis": "x",
         "y": [
          "कार्यक्रम"
         ],
         "yaxis": "y"
        },
        {
         "alignmentgroup": "True",
         "hovertemplate": "word=%{y}<br>frequency=%{x}<extra></extra>",
         "legendgroup": "शुक्रवार",
         "marker": {
          "color": "#FF6692",
          "pattern": {
           "shape": ""
          }
         },
         "name": "शुक्रवार",
         "offsetgroup": "शुक्रवार",
         "orientation": "h",
         "showlegend": true,
         "textposition": "auto",
         "type": "bar",
         "x": [
          15
         ],
         "xaxis": "x",
         "y": [
          "शुक्रवार"
         ],
         "yaxis": "y"
        },
        {
         "alignmentgroup": "True",
         "hovertemplate": "word=%{y}<br>frequency=%{x}<extra></extra>",
         "legendgroup": "सरकारी",
         "marker": {
          "color": "#B6E880",
          "pattern": {
           "shape": ""
          }
         },
         "name": "सरकारी",
         "offsetgroup": "सरकारी",
         "orientation": "h",
         "showlegend": true,
         "textposition": "auto",
         "type": "bar",
         "x": [
          15
         ],
         "xaxis": "x",
         "y": [
          "सरकारी"
         ],
         "yaxis": "y"
        },
        {
         "alignmentgroup": "True",
         "hovertemplate": "word=%{y}<br>frequency=%{x}<extra></extra>",
         "legendgroup": "पूरा",
         "marker": {
          "color": "#FF97FF",
          "pattern": {
           "shape": ""
          }
         },
         "name": "पूरा",
         "offsetgroup": "पूरा",
         "orientation": "h",
         "showlegend": true,
         "textposition": "auto",
         "type": "bar",
         "x": [
          15
         ],
         "xaxis": "x",
         "y": [
          "पूरा"
         ],
         "yaxis": "y"
        },
        {
         "alignmentgroup": "True",
         "hovertemplate": "word=%{y}<br>frequency=%{x}<extra></extra>",
         "legendgroup": "नाफा",
         "marker": {
          "color": "#FECB52",
          "pattern": {
           "shape": ""
          }
         },
         "name": "नाफा",
         "offsetgroup": "नाफा",
         "orientation": "h",
         "showlegend": true,
         "textposition": "auto",
         "type": "bar",
         "x": [
          15
         ],
         "xaxis": "x",
         "y": [
          "नाफा"
         ],
         "yaxis": "y"
        },
        {
         "alignmentgroup": "True",
         "hovertemplate": "word=%{y}<br>frequency=%{x}<extra></extra>",
         "legendgroup": "प्रश्न",
         "marker": {
          "color": "#636efa",
          "pattern": {
           "shape": ""
          }
         },
         "name": "प्रश्न",
         "offsetgroup": "प्रश्न",
         "orientation": "h",
         "showlegend": true,
         "textposition": "auto",
         "type": "bar",
         "x": [
          14
         ],
         "xaxis": "x",
         "y": [
          "प्रश्न"
         ],
         "yaxis": "y"
        },
        {
         "alignmentgroup": "True",
         "hovertemplate": "word=%{y}<br>frequency=%{x}<extra></extra>",
         "legendgroup": "रुखमा",
         "marker": {
          "color": "#EF553B",
          "pattern": {
           "shape": ""
          }
         },
         "name": "रुखमा",
         "offsetgroup": "रुखमा",
         "orientation": "h",
         "showlegend": true,
         "textposition": "auto",
         "type": "bar",
         "x": [
          14
         ],
         "xaxis": "x",
         "y": [
          "रुखमा"
         ],
         "yaxis": "y"
        },
        {
         "alignmentgroup": "True",
         "hovertemplate": "word=%{y}<br>frequency=%{x}<extra></extra>",
         "legendgroup": "समस्या",
         "marker": {
          "color": "#00cc96",
          "pattern": {
           "shape": ""
          }
         },
         "name": "समस्या",
         "offsetgroup": "समस्या",
         "orientation": "h",
         "showlegend": true,
         "textposition": "auto",
         "type": "bar",
         "x": [
          14
         ],
         "xaxis": "x",
         "y": [
          "समस्या"
         ],
         "yaxis": "y"
        },
        {
         "alignmentgroup": "True",
         "hovertemplate": "word=%{y}<br>frequency=%{x}<extra></extra>",
         "legendgroup": "घट्यो",
         "marker": {
          "color": "#ab63fa",
          "pattern": {
           "shape": ""
          }
         },
         "name": "घट्यो",
         "offsetgroup": "घट्यो",
         "orientation": "h",
         "showlegend": true,
         "textposition": "auto",
         "type": "bar",
         "x": [
          14
         ],
         "xaxis": "x",
         "y": [
          "घट्यो"
         ],
         "yaxis": "y"
        },
        {
         "alignmentgroup": "True",
         "hovertemplate": "word=%{y}<br>frequency=%{x}<extra></extra>",
         "legendgroup": "गठबन्धनको",
         "marker": {
          "color": "#FFA15A",
          "pattern": {
           "shape": ""
          }
         },
         "name": "गठबन्धनको",
         "offsetgroup": "गठबन्धनको",
         "orientation": "h",
         "showlegend": true,
         "textposition": "auto",
         "type": "bar",
         "x": [
          14
         ],
         "xaxis": "x",
         "y": [
          "गठबन्धनको"
         ],
         "yaxis": "y"
        },
        {
         "alignmentgroup": "True",
         "hovertemplate": "word=%{y}<br>frequency=%{x}<extra></extra>",
         "legendgroup": "झापामा",
         "marker": {
          "color": "#19d3f3",
          "pattern": {
           "shape": ""
          }
         },
         "name": "झापामा",
         "offsetgroup": "झापामा",
         "orientation": "h",
         "showlegend": true,
         "textposition": "auto",
         "type": "bar",
         "x": [
          14
         ],
         "xaxis": "x",
         "y": [
          "झापामा"
         ],
         "yaxis": "y"
        },
        {
         "alignmentgroup": "True",
         "hovertemplate": "word=%{y}<br>frequency=%{x}<extra></extra>",
         "legendgroup": "निर्वाचन",
         "marker": {
          "color": "#FF6692",
          "pattern": {
           "shape": ""
          }
         },
         "name": "निर्वाचन",
         "offsetgroup": "निर्वाचन",
         "orientation": "h",
         "showlegend": true,
         "textposition": "auto",
         "type": "bar",
         "x": [
          14
         ],
         "xaxis": "x",
         "y": [
          "निर्वाचन"
         ],
         "yaxis": "y"
        },
        {
         "alignmentgroup": "True",
         "hovertemplate": "word=%{y}<br>frequency=%{x}<extra></extra>",
         "legendgroup": "श्रेष्ठ",
         "marker": {
          "color": "#B6E880",
          "pattern": {
           "shape": ""
          }
         },
         "name": "श्रेष्ठ",
         "offsetgroup": "श्रेष्ठ",
         "orientation": "h",
         "showlegend": true,
         "textposition": "auto",
         "type": "bar",
         "x": [
          14
         ],
         "xaxis": "x",
         "y": [
          "श्रेष्ठ"
         ],
         "yaxis": "y"
        },
        {
         "alignmentgroup": "True",
         "hovertemplate": "word=%{y}<br>frequency=%{x}<extra></extra>",
         "legendgroup": "तयार",
         "marker": {
          "color": "#FF97FF",
          "pattern": {
           "shape": ""
          }
         },
         "name": "तयार",
         "offsetgroup": "तयार",
         "orientation": "h",
         "showlegend": true,
         "textposition": "auto",
         "type": "bar",
         "x": [
          13
         ],
         "xaxis": "x",
         "y": [
          "तयार"
         ],
         "yaxis": "y"
        },
        {
         "alignmentgroup": "True",
         "hovertemplate": "word=%{y}<br>frequency=%{x}<extra></extra>",
         "legendgroup": "गभर्नर",
         "marker": {
          "color": "#FECB52",
          "pattern": {
           "shape": ""
          }
         },
         "name": "गभर्नर",
         "offsetgroup": "गभर्नर",
         "orientation": "h",
         "showlegend": true,
         "textposition": "auto",
         "type": "bar",
         "x": [
          13
         ],
         "xaxis": "x",
         "y": [
          "गभर्नर"
         ],
         "yaxis": "y"
        }
       ],
       "layout": {
        "barmode": "relative",
        "height": 400,
        "legend": {
         "title": {
          "text": "word"
         },
         "tracegroupgap": 0
        },
        "margin": {
         "t": 60
        },
        "template": {
         "data": {
          "bar": [
           {
            "error_x": {
             "color": "#2a3f5f"
            },
            "error_y": {
             "color": "#2a3f5f"
            },
            "marker": {
             "line": {
              "color": "#E5ECF6",
              "width": 0.5
             },
             "pattern": {
              "fillmode": "overlay",
              "size": 10,
              "solidity": 0.2
             }
            },
            "type": "bar"
           }
          ],
          "barpolar": [
           {
            "marker": {
             "line": {
              "color": "#E5ECF6",
              "width": 0.5
             },
             "pattern": {
              "fillmode": "overlay",
              "size": 10,
              "solidity": 0.2
             }
            },
            "type": "barpolar"
           }
          ],
          "carpet": [
           {
            "aaxis": {
             "endlinecolor": "#2a3f5f",
             "gridcolor": "white",
             "linecolor": "white",
             "minorgridcolor": "white",
             "startlinecolor": "#2a3f5f"
            },
            "baxis": {
             "endlinecolor": "#2a3f5f",
             "gridcolor": "white",
             "linecolor": "white",
             "minorgridcolor": "white",
             "startlinecolor": "#2a3f5f"
            },
            "type": "carpet"
           }
          ],
          "choropleth": [
           {
            "colorbar": {
             "outlinewidth": 0,
             "ticks": ""
            },
            "type": "choropleth"
           }
          ],
          "contour": [
           {
            "colorbar": {
             "outlinewidth": 0,
             "ticks": ""
            },
            "colorscale": [
             [
              0,
              "#0d0887"
             ],
             [
              0.1111111111111111,
              "#46039f"
             ],
             [
              0.2222222222222222,
              "#7201a8"
             ],
             [
              0.3333333333333333,
              "#9c179e"
             ],
             [
              0.4444444444444444,
              "#bd3786"
             ],
             [
              0.5555555555555556,
              "#d8576b"
             ],
             [
              0.6666666666666666,
              "#ed7953"
             ],
             [
              0.7777777777777778,
              "#fb9f3a"
             ],
             [
              0.8888888888888888,
              "#fdca26"
             ],
             [
              1,
              "#f0f921"
             ]
            ],
            "type": "contour"
           }
          ],
          "contourcarpet": [
           {
            "colorbar": {
             "outlinewidth": 0,
             "ticks": ""
            },
            "type": "contourcarpet"
           }
          ],
          "heatmap": [
           {
            "colorbar": {
             "outlinewidth": 0,
             "ticks": ""
            },
            "colorscale": [
             [
              0,
              "#0d0887"
             ],
             [
              0.1111111111111111,
              "#46039f"
             ],
             [
              0.2222222222222222,
              "#7201a8"
             ],
             [
              0.3333333333333333,
              "#9c179e"
             ],
             [
              0.4444444444444444,
              "#bd3786"
             ],
             [
              0.5555555555555556,
              "#d8576b"
             ],
             [
              0.6666666666666666,
              "#ed7953"
             ],
             [
              0.7777777777777778,
              "#fb9f3a"
             ],
             [
              0.8888888888888888,
              "#fdca26"
             ],
             [
              1,
              "#f0f921"
             ]
            ],
            "type": "heatmap"
           }
          ],
          "heatmapgl": [
           {
            "colorbar": {
             "outlinewidth": 0,
             "ticks": ""
            },
            "colorscale": [
             [
              0,
              "#0d0887"
             ],
             [
              0.1111111111111111,
              "#46039f"
             ],
             [
              0.2222222222222222,
              "#7201a8"
             ],
             [
              0.3333333333333333,
              "#9c179e"
             ],
             [
              0.4444444444444444,
              "#bd3786"
             ],
             [
              0.5555555555555556,
              "#d8576b"
             ],
             [
              0.6666666666666666,
              "#ed7953"
             ],
             [
              0.7777777777777778,
              "#fb9f3a"
             ],
             [
              0.8888888888888888,
              "#fdca26"
             ],
             [
              1,
              "#f0f921"
             ]
            ],
            "type": "heatmapgl"
           }
          ],
          "histogram": [
           {
            "marker": {
             "pattern": {
              "fillmode": "overlay",
              "size": 10,
              "solidity": 0.2
             }
            },
            "type": "histogram"
           }
          ],
          "histogram2d": [
           {
            "colorbar": {
             "outlinewidth": 0,
             "ticks": ""
            },
            "colorscale": [
             [
              0,
              "#0d0887"
             ],
             [
              0.1111111111111111,
              "#46039f"
             ],
             [
              0.2222222222222222,
              "#7201a8"
             ],
             [
              0.3333333333333333,
              "#9c179e"
             ],
             [
              0.4444444444444444,
              "#bd3786"
             ],
             [
              0.5555555555555556,
              "#d8576b"
             ],
             [
              0.6666666666666666,
              "#ed7953"
             ],
             [
              0.7777777777777778,
              "#fb9f3a"
             ],
             [
              0.8888888888888888,
              "#fdca26"
             ],
             [
              1,
              "#f0f921"
             ]
            ],
            "type": "histogram2d"
           }
          ],
          "histogram2dcontour": [
           {
            "colorbar": {
             "outlinewidth": 0,
             "ticks": ""
            },
            "colorscale": [
             [
              0,
              "#0d0887"
             ],
             [
              0.1111111111111111,
              "#46039f"
             ],
             [
              0.2222222222222222,
              "#7201a8"
             ],
             [
              0.3333333333333333,
              "#9c179e"
             ],
             [
              0.4444444444444444,
              "#bd3786"
             ],
             [
              0.5555555555555556,
              "#d8576b"
             ],
             [
              0.6666666666666666,
              "#ed7953"
             ],
             [
              0.7777777777777778,
              "#fb9f3a"
             ],
             [
              0.8888888888888888,
              "#fdca26"
             ],
             [
              1,
              "#f0f921"
             ]
            ],
            "type": "histogram2dcontour"
           }
          ],
          "mesh3d": [
           {
            "colorbar": {
             "outlinewidth": 0,
             "ticks": ""
            },
            "type": "mesh3d"
           }
          ],
          "parcoords": [
           {
            "line": {
             "colorbar": {
              "outlinewidth": 0,
              "ticks": ""
             }
            },
            "type": "parcoords"
           }
          ],
          "pie": [
           {
            "automargin": true,
            "type": "pie"
           }
          ],
          "scatter": [
           {
            "fillpattern": {
             "fillmode": "overlay",
             "size": 10,
             "solidity": 0.2
            },
            "type": "scatter"
           }
          ],
          "scatter3d": [
           {
            "line": {
             "colorbar": {
              "outlinewidth": 0,
              "ticks": ""
             }
            },
            "marker": {
             "colorbar": {
              "outlinewidth": 0,
              "ticks": ""
             }
            },
            "type": "scatter3d"
           }
          ],
          "scattercarpet": [
           {
            "marker": {
             "colorbar": {
              "outlinewidth": 0,
              "ticks": ""
             }
            },
            "type": "scattercarpet"
           }
          ],
          "scattergeo": [
           {
            "marker": {
             "colorbar": {
              "outlinewidth": 0,
              "ticks": ""
             }
            },
            "type": "scattergeo"
           }
          ],
          "scattergl": [
           {
            "marker": {
             "colorbar": {
              "outlinewidth": 0,
              "ticks": ""
             }
            },
            "type": "scattergl"
           }
          ],
          "scattermapbox": [
           {
            "marker": {
             "colorbar": {
              "outlinewidth": 0,
              "ticks": ""
             }
            },
            "type": "scattermapbox"
           }
          ],
          "scatterpolar": [
           {
            "marker": {
             "colorbar": {
              "outlinewidth": 0,
              "ticks": ""
             }
            },
            "type": "scatterpolar"
           }
          ],
          "scatterpolargl": [
           {
            "marker": {
             "colorbar": {
              "outlinewidth": 0,
              "ticks": ""
             }
            },
            "type": "scatterpolargl"
           }
          ],
          "scatterternary": [
           {
            "marker": {
             "colorbar": {
              "outlinewidth": 0,
              "ticks": ""
             }
            },
            "type": "scatterternary"
           }
          ],
          "surface": [
           {
            "colorbar": {
             "outlinewidth": 0,
             "ticks": ""
            },
            "colorscale": [
             [
              0,
              "#0d0887"
             ],
             [
              0.1111111111111111,
              "#46039f"
             ],
             [
              0.2222222222222222,
              "#7201a8"
             ],
             [
              0.3333333333333333,
              "#9c179e"
             ],
             [
              0.4444444444444444,
              "#bd3786"
             ],
             [
              0.5555555555555556,
              "#d8576b"
             ],
             [
              0.6666666666666666,
              "#ed7953"
             ],
             [
              0.7777777777777778,
              "#fb9f3a"
             ],
             [
              0.8888888888888888,
              "#fdca26"
             ],
             [
              1,
              "#f0f921"
             ]
            ],
            "type": "surface"
           }
          ],
          "table": [
           {
            "cells": {
             "fill": {
              "color": "#EBF0F8"
             },
             "line": {
              "color": "white"
             }
            },
            "header": {
             "fill": {
              "color": "#C8D4E3"
             },
             "line": {
              "color": "white"
             }
            },
            "type": "table"
           }
          ]
         },
         "layout": {
          "annotationdefaults": {
           "arrowcolor": "#2a3f5f",
           "arrowhead": 0,
           "arrowwidth": 1
          },
          "autotypenumbers": "strict",
          "coloraxis": {
           "colorbar": {
            "outlinewidth": 0,
            "ticks": ""
           }
          },
          "colorscale": {
           "diverging": [
            [
             0,
             "#8e0152"
            ],
            [
             0.1,
             "#c51b7d"
            ],
            [
             0.2,
             "#de77ae"
            ],
            [
             0.3,
             "#f1b6da"
            ],
            [
             0.4,
             "#fde0ef"
            ],
            [
             0.5,
             "#f7f7f7"
            ],
            [
             0.6,
             "#e6f5d0"
            ],
            [
             0.7,
             "#b8e186"
            ],
            [
             0.8,
             "#7fbc41"
            ],
            [
             0.9,
             "#4d9221"
            ],
            [
             1,
             "#276419"
            ]
           ],
           "sequential": [
            [
             0,
             "#0d0887"
            ],
            [
             0.1111111111111111,
             "#46039f"
            ],
            [
             0.2222222222222222,
             "#7201a8"
            ],
            [
             0.3333333333333333,
             "#9c179e"
            ],
            [
             0.4444444444444444,
             "#bd3786"
            ],
            [
             0.5555555555555556,
             "#d8576b"
            ],
            [
             0.6666666666666666,
             "#ed7953"
            ],
            [
             0.7777777777777778,
             "#fb9f3a"
            ],
            [
             0.8888888888888888,
             "#fdca26"
            ],
            [
             1,
             "#f0f921"
            ]
           ],
           "sequentialminus": [
            [
             0,
             "#0d0887"
            ],
            [
             0.1111111111111111,
             "#46039f"
            ],
            [
             0.2222222222222222,
             "#7201a8"
            ],
            [
             0.3333333333333333,
             "#9c179e"
            ],
            [
             0.4444444444444444,
             "#bd3786"
            ],
            [
             0.5555555555555556,
             "#d8576b"
            ],
            [
             0.6666666666666666,
             "#ed7953"
            ],
            [
             0.7777777777777778,
             "#fb9f3a"
            ],
            [
             0.8888888888888888,
             "#fdca26"
            ],
            [
             1,
             "#f0f921"
            ]
           ]
          },
          "colorway": [
           "#636efa",
           "#EF553B",
           "#00cc96",
           "#ab63fa",
           "#FFA15A",
           "#19d3f3",
           "#FF6692",
           "#B6E880",
           "#FF97FF",
           "#FECB52"
          ],
          "font": {
           "color": "#2a3f5f"
          },
          "geo": {
           "bgcolor": "white",
           "lakecolor": "white",
           "landcolor": "#E5ECF6",
           "showlakes": true,
           "showland": true,
           "subunitcolor": "white"
          },
          "hoverlabel": {
           "align": "left"
          },
          "hovermode": "closest",
          "mapbox": {
           "style": "light"
          },
          "paper_bgcolor": "white",
          "plot_bgcolor": "#E5ECF6",
          "polar": {
           "angularaxis": {
            "gridcolor": "white",
            "linecolor": "white",
            "ticks": ""
           },
           "bgcolor": "#E5ECF6",
           "radialaxis": {
            "gridcolor": "white",
            "linecolor": "white",
            "ticks": ""
           }
          },
          "scene": {
           "xaxis": {
            "backgroundcolor": "#E5ECF6",
            "gridcolor": "white",
            "gridwidth": 2,
            "linecolor": "white",
            "showbackground": true,
            "ticks": "",
            "zerolinecolor": "white"
           },
           "yaxis": {
            "backgroundcolor": "#E5ECF6",
            "gridcolor": "white",
            "gridwidth": 2,
            "linecolor": "white",
            "showbackground": true,
            "ticks": "",
            "zerolinecolor": "white"
           },
           "zaxis": {
            "backgroundcolor": "#E5ECF6",
            "gridcolor": "white",
            "gridwidth": 2,
            "linecolor": "white",
            "showbackground": true,
            "ticks": "",
            "zerolinecolor": "white"
           }
          },
          "shapedefaults": {
           "line": {
            "color": "#2a3f5f"
           }
          },
          "ternary": {
           "aaxis": {
            "gridcolor": "white",
            "linecolor": "white",
            "ticks": ""
           },
           "baxis": {
            "gridcolor": "white",
            "linecolor": "white",
            "ticks": ""
           },
           "bgcolor": "#E5ECF6",
           "caxis": {
            "gridcolor": "white",
            "linecolor": "white",
            "ticks": ""
           }
          },
          "title": {
           "x": 0.05
          },
          "xaxis": {
           "automargin": true,
           "gridcolor": "white",
           "linecolor": "white",
           "ticks": "",
           "title": {
            "standoff": 15
           },
           "zerolinecolor": "white",
           "zerolinewidth": 2
          },
          "yaxis": {
           "automargin": true,
           "gridcolor": "white",
           "linecolor": "white",
           "ticks": "",
           "title": {
            "standoff": 15
           },
           "zerolinecolor": "white",
           "zerolinewidth": 2
          }
         }
        },
        "xaxis": {
         "anchor": "y",
         "domain": [
          0,
          1
         ],
         "title": {
          "text": "frequency"
         }
        },
        "yaxis": {
         "anchor": "x",
         "categoryarray": [
          "गभर्नर",
          "तयार",
          "श्रेष्ठ",
          "निर्वाचन",
          "झापामा",
          "गठबन्धनको",
          "घट्यो",
          "समस्या",
          "रुखमा",
          "प्रश्न",
          "नाफा",
          "पूरा",
          "सरकारी",
          "शुक्रवार",
          "कार्यक्रम",
          "प्रधानमन्त्री",
          "शनिवार",
          "राष्ट्रपति",
          "फुटबल",
          "प्रतिशतले",
          "बजारमा",
          "यो",
          "भारतबाट",
          "भक्तपुरमा",
          "आईपीओ",
          "असार",
          "होइन",
          "कर्मचारी",
          "सुनको",
          "मूल्य",
          "थापा",
          "वर्ष",
          "भेटिए",
          "संक्रमित",
          "आपतकाल",
          "वितरण",
          "खर्च",
          "सुरु",
          "झुण्डिएको",
          "भ्रमण",
          "भारतीय",
          "वर्षमा",
          "अर्ब",
          "घाइते",
          "महिलाको",
          "अभियान",
          "पुष्टि",
          "कारण",
          "विकासका",
          "सङ्क्रमण",
          "भारतमा",
          "हत्या",
          "बढ्दै",
          "अन्तिम",
          "बैंक",
          "प्रतिशत",
          "देशमा",
          "नीति",
          "नेता",
          "प्रचण्ड",
          "सरकार",
          "अध्यक्ष",
          "बैंकको",
          "भारत",
          "विकास",
          "बैठक",
          "महिला",
          "जनामा",
          "पौडेल",
          "प्रदर्शन",
          "पारित",
          "हुँदै",
          "सेयर",
          "प्रहरी",
          "मन्त्री",
          "तयारी",
          "फेला",
          "किशोरी",
          "हजार",
          "सरकारको",
          "अवस्थामा",
          "बढ्यो",
          "राष्ट्रिय",
          "संक्रमण",
          "जनाको",
          "विधेयक",
          "सार्वजनिक",
          "श्रावण,८",
          "पक्राउ",
          "मौद्रिक",
          "कोरोना",
          "करोड",
          "आईतवार",
          "नागरिकता",
          "घोषणा",
          "नेपाल",
          "मृत्यु",
          "नेपाली",
          "साउन",
          "२०७९"
         ],
         "categoryorder": "array",
         "domain": [
          0,
          1
         ],
         "title": {
          "text": "word"
         }
        }
       }
      },
      "text/html": [
       "<div>                            <div id=\"48e8ef8c-a0a3-4b74-91a5-00ce1b170623\" class=\"plotly-graph-div\" style=\"height:400px; width:100%;\"></div>            <script type=\"text/javascript\">                require([\"plotly\"], function(Plotly) {                    window.PLOTLYENV=window.PLOTLYENV || {};                                    if (document.getElementById(\"48e8ef8c-a0a3-4b74-91a5-00ce1b170623\")) {                    Plotly.newPlot(                        \"48e8ef8c-a0a3-4b74-91a5-00ce1b170623\",                        [{\"alignmentgroup\":\"True\",\"hovertemplate\":\"word=%{y}<br>frequency=%{x}<extra></extra>\",\"legendgroup\":\"\\u0968\\u0966\\u096d\\u096f\",\"marker\":{\"color\":\"#636efa\",\"pattern\":{\"shape\":\"\"}},\"name\":\"\\u0968\\u0966\\u096d\\u096f\",\"offsetgroup\":\"\\u0968\\u0966\\u096d\\u096f\",\"orientation\":\"h\",\"showlegend\":true,\"textposition\":\"auto\",\"x\":[148],\"xaxis\":\"x\",\"y\":[\"\\u0968\\u0966\\u096d\\u096f\"],\"yaxis\":\"y\",\"type\":\"bar\"},{\"alignmentgroup\":\"True\",\"hovertemplate\":\"word=%{y}<br>frequency=%{x}<extra></extra>\",\"legendgroup\":\"\\u0938\\u093e\\u0909\\u0928\",\"marker\":{\"color\":\"#EF553B\",\"pattern\":{\"shape\":\"\"}},\"name\":\"\\u0938\\u093e\\u0909\\u0928\",\"offsetgroup\":\"\\u0938\\u093e\\u0909\\u0928\",\"orientation\":\"h\",\"showlegend\":true,\"textposition\":\"auto\",\"x\":[66],\"xaxis\":\"x\",\"y\":[\"\\u0938\\u093e\\u0909\\u0928\"],\"yaxis\":\"y\",\"type\":\"bar\"},{\"alignmentgroup\":\"True\",\"hovertemplate\":\"word=%{y}<br>frequency=%{x}<extra></extra>\",\"legendgroup\":\"\\u0928\\u0947\\u092a\\u093e\\u0932\\u0940\",\"marker\":{\"color\":\"#00cc96\",\"pattern\":{\"shape\":\"\"}},\"name\":\"\\u0928\\u0947\\u092a\\u093e\\u0932\\u0940\",\"offsetgroup\":\"\\u0928\\u0947\\u092a\\u093e\\u0932\\u0940\",\"orientation\":\"h\",\"showlegend\":true,\"textposition\":\"auto\",\"x\":[61],\"xaxis\":\"x\",\"y\":[\"\\u0928\\u0947\\u092a\\u093e\\u0932\\u0940\"],\"yaxis\":\"y\",\"type\":\"bar\"},{\"alignmentgroup\":\"True\",\"hovertemplate\":\"word=%{y}<br>frequency=%{x}<extra></extra>\",\"legendgroup\":\"\\u092e\\u0943\\u0924\\u094d\\u092f\\u0941\",\"marker\":{\"color\":\"#ab63fa\",\"pattern\":{\"shape\":\"\"}},\"name\":\"\\u092e\\u0943\\u0924\\u094d\\u092f\\u0941\",\"offsetgroup\":\"\\u092e\\u0943\\u0924\\u094d\\u092f\\u0941\",\"orientation\":\"h\",\"showlegend\":true,\"textposition\":\"auto\",\"x\":[60],\"xaxis\":\"x\",\"y\":[\"\\u092e\\u0943\\u0924\\u094d\\u092f\\u0941\"],\"yaxis\":\"y\",\"type\":\"bar\"},{\"alignmentgroup\":\"True\",\"hovertemplate\":\"word=%{y}<br>frequency=%{x}<extra></extra>\",\"legendgroup\":\"\\u0928\\u0947\\u092a\\u093e\\u0932\",\"marker\":{\"color\":\"#FFA15A\",\"pattern\":{\"shape\":\"\"}},\"name\":\"\\u0928\\u0947\\u092a\\u093e\\u0932\",\"offsetgroup\":\"\\u0928\\u0947\\u092a\\u093e\\u0932\",\"orientation\":\"h\",\"showlegend\":true,\"textposition\":\"auto\",\"x\":[58],\"xaxis\":\"x\",\"y\":[\"\\u0928\\u0947\\u092a\\u093e\\u0932\"],\"yaxis\":\"y\",\"type\":\"bar\"},{\"alignmentgroup\":\"True\",\"hovertemplate\":\"word=%{y}<br>frequency=%{x}<extra></extra>\",\"legendgroup\":\"\\u0918\\u094b\\u0937\\u0923\\u093e\",\"marker\":{\"color\":\"#19d3f3\",\"pattern\":{\"shape\":\"\"}},\"name\":\"\\u0918\\u094b\\u0937\\u0923\\u093e\",\"offsetgroup\":\"\\u0918\\u094b\\u0937\\u0923\\u093e\",\"orientation\":\"h\",\"showlegend\":true,\"textposition\":\"auto\",\"x\":[52],\"xaxis\":\"x\",\"y\":[\"\\u0918\\u094b\\u0937\\u0923\\u093e\"],\"yaxis\":\"y\",\"type\":\"bar\"},{\"alignmentgroup\":\"True\",\"hovertemplate\":\"word=%{y}<br>frequency=%{x}<extra></extra>\",\"legendgroup\":\"\\u0928\\u093e\\u0917\\u0930\\u093f\\u0915\\u0924\\u093e\",\"marker\":{\"color\":\"#FF6692\",\"pattern\":{\"shape\":\"\"}},\"name\":\"\\u0928\\u093e\\u0917\\u0930\\u093f\\u0915\\u0924\\u093e\",\"offsetgroup\":\"\\u0928\\u093e\\u0917\\u0930\\u093f\\u0915\\u0924\\u093e\",\"orientation\":\"h\",\"showlegend\":true,\"textposition\":\"auto\",\"x\":[47],\"xaxis\":\"x\",\"y\":[\"\\u0928\\u093e\\u0917\\u0930\\u093f\\u0915\\u0924\\u093e\"],\"yaxis\":\"y\",\"type\":\"bar\"},{\"alignmentgroup\":\"True\",\"hovertemplate\":\"word=%{y}<br>frequency=%{x}<extra></extra>\",\"legendgroup\":\"\\u0906\\u0908\\u0924\\u0935\\u093e\\u0930\",\"marker\":{\"color\":\"#B6E880\",\"pattern\":{\"shape\":\"\"}},\"name\":\"\\u0906\\u0908\\u0924\\u0935\\u093e\\u0930\",\"offsetgroup\":\"\\u0906\\u0908\\u0924\\u0935\\u093e\\u0930\",\"orientation\":\"h\",\"showlegend\":true,\"textposition\":\"auto\",\"x\":[41],\"xaxis\":\"x\",\"y\":[\"\\u0906\\u0908\\u0924\\u0935\\u093e\\u0930\"],\"yaxis\":\"y\",\"type\":\"bar\"},{\"alignmentgroup\":\"True\",\"hovertemplate\":\"word=%{y}<br>frequency=%{x}<extra></extra>\",\"legendgroup\":\"\\u0915\\u0930\\u094b\\u0921\",\"marker\":{\"color\":\"#FF97FF\",\"pattern\":{\"shape\":\"\"}},\"name\":\"\\u0915\\u0930\\u094b\\u0921\",\"offsetgroup\":\"\\u0915\\u0930\\u094b\\u0921\",\"orientation\":\"h\",\"showlegend\":true,\"textposition\":\"auto\",\"x\":[41],\"xaxis\":\"x\",\"y\":[\"\\u0915\\u0930\\u094b\\u0921\"],\"yaxis\":\"y\",\"type\":\"bar\"},{\"alignmentgroup\":\"True\",\"hovertemplate\":\"word=%{y}<br>frequency=%{x}<extra></extra>\",\"legendgroup\":\"\\u0915\\u094b\\u0930\\u094b\\u0928\\u093e\",\"marker\":{\"color\":\"#FECB52\",\"pattern\":{\"shape\":\"\"}},\"name\":\"\\u0915\\u094b\\u0930\\u094b\\u0928\\u093e\",\"offsetgroup\":\"\\u0915\\u094b\\u0930\\u094b\\u0928\\u093e\",\"orientation\":\"h\",\"showlegend\":true,\"textposition\":\"auto\",\"x\":[39],\"xaxis\":\"x\",\"y\":[\"\\u0915\\u094b\\u0930\\u094b\\u0928\\u093e\"],\"yaxis\":\"y\",\"type\":\"bar\"},{\"alignmentgroup\":\"True\",\"hovertemplate\":\"word=%{y}<br>frequency=%{x}<extra></extra>\",\"legendgroup\":\"\\u092e\\u094c\\u0926\\u094d\\u0930\\u093f\\u0915\",\"marker\":{\"color\":\"#636efa\",\"pattern\":{\"shape\":\"\"}},\"name\":\"\\u092e\\u094c\\u0926\\u094d\\u0930\\u093f\\u0915\",\"offsetgroup\":\"\\u092e\\u094c\\u0926\\u094d\\u0930\\u093f\\u0915\",\"orientation\":\"h\",\"showlegend\":true,\"textposition\":\"auto\",\"x\":[39],\"xaxis\":\"x\",\"y\":[\"\\u092e\\u094c\\u0926\\u094d\\u0930\\u093f\\u0915\"],\"yaxis\":\"y\",\"type\":\"bar\"},{\"alignmentgroup\":\"True\",\"hovertemplate\":\"word=%{y}<br>frequency=%{x}<extra></extra>\",\"legendgroup\":\"\\u092a\\u0915\\u094d\\u0930\\u093e\\u0909\",\"marker\":{\"color\":\"#EF553B\",\"pattern\":{\"shape\":\"\"}},\"name\":\"\\u092a\\u0915\\u094d\\u0930\\u093e\\u0909\",\"offsetgroup\":\"\\u092a\\u0915\\u094d\\u0930\\u093e\\u0909\",\"orientation\":\"h\",\"showlegend\":true,\"textposition\":\"auto\",\"x\":[37],\"xaxis\":\"x\",\"y\":[\"\\u092a\\u0915\\u094d\\u0930\\u093e\\u0909\"],\"yaxis\":\"y\",\"type\":\"bar\"},{\"alignmentgroup\":\"True\",\"hovertemplate\":\"word=%{y}<br>frequency=%{x}<extra></extra>\",\"legendgroup\":\"\\u0936\\u094d\\u0930\\u093e\\u0935\\u0923,\\u096e\",\"marker\":{\"color\":\"#00cc96\",\"pattern\":{\"shape\":\"\"}},\"name\":\"\\u0936\\u094d\\u0930\\u093e\\u0935\\u0923,\\u096e\",\"offsetgroup\":\"\\u0936\\u094d\\u0930\\u093e\\u0935\\u0923,\\u096e\",\"orientation\":\"h\",\"showlegend\":true,\"textposition\":\"auto\",\"x\":[36],\"xaxis\":\"x\",\"y\":[\"\\u0936\\u094d\\u0930\\u093e\\u0935\\u0923,\\u096e\"],\"yaxis\":\"y\",\"type\":\"bar\"},{\"alignmentgroup\":\"True\",\"hovertemplate\":\"word=%{y}<br>frequency=%{x}<extra></extra>\",\"legendgroup\":\"\\u0938\\u093e\\u0930\\u094d\\u0935\\u091c\\u0928\\u093f\\u0915\",\"marker\":{\"color\":\"#ab63fa\",\"pattern\":{\"shape\":\"\"}},\"name\":\"\\u0938\\u093e\\u0930\\u094d\\u0935\\u091c\\u0928\\u093f\\u0915\",\"offsetgroup\":\"\\u0938\\u093e\\u0930\\u094d\\u0935\\u091c\\u0928\\u093f\\u0915\",\"orientation\":\"h\",\"showlegend\":true,\"textposition\":\"auto\",\"x\":[35],\"xaxis\":\"x\",\"y\":[\"\\u0938\\u093e\\u0930\\u094d\\u0935\\u091c\\u0928\\u093f\\u0915\"],\"yaxis\":\"y\",\"type\":\"bar\"},{\"alignmentgroup\":\"True\",\"hovertemplate\":\"word=%{y}<br>frequency=%{x}<extra></extra>\",\"legendgroup\":\"\\u0935\\u093f\\u0927\\u0947\\u092f\\u0915\",\"marker\":{\"color\":\"#FFA15A\",\"pattern\":{\"shape\":\"\"}},\"name\":\"\\u0935\\u093f\\u0927\\u0947\\u092f\\u0915\",\"offsetgroup\":\"\\u0935\\u093f\\u0927\\u0947\\u092f\\u0915\",\"orientation\":\"h\",\"showlegend\":true,\"textposition\":\"auto\",\"x\":[35],\"xaxis\":\"x\",\"y\":[\"\\u0935\\u093f\\u0927\\u0947\\u092f\\u0915\"],\"yaxis\":\"y\",\"type\":\"bar\"},{\"alignmentgroup\":\"True\",\"hovertemplate\":\"word=%{y}<br>frequency=%{x}<extra></extra>\",\"legendgroup\":\"\\u091c\\u0928\\u093e\\u0915\\u094b\",\"marker\":{\"color\":\"#19d3f3\",\"pattern\":{\"shape\":\"\"}},\"name\":\"\\u091c\\u0928\\u093e\\u0915\\u094b\",\"offsetgroup\":\"\\u091c\\u0928\\u093e\\u0915\\u094b\",\"orientation\":\"h\",\"showlegend\":true,\"textposition\":\"auto\",\"x\":[35],\"xaxis\":\"x\",\"y\":[\"\\u091c\\u0928\\u093e\\u0915\\u094b\"],\"yaxis\":\"y\",\"type\":\"bar\"},{\"alignmentgroup\":\"True\",\"hovertemplate\":\"word=%{y}<br>frequency=%{x}<extra></extra>\",\"legendgroup\":\"\\u0938\\u0902\\u0915\\u094d\\u0930\\u092e\\u0923\",\"marker\":{\"color\":\"#FF6692\",\"pattern\":{\"shape\":\"\"}},\"name\":\"\\u0938\\u0902\\u0915\\u094d\\u0930\\u092e\\u0923\",\"offsetgroup\":\"\\u0938\\u0902\\u0915\\u094d\\u0930\\u092e\\u0923\",\"orientation\":\"h\",\"showlegend\":true,\"textposition\":\"auto\",\"x\":[33],\"xaxis\":\"x\",\"y\":[\"\\u0938\\u0902\\u0915\\u094d\\u0930\\u092e\\u0923\"],\"yaxis\":\"y\",\"type\":\"bar\"},{\"alignmentgroup\":\"True\",\"hovertemplate\":\"word=%{y}<br>frequency=%{x}<extra></extra>\",\"legendgroup\":\"\\u0930\\u093e\\u0937\\u094d\\u091f\\u094d\\u0930\\u093f\\u092f\",\"marker\":{\"color\":\"#B6E880\",\"pattern\":{\"shape\":\"\"}},\"name\":\"\\u0930\\u093e\\u0937\\u094d\\u091f\\u094d\\u0930\\u093f\\u092f\",\"offsetgroup\":\"\\u0930\\u093e\\u0937\\u094d\\u091f\\u094d\\u0930\\u093f\\u092f\",\"orientation\":\"h\",\"showlegend\":true,\"textposition\":\"auto\",\"x\":[32],\"xaxis\":\"x\",\"y\":[\"\\u0930\\u093e\\u0937\\u094d\\u091f\\u094d\\u0930\\u093f\\u092f\"],\"yaxis\":\"y\",\"type\":\"bar\"},{\"alignmentgroup\":\"True\",\"hovertemplate\":\"word=%{y}<br>frequency=%{x}<extra></extra>\",\"legendgroup\":\"\\u092c\\u0922\\u094d\\u092f\\u094b\",\"marker\":{\"color\":\"#FF97FF\",\"pattern\":{\"shape\":\"\"}},\"name\":\"\\u092c\\u0922\\u094d\\u092f\\u094b\",\"offsetgroup\":\"\\u092c\\u0922\\u094d\\u092f\\u094b\",\"orientation\":\"h\",\"showlegend\":true,\"textposition\":\"auto\",\"x\":[31],\"xaxis\":\"x\",\"y\":[\"\\u092c\\u0922\\u094d\\u092f\\u094b\"],\"yaxis\":\"y\",\"type\":\"bar\"},{\"alignmentgroup\":\"True\",\"hovertemplate\":\"word=%{y}<br>frequency=%{x}<extra></extra>\",\"legendgroup\":\"\\u0905\\u0935\\u0938\\u094d\\u0925\\u093e\\u092e\\u093e\",\"marker\":{\"color\":\"#FECB52\",\"pattern\":{\"shape\":\"\"}},\"name\":\"\\u0905\\u0935\\u0938\\u094d\\u0925\\u093e\\u092e\\u093e\",\"offsetgroup\":\"\\u0905\\u0935\\u0938\\u094d\\u0925\\u093e\\u092e\\u093e\",\"orientation\":\"h\",\"showlegend\":true,\"textposition\":\"auto\",\"x\":[30],\"xaxis\":\"x\",\"y\":[\"\\u0905\\u0935\\u0938\\u094d\\u0925\\u093e\\u092e\\u093e\"],\"yaxis\":\"y\",\"type\":\"bar\"},{\"alignmentgroup\":\"True\",\"hovertemplate\":\"word=%{y}<br>frequency=%{x}<extra></extra>\",\"legendgroup\":\"\\u0938\\u0930\\u0915\\u093e\\u0930\\u0915\\u094b\",\"marker\":{\"color\":\"#636efa\",\"pattern\":{\"shape\":\"\"}},\"name\":\"\\u0938\\u0930\\u0915\\u093e\\u0930\\u0915\\u094b\",\"offsetgroup\":\"\\u0938\\u0930\\u0915\\u093e\\u0930\\u0915\\u094b\",\"orientation\":\"h\",\"showlegend\":true,\"textposition\":\"auto\",\"x\":[29],\"xaxis\":\"x\",\"y\":[\"\\u0938\\u0930\\u0915\\u093e\\u0930\\u0915\\u094b\"],\"yaxis\":\"y\",\"type\":\"bar\"},{\"alignmentgroup\":\"True\",\"hovertemplate\":\"word=%{y}<br>frequency=%{x}<extra></extra>\",\"legendgroup\":\"\\u0939\\u091c\\u093e\\u0930\",\"marker\":{\"color\":\"#EF553B\",\"pattern\":{\"shape\":\"\"}},\"name\":\"\\u0939\\u091c\\u093e\\u0930\",\"offsetgroup\":\"\\u0939\\u091c\\u093e\\u0930\",\"orientation\":\"h\",\"showlegend\":true,\"textposition\":\"auto\",\"x\":[28],\"xaxis\":\"x\",\"y\":[\"\\u0939\\u091c\\u093e\\u0930\"],\"yaxis\":\"y\",\"type\":\"bar\"},{\"alignmentgroup\":\"True\",\"hovertemplate\":\"word=%{y}<br>frequency=%{x}<extra></extra>\",\"legendgroup\":\"\\u0915\\u093f\\u0936\\u094b\\u0930\\u0940\",\"marker\":{\"color\":\"#00cc96\",\"pattern\":{\"shape\":\"\"}},\"name\":\"\\u0915\\u093f\\u0936\\u094b\\u0930\\u0940\",\"offsetgroup\":\"\\u0915\\u093f\\u0936\\u094b\\u0930\\u0940\",\"orientation\":\"h\",\"showlegend\":true,\"textposition\":\"auto\",\"x\":[27],\"xaxis\":\"x\",\"y\":[\"\\u0915\\u093f\\u0936\\u094b\\u0930\\u0940\"],\"yaxis\":\"y\",\"type\":\"bar\"},{\"alignmentgroup\":\"True\",\"hovertemplate\":\"word=%{y}<br>frequency=%{x}<extra></extra>\",\"legendgroup\":\"\\u092b\\u0947\\u0932\\u093e\",\"marker\":{\"color\":\"#ab63fa\",\"pattern\":{\"shape\":\"\"}},\"name\":\"\\u092b\\u0947\\u0932\\u093e\",\"offsetgroup\":\"\\u092b\\u0947\\u0932\\u093e\",\"orientation\":\"h\",\"showlegend\":true,\"textposition\":\"auto\",\"x\":[27],\"xaxis\":\"x\",\"y\":[\"\\u092b\\u0947\\u0932\\u093e\"],\"yaxis\":\"y\",\"type\":\"bar\"},{\"alignmentgroup\":\"True\",\"hovertemplate\":\"word=%{y}<br>frequency=%{x}<extra></extra>\",\"legendgroup\":\"\\u0924\\u092f\\u093e\\u0930\\u0940\",\"marker\":{\"color\":\"#FFA15A\",\"pattern\":{\"shape\":\"\"}},\"name\":\"\\u0924\\u092f\\u093e\\u0930\\u0940\",\"offsetgroup\":\"\\u0924\\u092f\\u093e\\u0930\\u0940\",\"orientation\":\"h\",\"showlegend\":true,\"textposition\":\"auto\",\"x\":[27],\"xaxis\":\"x\",\"y\":[\"\\u0924\\u092f\\u093e\\u0930\\u0940\"],\"yaxis\":\"y\",\"type\":\"bar\"},{\"alignmentgroup\":\"True\",\"hovertemplate\":\"word=%{y}<br>frequency=%{x}<extra></extra>\",\"legendgroup\":\"\\u092e\\u0928\\u094d\\u0924\\u094d\\u0930\\u0940\",\"marker\":{\"color\":\"#19d3f3\",\"pattern\":{\"shape\":\"\"}},\"name\":\"\\u092e\\u0928\\u094d\\u0924\\u094d\\u0930\\u0940\",\"offsetgroup\":\"\\u092e\\u0928\\u094d\\u0924\\u094d\\u0930\\u0940\",\"orientation\":\"h\",\"showlegend\":true,\"textposition\":\"auto\",\"x\":[26],\"xaxis\":\"x\",\"y\":[\"\\u092e\\u0928\\u094d\\u0924\\u094d\\u0930\\u0940\"],\"yaxis\":\"y\",\"type\":\"bar\"},{\"alignmentgroup\":\"True\",\"hovertemplate\":\"word=%{y}<br>frequency=%{x}<extra></extra>\",\"legendgroup\":\"\\u092a\\u094d\\u0930\\u0939\\u0930\\u0940\",\"marker\":{\"color\":\"#FF6692\",\"pattern\":{\"shape\":\"\"}},\"name\":\"\\u092a\\u094d\\u0930\\u0939\\u0930\\u0940\",\"offsetgroup\":\"\\u092a\\u094d\\u0930\\u0939\\u0930\\u0940\",\"orientation\":\"h\",\"showlegend\":true,\"textposition\":\"auto\",\"x\":[25],\"xaxis\":\"x\",\"y\":[\"\\u092a\\u094d\\u0930\\u0939\\u0930\\u0940\"],\"yaxis\":\"y\",\"type\":\"bar\"},{\"alignmentgroup\":\"True\",\"hovertemplate\":\"word=%{y}<br>frequency=%{x}<extra></extra>\",\"legendgroup\":\"\\u0938\\u0947\\u092f\\u0930\",\"marker\":{\"color\":\"#B6E880\",\"pattern\":{\"shape\":\"\"}},\"name\":\"\\u0938\\u0947\\u092f\\u0930\",\"offsetgroup\":\"\\u0938\\u0947\\u092f\\u0930\",\"orientation\":\"h\",\"showlegend\":true,\"textposition\":\"auto\",\"x\":[25],\"xaxis\":\"x\",\"y\":[\"\\u0938\\u0947\\u092f\\u0930\"],\"yaxis\":\"y\",\"type\":\"bar\"},{\"alignmentgroup\":\"True\",\"hovertemplate\":\"word=%{y}<br>frequency=%{x}<extra></extra>\",\"legendgroup\":\"\\u0939\\u0941\\u0901\\u0926\\u0948\",\"marker\":{\"color\":\"#FF97FF\",\"pattern\":{\"shape\":\"\"}},\"name\":\"\\u0939\\u0941\\u0901\\u0926\\u0948\",\"offsetgroup\":\"\\u0939\\u0941\\u0901\\u0926\\u0948\",\"orientation\":\"h\",\"showlegend\":true,\"textposition\":\"auto\",\"x\":[25],\"xaxis\":\"x\",\"y\":[\"\\u0939\\u0941\\u0901\\u0926\\u0948\"],\"yaxis\":\"y\",\"type\":\"bar\"},{\"alignmentgroup\":\"True\",\"hovertemplate\":\"word=%{y}<br>frequency=%{x}<extra></extra>\",\"legendgroup\":\"\\u092a\\u093e\\u0930\\u093f\\u0924\",\"marker\":{\"color\":\"#FECB52\",\"pattern\":{\"shape\":\"\"}},\"name\":\"\\u092a\\u093e\\u0930\\u093f\\u0924\",\"offsetgroup\":\"\\u092a\\u093e\\u0930\\u093f\\u0924\",\"orientation\":\"h\",\"showlegend\":true,\"textposition\":\"auto\",\"x\":[24],\"xaxis\":\"x\",\"y\":[\"\\u092a\\u093e\\u0930\\u093f\\u0924\"],\"yaxis\":\"y\",\"type\":\"bar\"},{\"alignmentgroup\":\"True\",\"hovertemplate\":\"word=%{y}<br>frequency=%{x}<extra></extra>\",\"legendgroup\":\"\\u092a\\u094d\\u0930\\u0926\\u0930\\u094d\\u0936\\u0928\",\"marker\":{\"color\":\"#636efa\",\"pattern\":{\"shape\":\"\"}},\"name\":\"\\u092a\\u094d\\u0930\\u0926\\u0930\\u094d\\u0936\\u0928\",\"offsetgroup\":\"\\u092a\\u094d\\u0930\\u0926\\u0930\\u094d\\u0936\\u0928\",\"orientation\":\"h\",\"showlegend\":true,\"textposition\":\"auto\",\"x\":[24],\"xaxis\":\"x\",\"y\":[\"\\u092a\\u094d\\u0930\\u0926\\u0930\\u094d\\u0936\\u0928\"],\"yaxis\":\"y\",\"type\":\"bar\"},{\"alignmentgroup\":\"True\",\"hovertemplate\":\"word=%{y}<br>frequency=%{x}<extra></extra>\",\"legendgroup\":\"\\u092a\\u094c\\u0921\\u0947\\u0932\",\"marker\":{\"color\":\"#EF553B\",\"pattern\":{\"shape\":\"\"}},\"name\":\"\\u092a\\u094c\\u0921\\u0947\\u0932\",\"offsetgroup\":\"\\u092a\\u094c\\u0921\\u0947\\u0932\",\"orientation\":\"h\",\"showlegend\":true,\"textposition\":\"auto\",\"x\":[23],\"xaxis\":\"x\",\"y\":[\"\\u092a\\u094c\\u0921\\u0947\\u0932\"],\"yaxis\":\"y\",\"type\":\"bar\"},{\"alignmentgroup\":\"True\",\"hovertemplate\":\"word=%{y}<br>frequency=%{x}<extra></extra>\",\"legendgroup\":\"\\u091c\\u0928\\u093e\\u092e\\u093e\",\"marker\":{\"color\":\"#00cc96\",\"pattern\":{\"shape\":\"\"}},\"name\":\"\\u091c\\u0928\\u093e\\u092e\\u093e\",\"offsetgroup\":\"\\u091c\\u0928\\u093e\\u092e\\u093e\",\"orientation\":\"h\",\"showlegend\":true,\"textposition\":\"auto\",\"x\":[23],\"xaxis\":\"x\",\"y\":[\"\\u091c\\u0928\\u093e\\u092e\\u093e\"],\"yaxis\":\"y\",\"type\":\"bar\"},{\"alignmentgroup\":\"True\",\"hovertemplate\":\"word=%{y}<br>frequency=%{x}<extra></extra>\",\"legendgroup\":\"\\u092e\\u0939\\u093f\\u0932\\u093e\",\"marker\":{\"color\":\"#ab63fa\",\"pattern\":{\"shape\":\"\"}},\"name\":\"\\u092e\\u0939\\u093f\\u0932\\u093e\",\"offsetgroup\":\"\\u092e\\u0939\\u093f\\u0932\\u093e\",\"orientation\":\"h\",\"showlegend\":true,\"textposition\":\"auto\",\"x\":[23],\"xaxis\":\"x\",\"y\":[\"\\u092e\\u0939\\u093f\\u0932\\u093e\"],\"yaxis\":\"y\",\"type\":\"bar\"},{\"alignmentgroup\":\"True\",\"hovertemplate\":\"word=%{y}<br>frequency=%{x}<extra></extra>\",\"legendgroup\":\"\\u092c\\u0948\\u0920\\u0915\",\"marker\":{\"color\":\"#FFA15A\",\"pattern\":{\"shape\":\"\"}},\"name\":\"\\u092c\\u0948\\u0920\\u0915\",\"offsetgroup\":\"\\u092c\\u0948\\u0920\\u0915\",\"orientation\":\"h\",\"showlegend\":true,\"textposition\":\"auto\",\"x\":[23],\"xaxis\":\"x\",\"y\":[\"\\u092c\\u0948\\u0920\\u0915\"],\"yaxis\":\"y\",\"type\":\"bar\"},{\"alignmentgroup\":\"True\",\"hovertemplate\":\"word=%{y}<br>frequency=%{x}<extra></extra>\",\"legendgroup\":\"\\u0935\\u093f\\u0915\\u093e\\u0938\",\"marker\":{\"color\":\"#19d3f3\",\"pattern\":{\"shape\":\"\"}},\"name\":\"\\u0935\\u093f\\u0915\\u093e\\u0938\",\"offsetgroup\":\"\\u0935\\u093f\\u0915\\u093e\\u0938\",\"orientation\":\"h\",\"showlegend\":true,\"textposition\":\"auto\",\"x\":[23],\"xaxis\":\"x\",\"y\":[\"\\u0935\\u093f\\u0915\\u093e\\u0938\"],\"yaxis\":\"y\",\"type\":\"bar\"},{\"alignmentgroup\":\"True\",\"hovertemplate\":\"word=%{y}<br>frequency=%{x}<extra></extra>\",\"legendgroup\":\"\\u092d\\u093e\\u0930\\u0924\",\"marker\":{\"color\":\"#FF6692\",\"pattern\":{\"shape\":\"\"}},\"name\":\"\\u092d\\u093e\\u0930\\u0924\",\"offsetgroup\":\"\\u092d\\u093e\\u0930\\u0924\",\"orientation\":\"h\",\"showlegend\":true,\"textposition\":\"auto\",\"x\":[23],\"xaxis\":\"x\",\"y\":[\"\\u092d\\u093e\\u0930\\u0924\"],\"yaxis\":\"y\",\"type\":\"bar\"},{\"alignmentgroup\":\"True\",\"hovertemplate\":\"word=%{y}<br>frequency=%{x}<extra></extra>\",\"legendgroup\":\"\\u092c\\u0948\\u0902\\u0915\\u0915\\u094b\",\"marker\":{\"color\":\"#B6E880\",\"pattern\":{\"shape\":\"\"}},\"name\":\"\\u092c\\u0948\\u0902\\u0915\\u0915\\u094b\",\"offsetgroup\":\"\\u092c\\u0948\\u0902\\u0915\\u0915\\u094b\",\"orientation\":\"h\",\"showlegend\":true,\"textposition\":\"auto\",\"x\":[22],\"xaxis\":\"x\",\"y\":[\"\\u092c\\u0948\\u0902\\u0915\\u0915\\u094b\"],\"yaxis\":\"y\",\"type\":\"bar\"},{\"alignmentgroup\":\"True\",\"hovertemplate\":\"word=%{y}<br>frequency=%{x}<extra></extra>\",\"legendgroup\":\"\\u0905\\u0927\\u094d\\u092f\\u0915\\u094d\\u0937\",\"marker\":{\"color\":\"#FF97FF\",\"pattern\":{\"shape\":\"\"}},\"name\":\"\\u0905\\u0927\\u094d\\u092f\\u0915\\u094d\\u0937\",\"offsetgroup\":\"\\u0905\\u0927\\u094d\\u092f\\u0915\\u094d\\u0937\",\"orientation\":\"h\",\"showlegend\":true,\"textposition\":\"auto\",\"x\":[22],\"xaxis\":\"x\",\"y\":[\"\\u0905\\u0927\\u094d\\u092f\\u0915\\u094d\\u0937\"],\"yaxis\":\"y\",\"type\":\"bar\"},{\"alignmentgroup\":\"True\",\"hovertemplate\":\"word=%{y}<br>frequency=%{x}<extra></extra>\",\"legendgroup\":\"\\u0938\\u0930\\u0915\\u093e\\u0930\",\"marker\":{\"color\":\"#FECB52\",\"pattern\":{\"shape\":\"\"}},\"name\":\"\\u0938\\u0930\\u0915\\u093e\\u0930\",\"offsetgroup\":\"\\u0938\\u0930\\u0915\\u093e\\u0930\",\"orientation\":\"h\",\"showlegend\":true,\"textposition\":\"auto\",\"x\":[21],\"xaxis\":\"x\",\"y\":[\"\\u0938\\u0930\\u0915\\u093e\\u0930\"],\"yaxis\":\"y\",\"type\":\"bar\"},{\"alignmentgroup\":\"True\",\"hovertemplate\":\"word=%{y}<br>frequency=%{x}<extra></extra>\",\"legendgroup\":\"\\u092a\\u094d\\u0930\\u091a\\u0923\\u094d\\u0921\",\"marker\":{\"color\":\"#636efa\",\"pattern\":{\"shape\":\"\"}},\"name\":\"\\u092a\\u094d\\u0930\\u091a\\u0923\\u094d\\u0921\",\"offsetgroup\":\"\\u092a\\u094d\\u0930\\u091a\\u0923\\u094d\\u0921\",\"orientation\":\"h\",\"showlegend\":true,\"textposition\":\"auto\",\"x\":[21],\"xaxis\":\"x\",\"y\":[\"\\u092a\\u094d\\u0930\\u091a\\u0923\\u094d\\u0921\"],\"yaxis\":\"y\",\"type\":\"bar\"},{\"alignmentgroup\":\"True\",\"hovertemplate\":\"word=%{y}<br>frequency=%{x}<extra></extra>\",\"legendgroup\":\"\\u0928\\u0947\\u0924\\u093e\",\"marker\":{\"color\":\"#EF553B\",\"pattern\":{\"shape\":\"\"}},\"name\":\"\\u0928\\u0947\\u0924\\u093e\",\"offsetgroup\":\"\\u0928\\u0947\\u0924\\u093e\",\"orientation\":\"h\",\"showlegend\":true,\"textposition\":\"auto\",\"x\":[21],\"xaxis\":\"x\",\"y\":[\"\\u0928\\u0947\\u0924\\u093e\"],\"yaxis\":\"y\",\"type\":\"bar\"},{\"alignmentgroup\":\"True\",\"hovertemplate\":\"word=%{y}<br>frequency=%{x}<extra></extra>\",\"legendgroup\":\"\\u0928\\u0940\\u0924\\u093f\",\"marker\":{\"color\":\"#00cc96\",\"pattern\":{\"shape\":\"\"}},\"name\":\"\\u0928\\u0940\\u0924\\u093f\",\"offsetgroup\":\"\\u0928\\u0940\\u0924\\u093f\",\"orientation\":\"h\",\"showlegend\":true,\"textposition\":\"auto\",\"x\":[21],\"xaxis\":\"x\",\"y\":[\"\\u0928\\u0940\\u0924\\u093f\"],\"yaxis\":\"y\",\"type\":\"bar\"},{\"alignmentgroup\":\"True\",\"hovertemplate\":\"word=%{y}<br>frequency=%{x}<extra></extra>\",\"legendgroup\":\"\\u0926\\u0947\\u0936\\u092e\\u093e\",\"marker\":{\"color\":\"#ab63fa\",\"pattern\":{\"shape\":\"\"}},\"name\":\"\\u0926\\u0947\\u0936\\u092e\\u093e\",\"offsetgroup\":\"\\u0926\\u0947\\u0936\\u092e\\u093e\",\"orientation\":\"h\",\"showlegend\":true,\"textposition\":\"auto\",\"x\":[21],\"xaxis\":\"x\",\"y\":[\"\\u0926\\u0947\\u0936\\u092e\\u093e\"],\"yaxis\":\"y\",\"type\":\"bar\"},{\"alignmentgroup\":\"True\",\"hovertemplate\":\"word=%{y}<br>frequency=%{x}<extra></extra>\",\"legendgroup\":\"\\u092a\\u094d\\u0930\\u0924\\u093f\\u0936\\u0924\",\"marker\":{\"color\":\"#FFA15A\",\"pattern\":{\"shape\":\"\"}},\"name\":\"\\u092a\\u094d\\u0930\\u0924\\u093f\\u0936\\u0924\",\"offsetgroup\":\"\\u092a\\u094d\\u0930\\u0924\\u093f\\u0936\\u0924\",\"orientation\":\"h\",\"showlegend\":true,\"textposition\":\"auto\",\"x\":[21],\"xaxis\":\"x\",\"y\":[\"\\u092a\\u094d\\u0930\\u0924\\u093f\\u0936\\u0924\"],\"yaxis\":\"y\",\"type\":\"bar\"},{\"alignmentgroup\":\"True\",\"hovertemplate\":\"word=%{y}<br>frequency=%{x}<extra></extra>\",\"legendgroup\":\"\\u092c\\u0948\\u0902\\u0915\",\"marker\":{\"color\":\"#19d3f3\",\"pattern\":{\"shape\":\"\"}},\"name\":\"\\u092c\\u0948\\u0902\\u0915\",\"offsetgroup\":\"\\u092c\\u0948\\u0902\\u0915\",\"orientation\":\"h\",\"showlegend\":true,\"textposition\":\"auto\",\"x\":[20],\"xaxis\":\"x\",\"y\":[\"\\u092c\\u0948\\u0902\\u0915\"],\"yaxis\":\"y\",\"type\":\"bar\"},{\"alignmentgroup\":\"True\",\"hovertemplate\":\"word=%{y}<br>frequency=%{x}<extra></extra>\",\"legendgroup\":\"\\u0905\\u0928\\u094d\\u0924\\u093f\\u092e\",\"marker\":{\"color\":\"#FF6692\",\"pattern\":{\"shape\":\"\"}},\"name\":\"\\u0905\\u0928\\u094d\\u0924\\u093f\\u092e\",\"offsetgroup\":\"\\u0905\\u0928\\u094d\\u0924\\u093f\\u092e\",\"orientation\":\"h\",\"showlegend\":true,\"textposition\":\"auto\",\"x\":[20],\"xaxis\":\"x\",\"y\":[\"\\u0905\\u0928\\u094d\\u0924\\u093f\\u092e\"],\"yaxis\":\"y\",\"type\":\"bar\"},{\"alignmentgroup\":\"True\",\"hovertemplate\":\"word=%{y}<br>frequency=%{x}<extra></extra>\",\"legendgroup\":\"\\u092c\\u0922\\u094d\\u0926\\u0948\",\"marker\":{\"color\":\"#B6E880\",\"pattern\":{\"shape\":\"\"}},\"name\":\"\\u092c\\u0922\\u094d\\u0926\\u0948\",\"offsetgroup\":\"\\u092c\\u0922\\u094d\\u0926\\u0948\",\"orientation\":\"h\",\"showlegend\":true,\"textposition\":\"auto\",\"x\":[20],\"xaxis\":\"x\",\"y\":[\"\\u092c\\u0922\\u094d\\u0926\\u0948\"],\"yaxis\":\"y\",\"type\":\"bar\"},{\"alignmentgroup\":\"True\",\"hovertemplate\":\"word=%{y}<br>frequency=%{x}<extra></extra>\",\"legendgroup\":\"\\u0939\\u0924\\u094d\\u092f\\u093e\",\"marker\":{\"color\":\"#FF97FF\",\"pattern\":{\"shape\":\"\"}},\"name\":\"\\u0939\\u0924\\u094d\\u092f\\u093e\",\"offsetgroup\":\"\\u0939\\u0924\\u094d\\u092f\\u093e\",\"orientation\":\"h\",\"showlegend\":true,\"textposition\":\"auto\",\"x\":[20],\"xaxis\":\"x\",\"y\":[\"\\u0939\\u0924\\u094d\\u092f\\u093e\"],\"yaxis\":\"y\",\"type\":\"bar\"},{\"alignmentgroup\":\"True\",\"hovertemplate\":\"word=%{y}<br>frequency=%{x}<extra></extra>\",\"legendgroup\":\"\\u092d\\u093e\\u0930\\u0924\\u092e\\u093e\",\"marker\":{\"color\":\"#FECB52\",\"pattern\":{\"shape\":\"\"}},\"name\":\"\\u092d\\u093e\\u0930\\u0924\\u092e\\u093e\",\"offsetgroup\":\"\\u092d\\u093e\\u0930\\u0924\\u092e\\u093e\",\"orientation\":\"h\",\"showlegend\":true,\"textposition\":\"auto\",\"x\":[19],\"xaxis\":\"x\",\"y\":[\"\\u092d\\u093e\\u0930\\u0924\\u092e\\u093e\"],\"yaxis\":\"y\",\"type\":\"bar\"},{\"alignmentgroup\":\"True\",\"hovertemplate\":\"word=%{y}<br>frequency=%{x}<extra></extra>\",\"legendgroup\":\"\\u0938\\u0919\\u094d\\u0915\\u094d\\u0930\\u092e\\u0923\",\"marker\":{\"color\":\"#636efa\",\"pattern\":{\"shape\":\"\"}},\"name\":\"\\u0938\\u0919\\u094d\\u0915\\u094d\\u0930\\u092e\\u0923\",\"offsetgroup\":\"\\u0938\\u0919\\u094d\\u0915\\u094d\\u0930\\u092e\\u0923\",\"orientation\":\"h\",\"showlegend\":true,\"textposition\":\"auto\",\"x\":[19],\"xaxis\":\"x\",\"y\":[\"\\u0938\\u0919\\u094d\\u0915\\u094d\\u0930\\u092e\\u0923\"],\"yaxis\":\"y\",\"type\":\"bar\"},{\"alignmentgroup\":\"True\",\"hovertemplate\":\"word=%{y}<br>frequency=%{x}<extra></extra>\",\"legendgroup\":\"\\u0935\\u093f\\u0915\\u093e\\u0938\\u0915\\u093e\",\"marker\":{\"color\":\"#EF553B\",\"pattern\":{\"shape\":\"\"}},\"name\":\"\\u0935\\u093f\\u0915\\u093e\\u0938\\u0915\\u093e\",\"offsetgroup\":\"\\u0935\\u093f\\u0915\\u093e\\u0938\\u0915\\u093e\",\"orientation\":\"h\",\"showlegend\":true,\"textposition\":\"auto\",\"x\":[19],\"xaxis\":\"x\",\"y\":[\"\\u0935\\u093f\\u0915\\u093e\\u0938\\u0915\\u093e\"],\"yaxis\":\"y\",\"type\":\"bar\"},{\"alignmentgroup\":\"True\",\"hovertemplate\":\"word=%{y}<br>frequency=%{x}<extra></extra>\",\"legendgroup\":\"\\u0915\\u093e\\u0930\\u0923\",\"marker\":{\"color\":\"#00cc96\",\"pattern\":{\"shape\":\"\"}},\"name\":\"\\u0915\\u093e\\u0930\\u0923\",\"offsetgroup\":\"\\u0915\\u093e\\u0930\\u0923\",\"orientation\":\"h\",\"showlegend\":true,\"textposition\":\"auto\",\"x\":[19],\"xaxis\":\"x\",\"y\":[\"\\u0915\\u093e\\u0930\\u0923\"],\"yaxis\":\"y\",\"type\":\"bar\"},{\"alignmentgroup\":\"True\",\"hovertemplate\":\"word=%{y}<br>frequency=%{x}<extra></extra>\",\"legendgroup\":\"\\u092a\\u0941\\u0937\\u094d\\u091f\\u093f\",\"marker\":{\"color\":\"#ab63fa\",\"pattern\":{\"shape\":\"\"}},\"name\":\"\\u092a\\u0941\\u0937\\u094d\\u091f\\u093f\",\"offsetgroup\":\"\\u092a\\u0941\\u0937\\u094d\\u091f\\u093f\",\"orientation\":\"h\",\"showlegend\":true,\"textposition\":\"auto\",\"x\":[18],\"xaxis\":\"x\",\"y\":[\"\\u092a\\u0941\\u0937\\u094d\\u091f\\u093f\"],\"yaxis\":\"y\",\"type\":\"bar\"},{\"alignmentgroup\":\"True\",\"hovertemplate\":\"word=%{y}<br>frequency=%{x}<extra></extra>\",\"legendgroup\":\"\\u0905\\u092d\\u093f\\u092f\\u093e\\u0928\",\"marker\":{\"color\":\"#FFA15A\",\"pattern\":{\"shape\":\"\"}},\"name\":\"\\u0905\\u092d\\u093f\\u092f\\u093e\\u0928\",\"offsetgroup\":\"\\u0905\\u092d\\u093f\\u092f\\u093e\\u0928\",\"orientation\":\"h\",\"showlegend\":true,\"textposition\":\"auto\",\"x\":[18],\"xaxis\":\"x\",\"y\":[\"\\u0905\\u092d\\u093f\\u092f\\u093e\\u0928\"],\"yaxis\":\"y\",\"type\":\"bar\"},{\"alignmentgroup\":\"True\",\"hovertemplate\":\"word=%{y}<br>frequency=%{x}<extra></extra>\",\"legendgroup\":\"\\u092e\\u0939\\u093f\\u0932\\u093e\\u0915\\u094b\",\"marker\":{\"color\":\"#19d3f3\",\"pattern\":{\"shape\":\"\"}},\"name\":\"\\u092e\\u0939\\u093f\\u0932\\u093e\\u0915\\u094b\",\"offsetgroup\":\"\\u092e\\u0939\\u093f\\u0932\\u093e\\u0915\\u094b\",\"orientation\":\"h\",\"showlegend\":true,\"textposition\":\"auto\",\"x\":[18],\"xaxis\":\"x\",\"y\":[\"\\u092e\\u0939\\u093f\\u0932\\u093e\\u0915\\u094b\"],\"yaxis\":\"y\",\"type\":\"bar\"},{\"alignmentgroup\":\"True\",\"hovertemplate\":\"word=%{y}<br>frequency=%{x}<extra></extra>\",\"legendgroup\":\"\\u0918\\u093e\\u0907\\u0924\\u0947\",\"marker\":{\"color\":\"#FF6692\",\"pattern\":{\"shape\":\"\"}},\"name\":\"\\u0918\\u093e\\u0907\\u0924\\u0947\",\"offsetgroup\":\"\\u0918\\u093e\\u0907\\u0924\\u0947\",\"orientation\":\"h\",\"showlegend\":true,\"textposition\":\"auto\",\"x\":[18],\"xaxis\":\"x\",\"y\":[\"\\u0918\\u093e\\u0907\\u0924\\u0947\"],\"yaxis\":\"y\",\"type\":\"bar\"},{\"alignmentgroup\":\"True\",\"hovertemplate\":\"word=%{y}<br>frequency=%{x}<extra></extra>\",\"legendgroup\":\"\\u0905\\u0930\\u094d\\u092c\",\"marker\":{\"color\":\"#B6E880\",\"pattern\":{\"shape\":\"\"}},\"name\":\"\\u0905\\u0930\\u094d\\u092c\",\"offsetgroup\":\"\\u0905\\u0930\\u094d\\u092c\",\"orientation\":\"h\",\"showlegend\":true,\"textposition\":\"auto\",\"x\":[18],\"xaxis\":\"x\",\"y\":[\"\\u0905\\u0930\\u094d\\u092c\"],\"yaxis\":\"y\",\"type\":\"bar\"},{\"alignmentgroup\":\"True\",\"hovertemplate\":\"word=%{y}<br>frequency=%{x}<extra></extra>\",\"legendgroup\":\"\\u0935\\u0930\\u094d\\u0937\\u092e\\u093e\",\"marker\":{\"color\":\"#FF97FF\",\"pattern\":{\"shape\":\"\"}},\"name\":\"\\u0935\\u0930\\u094d\\u0937\\u092e\\u093e\",\"offsetgroup\":\"\\u0935\\u0930\\u094d\\u0937\\u092e\\u093e\",\"orientation\":\"h\",\"showlegend\":true,\"textposition\":\"auto\",\"x\":[18],\"xaxis\":\"x\",\"y\":[\"\\u0935\\u0930\\u094d\\u0937\\u092e\\u093e\"],\"yaxis\":\"y\",\"type\":\"bar\"},{\"alignmentgroup\":\"True\",\"hovertemplate\":\"word=%{y}<br>frequency=%{x}<extra></extra>\",\"legendgroup\":\"\\u092d\\u093e\\u0930\\u0924\\u0940\\u092f\",\"marker\":{\"color\":\"#FECB52\",\"pattern\":{\"shape\":\"\"}},\"name\":\"\\u092d\\u093e\\u0930\\u0924\\u0940\\u092f\",\"offsetgroup\":\"\\u092d\\u093e\\u0930\\u0924\\u0940\\u092f\",\"orientation\":\"h\",\"showlegend\":true,\"textposition\":\"auto\",\"x\":[18],\"xaxis\":\"x\",\"y\":[\"\\u092d\\u093e\\u0930\\u0924\\u0940\\u092f\"],\"yaxis\":\"y\",\"type\":\"bar\"},{\"alignmentgroup\":\"True\",\"hovertemplate\":\"word=%{y}<br>frequency=%{x}<extra></extra>\",\"legendgroup\":\"\\u092d\\u094d\\u0930\\u092e\\u0923\",\"marker\":{\"color\":\"#636efa\",\"pattern\":{\"shape\":\"\"}},\"name\":\"\\u092d\\u094d\\u0930\\u092e\\u0923\",\"offsetgroup\":\"\\u092d\\u094d\\u0930\\u092e\\u0923\",\"orientation\":\"h\",\"showlegend\":true,\"textposition\":\"auto\",\"x\":[18],\"xaxis\":\"x\",\"y\":[\"\\u092d\\u094d\\u0930\\u092e\\u0923\"],\"yaxis\":\"y\",\"type\":\"bar\"},{\"alignmentgroup\":\"True\",\"hovertemplate\":\"word=%{y}<br>frequency=%{x}<extra></extra>\",\"legendgroup\":\"\\u091d\\u0941\\u0923\\u094d\\u0921\\u093f\\u090f\\u0915\\u094b\",\"marker\":{\"color\":\"#EF553B\",\"pattern\":{\"shape\":\"\"}},\"name\":\"\\u091d\\u0941\\u0923\\u094d\\u0921\\u093f\\u090f\\u0915\\u094b\",\"offsetgroup\":\"\\u091d\\u0941\\u0923\\u094d\\u0921\\u093f\\u090f\\u0915\\u094b\",\"orientation\":\"h\",\"showlegend\":true,\"textposition\":\"auto\",\"x\":[17],\"xaxis\":\"x\",\"y\":[\"\\u091d\\u0941\\u0923\\u094d\\u0921\\u093f\\u090f\\u0915\\u094b\"],\"yaxis\":\"y\",\"type\":\"bar\"},{\"alignmentgroup\":\"True\",\"hovertemplate\":\"word=%{y}<br>frequency=%{x}<extra></extra>\",\"legendgroup\":\"\\u0938\\u0941\\u0930\\u0941\",\"marker\":{\"color\":\"#00cc96\",\"pattern\":{\"shape\":\"\"}},\"name\":\"\\u0938\\u0941\\u0930\\u0941\",\"offsetgroup\":\"\\u0938\\u0941\\u0930\\u0941\",\"orientation\":\"h\",\"showlegend\":true,\"textposition\":\"auto\",\"x\":[17],\"xaxis\":\"x\",\"y\":[\"\\u0938\\u0941\\u0930\\u0941\"],\"yaxis\":\"y\",\"type\":\"bar\"},{\"alignmentgroup\":\"True\",\"hovertemplate\":\"word=%{y}<br>frequency=%{x}<extra></extra>\",\"legendgroup\":\"\\u0916\\u0930\\u094d\\u091a\",\"marker\":{\"color\":\"#ab63fa\",\"pattern\":{\"shape\":\"\"}},\"name\":\"\\u0916\\u0930\\u094d\\u091a\",\"offsetgroup\":\"\\u0916\\u0930\\u094d\\u091a\",\"orientation\":\"h\",\"showlegend\":true,\"textposition\":\"auto\",\"x\":[17],\"xaxis\":\"x\",\"y\":[\"\\u0916\\u0930\\u094d\\u091a\"],\"yaxis\":\"y\",\"type\":\"bar\"},{\"alignmentgroup\":\"True\",\"hovertemplate\":\"word=%{y}<br>frequency=%{x}<extra></extra>\",\"legendgroup\":\"\\u0935\\u093f\\u0924\\u0930\\u0923\",\"marker\":{\"color\":\"#FFA15A\",\"pattern\":{\"shape\":\"\"}},\"name\":\"\\u0935\\u093f\\u0924\\u0930\\u0923\",\"offsetgroup\":\"\\u0935\\u093f\\u0924\\u0930\\u0923\",\"orientation\":\"h\",\"showlegend\":true,\"textposition\":\"auto\",\"x\":[17],\"xaxis\":\"x\",\"y\":[\"\\u0935\\u093f\\u0924\\u0930\\u0923\"],\"yaxis\":\"y\",\"type\":\"bar\"},{\"alignmentgroup\":\"True\",\"hovertemplate\":\"word=%{y}<br>frequency=%{x}<extra></extra>\",\"legendgroup\":\"\\u0906\\u092a\\u0924\\u0915\\u093e\\u0932\",\"marker\":{\"color\":\"#19d3f3\",\"pattern\":{\"shape\":\"\"}},\"name\":\"\\u0906\\u092a\\u0924\\u0915\\u093e\\u0932\",\"offsetgroup\":\"\\u0906\\u092a\\u0924\\u0915\\u093e\\u0932\",\"orientation\":\"h\",\"showlegend\":true,\"textposition\":\"auto\",\"x\":[17],\"xaxis\":\"x\",\"y\":[\"\\u0906\\u092a\\u0924\\u0915\\u093e\\u0932\"],\"yaxis\":\"y\",\"type\":\"bar\"},{\"alignmentgroup\":\"True\",\"hovertemplate\":\"word=%{y}<br>frequency=%{x}<extra></extra>\",\"legendgroup\":\"\\u0938\\u0902\\u0915\\u094d\\u0930\\u092e\\u093f\\u0924\",\"marker\":{\"color\":\"#FF6692\",\"pattern\":{\"shape\":\"\"}},\"name\":\"\\u0938\\u0902\\u0915\\u094d\\u0930\\u092e\\u093f\\u0924\",\"offsetgroup\":\"\\u0938\\u0902\\u0915\\u094d\\u0930\\u092e\\u093f\\u0924\",\"orientation\":\"h\",\"showlegend\":true,\"textposition\":\"auto\",\"x\":[16],\"xaxis\":\"x\",\"y\":[\"\\u0938\\u0902\\u0915\\u094d\\u0930\\u092e\\u093f\\u0924\"],\"yaxis\":\"y\",\"type\":\"bar\"},{\"alignmentgroup\":\"True\",\"hovertemplate\":\"word=%{y}<br>frequency=%{x}<extra></extra>\",\"legendgroup\":\"\\u092d\\u0947\\u091f\\u093f\\u090f\",\"marker\":{\"color\":\"#B6E880\",\"pattern\":{\"shape\":\"\"}},\"name\":\"\\u092d\\u0947\\u091f\\u093f\\u090f\",\"offsetgroup\":\"\\u092d\\u0947\\u091f\\u093f\\u090f\",\"orientation\":\"h\",\"showlegend\":true,\"textposition\":\"auto\",\"x\":[16],\"xaxis\":\"x\",\"y\":[\"\\u092d\\u0947\\u091f\\u093f\\u090f\"],\"yaxis\":\"y\",\"type\":\"bar\"},{\"alignmentgroup\":\"True\",\"hovertemplate\":\"word=%{y}<br>frequency=%{x}<extra></extra>\",\"legendgroup\":\"\\u0935\\u0930\\u094d\\u0937\",\"marker\":{\"color\":\"#FF97FF\",\"pattern\":{\"shape\":\"\"}},\"name\":\"\\u0935\\u0930\\u094d\\u0937\",\"offsetgroup\":\"\\u0935\\u0930\\u094d\\u0937\",\"orientation\":\"h\",\"showlegend\":true,\"textposition\":\"auto\",\"x\":[16],\"xaxis\":\"x\",\"y\":[\"\\u0935\\u0930\\u094d\\u0937\"],\"yaxis\":\"y\",\"type\":\"bar\"},{\"alignmentgroup\":\"True\",\"hovertemplate\":\"word=%{y}<br>frequency=%{x}<extra></extra>\",\"legendgroup\":\"\\u0925\\u093e\\u092a\\u093e\",\"marker\":{\"color\":\"#FECB52\",\"pattern\":{\"shape\":\"\"}},\"name\":\"\\u0925\\u093e\\u092a\\u093e\",\"offsetgroup\":\"\\u0925\\u093e\\u092a\\u093e\",\"orientation\":\"h\",\"showlegend\":true,\"textposition\":\"auto\",\"x\":[16],\"xaxis\":\"x\",\"y\":[\"\\u0925\\u093e\\u092a\\u093e\"],\"yaxis\":\"y\",\"type\":\"bar\"},{\"alignmentgroup\":\"True\",\"hovertemplate\":\"word=%{y}<br>frequency=%{x}<extra></extra>\",\"legendgroup\":\"\\u092e\\u0942\\u0932\\u094d\\u092f\",\"marker\":{\"color\":\"#636efa\",\"pattern\":{\"shape\":\"\"}},\"name\":\"\\u092e\\u0942\\u0932\\u094d\\u092f\",\"offsetgroup\":\"\\u092e\\u0942\\u0932\\u094d\\u092f\",\"orientation\":\"h\",\"showlegend\":true,\"textposition\":\"auto\",\"x\":[16],\"xaxis\":\"x\",\"y\":[\"\\u092e\\u0942\\u0932\\u094d\\u092f\"],\"yaxis\":\"y\",\"type\":\"bar\"},{\"alignmentgroup\":\"True\",\"hovertemplate\":\"word=%{y}<br>frequency=%{x}<extra></extra>\",\"legendgroup\":\"\\u0938\\u0941\\u0928\\u0915\\u094b\",\"marker\":{\"color\":\"#EF553B\",\"pattern\":{\"shape\":\"\"}},\"name\":\"\\u0938\\u0941\\u0928\\u0915\\u094b\",\"offsetgroup\":\"\\u0938\\u0941\\u0928\\u0915\\u094b\",\"orientation\":\"h\",\"showlegend\":true,\"textposition\":\"auto\",\"x\":[16],\"xaxis\":\"x\",\"y\":[\"\\u0938\\u0941\\u0928\\u0915\\u094b\"],\"yaxis\":\"y\",\"type\":\"bar\"},{\"alignmentgroup\":\"True\",\"hovertemplate\":\"word=%{y}<br>frequency=%{x}<extra></extra>\",\"legendgroup\":\"\\u0915\\u0930\\u094d\\u092e\\u091a\\u093e\\u0930\\u0940\",\"marker\":{\"color\":\"#00cc96\",\"pattern\":{\"shape\":\"\"}},\"name\":\"\\u0915\\u0930\\u094d\\u092e\\u091a\\u093e\\u0930\\u0940\",\"offsetgroup\":\"\\u0915\\u0930\\u094d\\u092e\\u091a\\u093e\\u0930\\u0940\",\"orientation\":\"h\",\"showlegend\":true,\"textposition\":\"auto\",\"x\":[16],\"xaxis\":\"x\",\"y\":[\"\\u0915\\u0930\\u094d\\u092e\\u091a\\u093e\\u0930\\u0940\"],\"yaxis\":\"y\",\"type\":\"bar\"},{\"alignmentgroup\":\"True\",\"hovertemplate\":\"word=%{y}<br>frequency=%{x}<extra></extra>\",\"legendgroup\":\"\\u0939\\u094b\\u0907\\u0928\",\"marker\":{\"color\":\"#ab63fa\",\"pattern\":{\"shape\":\"\"}},\"name\":\"\\u0939\\u094b\\u0907\\u0928\",\"offsetgroup\":\"\\u0939\\u094b\\u0907\\u0928\",\"orientation\":\"h\",\"showlegend\":true,\"textposition\":\"auto\",\"x\":[16],\"xaxis\":\"x\",\"y\":[\"\\u0939\\u094b\\u0907\\u0928\"],\"yaxis\":\"y\",\"type\":\"bar\"},{\"alignmentgroup\":\"True\",\"hovertemplate\":\"word=%{y}<br>frequency=%{x}<extra></extra>\",\"legendgroup\":\"\\u0905\\u0938\\u093e\\u0930\",\"marker\":{\"color\":\"#FFA15A\",\"pattern\":{\"shape\":\"\"}},\"name\":\"\\u0905\\u0938\\u093e\\u0930\",\"offsetgroup\":\"\\u0905\\u0938\\u093e\\u0930\",\"orientation\":\"h\",\"showlegend\":true,\"textposition\":\"auto\",\"x\":[16],\"xaxis\":\"x\",\"y\":[\"\\u0905\\u0938\\u093e\\u0930\"],\"yaxis\":\"y\",\"type\":\"bar\"},{\"alignmentgroup\":\"True\",\"hovertemplate\":\"word=%{y}<br>frequency=%{x}<extra></extra>\",\"legendgroup\":\"\\u0906\\u0908\\u092a\\u0940\\u0913\",\"marker\":{\"color\":\"#19d3f3\",\"pattern\":{\"shape\":\"\"}},\"name\":\"\\u0906\\u0908\\u092a\\u0940\\u0913\",\"offsetgroup\":\"\\u0906\\u0908\\u092a\\u0940\\u0913\",\"orientation\":\"h\",\"showlegend\":true,\"textposition\":\"auto\",\"x\":[16],\"xaxis\":\"x\",\"y\":[\"\\u0906\\u0908\\u092a\\u0940\\u0913\"],\"yaxis\":\"y\",\"type\":\"bar\"},{\"alignmentgroup\":\"True\",\"hovertemplate\":\"word=%{y}<br>frequency=%{x}<extra></extra>\",\"legendgroup\":\"\\u092d\\u0915\\u094d\\u0924\\u092a\\u0941\\u0930\\u092e\\u093e\",\"marker\":{\"color\":\"#FF6692\",\"pattern\":{\"shape\":\"\"}},\"name\":\"\\u092d\\u0915\\u094d\\u0924\\u092a\\u0941\\u0930\\u092e\\u093e\",\"offsetgroup\":\"\\u092d\\u0915\\u094d\\u0924\\u092a\\u0941\\u0930\\u092e\\u093e\",\"orientation\":\"h\",\"showlegend\":true,\"textposition\":\"auto\",\"x\":[16],\"xaxis\":\"x\",\"y\":[\"\\u092d\\u0915\\u094d\\u0924\\u092a\\u0941\\u0930\\u092e\\u093e\"],\"yaxis\":\"y\",\"type\":\"bar\"},{\"alignmentgroup\":\"True\",\"hovertemplate\":\"word=%{y}<br>frequency=%{x}<extra></extra>\",\"legendgroup\":\"\\u092d\\u093e\\u0930\\u0924\\u092c\\u093e\\u091f\",\"marker\":{\"color\":\"#B6E880\",\"pattern\":{\"shape\":\"\"}},\"name\":\"\\u092d\\u093e\\u0930\\u0924\\u092c\\u093e\\u091f\",\"offsetgroup\":\"\\u092d\\u093e\\u0930\\u0924\\u092c\\u093e\\u091f\",\"orientation\":\"h\",\"showlegend\":true,\"textposition\":\"auto\",\"x\":[16],\"xaxis\":\"x\",\"y\":[\"\\u092d\\u093e\\u0930\\u0924\\u092c\\u093e\\u091f\"],\"yaxis\":\"y\",\"type\":\"bar\"},{\"alignmentgroup\":\"True\",\"hovertemplate\":\"word=%{y}<br>frequency=%{x}<extra></extra>\",\"legendgroup\":\"\\u092f\\u094b\",\"marker\":{\"color\":\"#FF97FF\",\"pattern\":{\"shape\":\"\"}},\"name\":\"\\u092f\\u094b\",\"offsetgroup\":\"\\u092f\\u094b\",\"orientation\":\"h\",\"showlegend\":true,\"textposition\":\"auto\",\"x\":[16],\"xaxis\":\"x\",\"y\":[\"\\u092f\\u094b\"],\"yaxis\":\"y\",\"type\":\"bar\"},{\"alignmentgroup\":\"True\",\"hovertemplate\":\"word=%{y}<br>frequency=%{x}<extra></extra>\",\"legendgroup\":\"\\u092c\\u091c\\u093e\\u0930\\u092e\\u093e\",\"marker\":{\"color\":\"#FECB52\",\"pattern\":{\"shape\":\"\"}},\"name\":\"\\u092c\\u091c\\u093e\\u0930\\u092e\\u093e\",\"offsetgroup\":\"\\u092c\\u091c\\u093e\\u0930\\u092e\\u093e\",\"orientation\":\"h\",\"showlegend\":true,\"textposition\":\"auto\",\"x\":[16],\"xaxis\":\"x\",\"y\":[\"\\u092c\\u091c\\u093e\\u0930\\u092e\\u093e\"],\"yaxis\":\"y\",\"type\":\"bar\"},{\"alignmentgroup\":\"True\",\"hovertemplate\":\"word=%{y}<br>frequency=%{x}<extra></extra>\",\"legendgroup\":\"\\u092a\\u094d\\u0930\\u0924\\u093f\\u0936\\u0924\\u0932\\u0947\",\"marker\":{\"color\":\"#636efa\",\"pattern\":{\"shape\":\"\"}},\"name\":\"\\u092a\\u094d\\u0930\\u0924\\u093f\\u0936\\u0924\\u0932\\u0947\",\"offsetgroup\":\"\\u092a\\u094d\\u0930\\u0924\\u093f\\u0936\\u0924\\u0932\\u0947\",\"orientation\":\"h\",\"showlegend\":true,\"textposition\":\"auto\",\"x\":[15],\"xaxis\":\"x\",\"y\":[\"\\u092a\\u094d\\u0930\\u0924\\u093f\\u0936\\u0924\\u0932\\u0947\"],\"yaxis\":\"y\",\"type\":\"bar\"},{\"alignmentgroup\":\"True\",\"hovertemplate\":\"word=%{y}<br>frequency=%{x}<extra></extra>\",\"legendgroup\":\"\\u092b\\u0941\\u091f\\u092c\\u0932\",\"marker\":{\"color\":\"#EF553B\",\"pattern\":{\"shape\":\"\"}},\"name\":\"\\u092b\\u0941\\u091f\\u092c\\u0932\",\"offsetgroup\":\"\\u092b\\u0941\\u091f\\u092c\\u0932\",\"orientation\":\"h\",\"showlegend\":true,\"textposition\":\"auto\",\"x\":[15],\"xaxis\":\"x\",\"y\":[\"\\u092b\\u0941\\u091f\\u092c\\u0932\"],\"yaxis\":\"y\",\"type\":\"bar\"},{\"alignmentgroup\":\"True\",\"hovertemplate\":\"word=%{y}<br>frequency=%{x}<extra></extra>\",\"legendgroup\":\"\\u0930\\u093e\\u0937\\u094d\\u091f\\u094d\\u0930\\u092a\\u0924\\u093f\",\"marker\":{\"color\":\"#00cc96\",\"pattern\":{\"shape\":\"\"}},\"name\":\"\\u0930\\u093e\\u0937\\u094d\\u091f\\u094d\\u0930\\u092a\\u0924\\u093f\",\"offsetgroup\":\"\\u0930\\u093e\\u0937\\u094d\\u091f\\u094d\\u0930\\u092a\\u0924\\u093f\",\"orientation\":\"h\",\"showlegend\":true,\"textposition\":\"auto\",\"x\":[15],\"xaxis\":\"x\",\"y\":[\"\\u0930\\u093e\\u0937\\u094d\\u091f\\u094d\\u0930\\u092a\\u0924\\u093f\"],\"yaxis\":\"y\",\"type\":\"bar\"},{\"alignmentgroup\":\"True\",\"hovertemplate\":\"word=%{y}<br>frequency=%{x}<extra></extra>\",\"legendgroup\":\"\\u0936\\u0928\\u093f\\u0935\\u093e\\u0930\",\"marker\":{\"color\":\"#ab63fa\",\"pattern\":{\"shape\":\"\"}},\"name\":\"\\u0936\\u0928\\u093f\\u0935\\u093e\\u0930\",\"offsetgroup\":\"\\u0936\\u0928\\u093f\\u0935\\u093e\\u0930\",\"orientation\":\"h\",\"showlegend\":true,\"textposition\":\"auto\",\"x\":[15],\"xaxis\":\"x\",\"y\":[\"\\u0936\\u0928\\u093f\\u0935\\u093e\\u0930\"],\"yaxis\":\"y\",\"type\":\"bar\"},{\"alignmentgroup\":\"True\",\"hovertemplate\":\"word=%{y}<br>frequency=%{x}<extra></extra>\",\"legendgroup\":\"\\u092a\\u094d\\u0930\\u0927\\u093e\\u0928\\u092e\\u0928\\u094d\\u0924\\u094d\\u0930\\u0940\",\"marker\":{\"color\":\"#FFA15A\",\"pattern\":{\"shape\":\"\"}},\"name\":\"\\u092a\\u094d\\u0930\\u0927\\u093e\\u0928\\u092e\\u0928\\u094d\\u0924\\u094d\\u0930\\u0940\",\"offsetgroup\":\"\\u092a\\u094d\\u0930\\u0927\\u093e\\u0928\\u092e\\u0928\\u094d\\u0924\\u094d\\u0930\\u0940\",\"orientation\":\"h\",\"showlegend\":true,\"textposition\":\"auto\",\"x\":[15],\"xaxis\":\"x\",\"y\":[\"\\u092a\\u094d\\u0930\\u0927\\u093e\\u0928\\u092e\\u0928\\u094d\\u0924\\u094d\\u0930\\u0940\"],\"yaxis\":\"y\",\"type\":\"bar\"},{\"alignmentgroup\":\"True\",\"hovertemplate\":\"word=%{y}<br>frequency=%{x}<extra></extra>\",\"legendgroup\":\"\\u0915\\u093e\\u0930\\u094d\\u092f\\u0915\\u094d\\u0930\\u092e\",\"marker\":{\"color\":\"#19d3f3\",\"pattern\":{\"shape\":\"\"}},\"name\":\"\\u0915\\u093e\\u0930\\u094d\\u092f\\u0915\\u094d\\u0930\\u092e\",\"offsetgroup\":\"\\u0915\\u093e\\u0930\\u094d\\u092f\\u0915\\u094d\\u0930\\u092e\",\"orientation\":\"h\",\"showlegend\":true,\"textposition\":\"auto\",\"x\":[15],\"xaxis\":\"x\",\"y\":[\"\\u0915\\u093e\\u0930\\u094d\\u092f\\u0915\\u094d\\u0930\\u092e\"],\"yaxis\":\"y\",\"type\":\"bar\"},{\"alignmentgroup\":\"True\",\"hovertemplate\":\"word=%{y}<br>frequency=%{x}<extra></extra>\",\"legendgroup\":\"\\u0936\\u0941\\u0915\\u094d\\u0930\\u0935\\u093e\\u0930\",\"marker\":{\"color\":\"#FF6692\",\"pattern\":{\"shape\":\"\"}},\"name\":\"\\u0936\\u0941\\u0915\\u094d\\u0930\\u0935\\u093e\\u0930\",\"offsetgroup\":\"\\u0936\\u0941\\u0915\\u094d\\u0930\\u0935\\u093e\\u0930\",\"orientation\":\"h\",\"showlegend\":true,\"textposition\":\"auto\",\"x\":[15],\"xaxis\":\"x\",\"y\":[\"\\u0936\\u0941\\u0915\\u094d\\u0930\\u0935\\u093e\\u0930\"],\"yaxis\":\"y\",\"type\":\"bar\"},{\"alignmentgroup\":\"True\",\"hovertemplate\":\"word=%{y}<br>frequency=%{x}<extra></extra>\",\"legendgroup\":\"\\u0938\\u0930\\u0915\\u093e\\u0930\\u0940\",\"marker\":{\"color\":\"#B6E880\",\"pattern\":{\"shape\":\"\"}},\"name\":\"\\u0938\\u0930\\u0915\\u093e\\u0930\\u0940\",\"offsetgroup\":\"\\u0938\\u0930\\u0915\\u093e\\u0930\\u0940\",\"orientation\":\"h\",\"showlegend\":true,\"textposition\":\"auto\",\"x\":[15],\"xaxis\":\"x\",\"y\":[\"\\u0938\\u0930\\u0915\\u093e\\u0930\\u0940\"],\"yaxis\":\"y\",\"type\":\"bar\"},{\"alignmentgroup\":\"True\",\"hovertemplate\":\"word=%{y}<br>frequency=%{x}<extra></extra>\",\"legendgroup\":\"\\u092a\\u0942\\u0930\\u093e\",\"marker\":{\"color\":\"#FF97FF\",\"pattern\":{\"shape\":\"\"}},\"name\":\"\\u092a\\u0942\\u0930\\u093e\",\"offsetgroup\":\"\\u092a\\u0942\\u0930\\u093e\",\"orientation\":\"h\",\"showlegend\":true,\"textposition\":\"auto\",\"x\":[15],\"xaxis\":\"x\",\"y\":[\"\\u092a\\u0942\\u0930\\u093e\"],\"yaxis\":\"y\",\"type\":\"bar\"},{\"alignmentgroup\":\"True\",\"hovertemplate\":\"word=%{y}<br>frequency=%{x}<extra></extra>\",\"legendgroup\":\"\\u0928\\u093e\\u092b\\u093e\",\"marker\":{\"color\":\"#FECB52\",\"pattern\":{\"shape\":\"\"}},\"name\":\"\\u0928\\u093e\\u092b\\u093e\",\"offsetgroup\":\"\\u0928\\u093e\\u092b\\u093e\",\"orientation\":\"h\",\"showlegend\":true,\"textposition\":\"auto\",\"x\":[15],\"xaxis\":\"x\",\"y\":[\"\\u0928\\u093e\\u092b\\u093e\"],\"yaxis\":\"y\",\"type\":\"bar\"},{\"alignmentgroup\":\"True\",\"hovertemplate\":\"word=%{y}<br>frequency=%{x}<extra></extra>\",\"legendgroup\":\"\\u092a\\u094d\\u0930\\u0936\\u094d\\u0928\",\"marker\":{\"color\":\"#636efa\",\"pattern\":{\"shape\":\"\"}},\"name\":\"\\u092a\\u094d\\u0930\\u0936\\u094d\\u0928\",\"offsetgroup\":\"\\u092a\\u094d\\u0930\\u0936\\u094d\\u0928\",\"orientation\":\"h\",\"showlegend\":true,\"textposition\":\"auto\",\"x\":[14],\"xaxis\":\"x\",\"y\":[\"\\u092a\\u094d\\u0930\\u0936\\u094d\\u0928\"],\"yaxis\":\"y\",\"type\":\"bar\"},{\"alignmentgroup\":\"True\",\"hovertemplate\":\"word=%{y}<br>frequency=%{x}<extra></extra>\",\"legendgroup\":\"\\u0930\\u0941\\u0916\\u092e\\u093e\",\"marker\":{\"color\":\"#EF553B\",\"pattern\":{\"shape\":\"\"}},\"name\":\"\\u0930\\u0941\\u0916\\u092e\\u093e\",\"offsetgroup\":\"\\u0930\\u0941\\u0916\\u092e\\u093e\",\"orientation\":\"h\",\"showlegend\":true,\"textposition\":\"auto\",\"x\":[14],\"xaxis\":\"x\",\"y\":[\"\\u0930\\u0941\\u0916\\u092e\\u093e\"],\"yaxis\":\"y\",\"type\":\"bar\"},{\"alignmentgroup\":\"True\",\"hovertemplate\":\"word=%{y}<br>frequency=%{x}<extra></extra>\",\"legendgroup\":\"\\u0938\\u092e\\u0938\\u094d\\u092f\\u093e\",\"marker\":{\"color\":\"#00cc96\",\"pattern\":{\"shape\":\"\"}},\"name\":\"\\u0938\\u092e\\u0938\\u094d\\u092f\\u093e\",\"offsetgroup\":\"\\u0938\\u092e\\u0938\\u094d\\u092f\\u093e\",\"orientation\":\"h\",\"showlegend\":true,\"textposition\":\"auto\",\"x\":[14],\"xaxis\":\"x\",\"y\":[\"\\u0938\\u092e\\u0938\\u094d\\u092f\\u093e\"],\"yaxis\":\"y\",\"type\":\"bar\"},{\"alignmentgroup\":\"True\",\"hovertemplate\":\"word=%{y}<br>frequency=%{x}<extra></extra>\",\"legendgroup\":\"\\u0918\\u091f\\u094d\\u092f\\u094b\",\"marker\":{\"color\":\"#ab63fa\",\"pattern\":{\"shape\":\"\"}},\"name\":\"\\u0918\\u091f\\u094d\\u092f\\u094b\",\"offsetgroup\":\"\\u0918\\u091f\\u094d\\u092f\\u094b\",\"orientation\":\"h\",\"showlegend\":true,\"textposition\":\"auto\",\"x\":[14],\"xaxis\":\"x\",\"y\":[\"\\u0918\\u091f\\u094d\\u092f\\u094b\"],\"yaxis\":\"y\",\"type\":\"bar\"},{\"alignmentgroup\":\"True\",\"hovertemplate\":\"word=%{y}<br>frequency=%{x}<extra></extra>\",\"legendgroup\":\"\\u0917\\u0920\\u092c\\u0928\\u094d\\u0927\\u0928\\u0915\\u094b\",\"marker\":{\"color\":\"#FFA15A\",\"pattern\":{\"shape\":\"\"}},\"name\":\"\\u0917\\u0920\\u092c\\u0928\\u094d\\u0927\\u0928\\u0915\\u094b\",\"offsetgroup\":\"\\u0917\\u0920\\u092c\\u0928\\u094d\\u0927\\u0928\\u0915\\u094b\",\"orientation\":\"h\",\"showlegend\":true,\"textposition\":\"auto\",\"x\":[14],\"xaxis\":\"x\",\"y\":[\"\\u0917\\u0920\\u092c\\u0928\\u094d\\u0927\\u0928\\u0915\\u094b\"],\"yaxis\":\"y\",\"type\":\"bar\"},{\"alignmentgroup\":\"True\",\"hovertemplate\":\"word=%{y}<br>frequency=%{x}<extra></extra>\",\"legendgroup\":\"\\u091d\\u093e\\u092a\\u093e\\u092e\\u093e\",\"marker\":{\"color\":\"#19d3f3\",\"pattern\":{\"shape\":\"\"}},\"name\":\"\\u091d\\u093e\\u092a\\u093e\\u092e\\u093e\",\"offsetgroup\":\"\\u091d\\u093e\\u092a\\u093e\\u092e\\u093e\",\"orientation\":\"h\",\"showlegend\":true,\"textposition\":\"auto\",\"x\":[14],\"xaxis\":\"x\",\"y\":[\"\\u091d\\u093e\\u092a\\u093e\\u092e\\u093e\"],\"yaxis\":\"y\",\"type\":\"bar\"},{\"alignmentgroup\":\"True\",\"hovertemplate\":\"word=%{y}<br>frequency=%{x}<extra></extra>\",\"legendgroup\":\"\\u0928\\u093f\\u0930\\u094d\\u0935\\u093e\\u091a\\u0928\",\"marker\":{\"color\":\"#FF6692\",\"pattern\":{\"shape\":\"\"}},\"name\":\"\\u0928\\u093f\\u0930\\u094d\\u0935\\u093e\\u091a\\u0928\",\"offsetgroup\":\"\\u0928\\u093f\\u0930\\u094d\\u0935\\u093e\\u091a\\u0928\",\"orientation\":\"h\",\"showlegend\":true,\"textposition\":\"auto\",\"x\":[14],\"xaxis\":\"x\",\"y\":[\"\\u0928\\u093f\\u0930\\u094d\\u0935\\u093e\\u091a\\u0928\"],\"yaxis\":\"y\",\"type\":\"bar\"},{\"alignmentgroup\":\"True\",\"hovertemplate\":\"word=%{y}<br>frequency=%{x}<extra></extra>\",\"legendgroup\":\"\\u0936\\u094d\\u0930\\u0947\\u0937\\u094d\\u0920\",\"marker\":{\"color\":\"#B6E880\",\"pattern\":{\"shape\":\"\"}},\"name\":\"\\u0936\\u094d\\u0930\\u0947\\u0937\\u094d\\u0920\",\"offsetgroup\":\"\\u0936\\u094d\\u0930\\u0947\\u0937\\u094d\\u0920\",\"orientation\":\"h\",\"showlegend\":true,\"textposition\":\"auto\",\"x\":[14],\"xaxis\":\"x\",\"y\":[\"\\u0936\\u094d\\u0930\\u0947\\u0937\\u094d\\u0920\"],\"yaxis\":\"y\",\"type\":\"bar\"},{\"alignmentgroup\":\"True\",\"hovertemplate\":\"word=%{y}<br>frequency=%{x}<extra></extra>\",\"legendgroup\":\"\\u0924\\u092f\\u093e\\u0930\",\"marker\":{\"color\":\"#FF97FF\",\"pattern\":{\"shape\":\"\"}},\"name\":\"\\u0924\\u092f\\u093e\\u0930\",\"offsetgroup\":\"\\u0924\\u092f\\u093e\\u0930\",\"orientation\":\"h\",\"showlegend\":true,\"textposition\":\"auto\",\"x\":[13],\"xaxis\":\"x\",\"y\":[\"\\u0924\\u092f\\u093e\\u0930\"],\"yaxis\":\"y\",\"type\":\"bar\"},{\"alignmentgroup\":\"True\",\"hovertemplate\":\"word=%{y}<br>frequency=%{x}<extra></extra>\",\"legendgroup\":\"\\u0917\\u092d\\u0930\\u094d\\u0928\\u0930\",\"marker\":{\"color\":\"#FECB52\",\"pattern\":{\"shape\":\"\"}},\"name\":\"\\u0917\\u092d\\u0930\\u094d\\u0928\\u0930\",\"offsetgroup\":\"\\u0917\\u092d\\u0930\\u094d\\u0928\\u0930\",\"orientation\":\"h\",\"showlegend\":true,\"textposition\":\"auto\",\"x\":[13],\"xaxis\":\"x\",\"y\":[\"\\u0917\\u092d\\u0930\\u094d\\u0928\\u0930\"],\"yaxis\":\"y\",\"type\":\"bar\"}],                        {\"template\":{\"data\":{\"histogram2dcontour\":[{\"type\":\"histogram2dcontour\",\"colorbar\":{\"outlinewidth\":0,\"ticks\":\"\"},\"colorscale\":[[0.0,\"#0d0887\"],[0.1111111111111111,\"#46039f\"],[0.2222222222222222,\"#7201a8\"],[0.3333333333333333,\"#9c179e\"],[0.4444444444444444,\"#bd3786\"],[0.5555555555555556,\"#d8576b\"],[0.6666666666666666,\"#ed7953\"],[0.7777777777777778,\"#fb9f3a\"],[0.8888888888888888,\"#fdca26\"],[1.0,\"#f0f921\"]]}],\"choropleth\":[{\"type\":\"choropleth\",\"colorbar\":{\"outlinewidth\":0,\"ticks\":\"\"}}],\"histogram2d\":[{\"type\":\"histogram2d\",\"colorbar\":{\"outlinewidth\":0,\"ticks\":\"\"},\"colorscale\":[[0.0,\"#0d0887\"],[0.1111111111111111,\"#46039f\"],[0.2222222222222222,\"#7201a8\"],[0.3333333333333333,\"#9c179e\"],[0.4444444444444444,\"#bd3786\"],[0.5555555555555556,\"#d8576b\"],[0.6666666666666666,\"#ed7953\"],[0.7777777777777778,\"#fb9f3a\"],[0.8888888888888888,\"#fdca26\"],[1.0,\"#f0f921\"]]}],\"heatmap\":[{\"type\":\"heatmap\",\"colorbar\":{\"outlinewidth\":0,\"ticks\":\"\"},\"colorscale\":[[0.0,\"#0d0887\"],[0.1111111111111111,\"#46039f\"],[0.2222222222222222,\"#7201a8\"],[0.3333333333333333,\"#9c179e\"],[0.4444444444444444,\"#bd3786\"],[0.5555555555555556,\"#d8576b\"],[0.6666666666666666,\"#ed7953\"],[0.7777777777777778,\"#fb9f3a\"],[0.8888888888888888,\"#fdca26\"],[1.0,\"#f0f921\"]]}],\"heatmapgl\":[{\"type\":\"heatmapgl\",\"colorbar\":{\"outlinewidth\":0,\"ticks\":\"\"},\"colorscale\":[[0.0,\"#0d0887\"],[0.1111111111111111,\"#46039f\"],[0.2222222222222222,\"#7201a8\"],[0.3333333333333333,\"#9c179e\"],[0.4444444444444444,\"#bd3786\"],[0.5555555555555556,\"#d8576b\"],[0.6666666666666666,\"#ed7953\"],[0.7777777777777778,\"#fb9f3a\"],[0.8888888888888888,\"#fdca26\"],[1.0,\"#f0f921\"]]}],\"contourcarpet\":[{\"type\":\"contourcarpet\",\"colorbar\":{\"outlinewidth\":0,\"ticks\":\"\"}}],\"contour\":[{\"type\":\"contour\",\"colorbar\":{\"outlinewidth\":0,\"ticks\":\"\"},\"colorscale\":[[0.0,\"#0d0887\"],[0.1111111111111111,\"#46039f\"],[0.2222222222222222,\"#7201a8\"],[0.3333333333333333,\"#9c179e\"],[0.4444444444444444,\"#bd3786\"],[0.5555555555555556,\"#d8576b\"],[0.6666666666666666,\"#ed7953\"],[0.7777777777777778,\"#fb9f3a\"],[0.8888888888888888,\"#fdca26\"],[1.0,\"#f0f921\"]]}],\"surface\":[{\"type\":\"surface\",\"colorbar\":{\"outlinewidth\":0,\"ticks\":\"\"},\"colorscale\":[[0.0,\"#0d0887\"],[0.1111111111111111,\"#46039f\"],[0.2222222222222222,\"#7201a8\"],[0.3333333333333333,\"#9c179e\"],[0.4444444444444444,\"#bd3786\"],[0.5555555555555556,\"#d8576b\"],[0.6666666666666666,\"#ed7953\"],[0.7777777777777778,\"#fb9f3a\"],[0.8888888888888888,\"#fdca26\"],[1.0,\"#f0f921\"]]}],\"mesh3d\":[{\"type\":\"mesh3d\",\"colorbar\":{\"outlinewidth\":0,\"ticks\":\"\"}}],\"scatter\":[{\"fillpattern\":{\"fillmode\":\"overlay\",\"size\":10,\"solidity\":0.2},\"type\":\"scatter\"}],\"parcoords\":[{\"type\":\"parcoords\",\"line\":{\"colorbar\":{\"outlinewidth\":0,\"ticks\":\"\"}}}],\"scatterpolargl\":[{\"type\":\"scatterpolargl\",\"marker\":{\"colorbar\":{\"outlinewidth\":0,\"ticks\":\"\"}}}],\"bar\":[{\"error_x\":{\"color\":\"#2a3f5f\"},\"error_y\":{\"color\":\"#2a3f5f\"},\"marker\":{\"line\":{\"color\":\"#E5ECF6\",\"width\":0.5},\"pattern\":{\"fillmode\":\"overlay\",\"size\":10,\"solidity\":0.2}},\"type\":\"bar\"}],\"scattergeo\":[{\"type\":\"scattergeo\",\"marker\":{\"colorbar\":{\"outlinewidth\":0,\"ticks\":\"\"}}}],\"scatterpolar\":[{\"type\":\"scatterpolar\",\"marker\":{\"colorbar\":{\"outlinewidth\":0,\"ticks\":\"\"}}}],\"histogram\":[{\"marker\":{\"pattern\":{\"fillmode\":\"overlay\",\"size\":10,\"solidity\":0.2}},\"type\":\"histogram\"}],\"scattergl\":[{\"type\":\"scattergl\",\"marker\":{\"colorbar\":{\"outlinewidth\":0,\"ticks\":\"\"}}}],\"scatter3d\":[{\"type\":\"scatter3d\",\"line\":{\"colorbar\":{\"outlinewidth\":0,\"ticks\":\"\"}},\"marker\":{\"colorbar\":{\"outlinewidth\":0,\"ticks\":\"\"}}}],\"scattermapbox\":[{\"type\":\"scattermapbox\",\"marker\":{\"colorbar\":{\"outlinewidth\":0,\"ticks\":\"\"}}}],\"scatterternary\":[{\"type\":\"scatterternary\",\"marker\":{\"colorbar\":{\"outlinewidth\":0,\"ticks\":\"\"}}}],\"scattercarpet\":[{\"type\":\"scattercarpet\",\"marker\":{\"colorbar\":{\"outlinewidth\":0,\"ticks\":\"\"}}}],\"carpet\":[{\"aaxis\":{\"endlinecolor\":\"#2a3f5f\",\"gridcolor\":\"white\",\"linecolor\":\"white\",\"minorgridcolor\":\"white\",\"startlinecolor\":\"#2a3f5f\"},\"baxis\":{\"endlinecolor\":\"#2a3f5f\",\"gridcolor\":\"white\",\"linecolor\":\"white\",\"minorgridcolor\":\"white\",\"startlinecolor\":\"#2a3f5f\"},\"type\":\"carpet\"}],\"table\":[{\"cells\":{\"fill\":{\"color\":\"#EBF0F8\"},\"line\":{\"color\":\"white\"}},\"header\":{\"fill\":{\"color\":\"#C8D4E3\"},\"line\":{\"color\":\"white\"}},\"type\":\"table\"}],\"barpolar\":[{\"marker\":{\"line\":{\"color\":\"#E5ECF6\",\"width\":0.5},\"pattern\":{\"fillmode\":\"overlay\",\"size\":10,\"solidity\":0.2}},\"type\":\"barpolar\"}],\"pie\":[{\"automargin\":true,\"type\":\"pie\"}]},\"layout\":{\"autotypenumbers\":\"strict\",\"colorway\":[\"#636efa\",\"#EF553B\",\"#00cc96\",\"#ab63fa\",\"#FFA15A\",\"#19d3f3\",\"#FF6692\",\"#B6E880\",\"#FF97FF\",\"#FECB52\"],\"font\":{\"color\":\"#2a3f5f\"},\"hovermode\":\"closest\",\"hoverlabel\":{\"align\":\"left\"},\"paper_bgcolor\":\"white\",\"plot_bgcolor\":\"#E5ECF6\",\"polar\":{\"bgcolor\":\"#E5ECF6\",\"angularaxis\":{\"gridcolor\":\"white\",\"linecolor\":\"white\",\"ticks\":\"\"},\"radialaxis\":{\"gridcolor\":\"white\",\"linecolor\":\"white\",\"ticks\":\"\"}},\"ternary\":{\"bgcolor\":\"#E5ECF6\",\"aaxis\":{\"gridcolor\":\"white\",\"linecolor\":\"white\",\"ticks\":\"\"},\"baxis\":{\"gridcolor\":\"white\",\"linecolor\":\"white\",\"ticks\":\"\"},\"caxis\":{\"gridcolor\":\"white\",\"linecolor\":\"white\",\"ticks\":\"\"}},\"coloraxis\":{\"colorbar\":{\"outlinewidth\":0,\"ticks\":\"\"}},\"colorscale\":{\"sequential\":[[0.0,\"#0d0887\"],[0.1111111111111111,\"#46039f\"],[0.2222222222222222,\"#7201a8\"],[0.3333333333333333,\"#9c179e\"],[0.4444444444444444,\"#bd3786\"],[0.5555555555555556,\"#d8576b\"],[0.6666666666666666,\"#ed7953\"],[0.7777777777777778,\"#fb9f3a\"],[0.8888888888888888,\"#fdca26\"],[1.0,\"#f0f921\"]],\"sequentialminus\":[[0.0,\"#0d0887\"],[0.1111111111111111,\"#46039f\"],[0.2222222222222222,\"#7201a8\"],[0.3333333333333333,\"#9c179e\"],[0.4444444444444444,\"#bd3786\"],[0.5555555555555556,\"#d8576b\"],[0.6666666666666666,\"#ed7953\"],[0.7777777777777778,\"#fb9f3a\"],[0.8888888888888888,\"#fdca26\"],[1.0,\"#f0f921\"]],\"diverging\":[[0,\"#8e0152\"],[0.1,\"#c51b7d\"],[0.2,\"#de77ae\"],[0.3,\"#f1b6da\"],[0.4,\"#fde0ef\"],[0.5,\"#f7f7f7\"],[0.6,\"#e6f5d0\"],[0.7,\"#b8e186\"],[0.8,\"#7fbc41\"],[0.9,\"#4d9221\"],[1,\"#276419\"]]},\"xaxis\":{\"gridcolor\":\"white\",\"linecolor\":\"white\",\"ticks\":\"\",\"title\":{\"standoff\":15},\"zerolinecolor\":\"white\",\"automargin\":true,\"zerolinewidth\":2},\"yaxis\":{\"gridcolor\":\"white\",\"linecolor\":\"white\",\"ticks\":\"\",\"title\":{\"standoff\":15},\"zerolinecolor\":\"white\",\"automargin\":true,\"zerolinewidth\":2},\"scene\":{\"xaxis\":{\"backgroundcolor\":\"#E5ECF6\",\"gridcolor\":\"white\",\"linecolor\":\"white\",\"showbackground\":true,\"ticks\":\"\",\"zerolinecolor\":\"white\",\"gridwidth\":2},\"yaxis\":{\"backgroundcolor\":\"#E5ECF6\",\"gridcolor\":\"white\",\"linecolor\":\"white\",\"showbackground\":true,\"ticks\":\"\",\"zerolinecolor\":\"white\",\"gridwidth\":2},\"zaxis\":{\"backgroundcolor\":\"#E5ECF6\",\"gridcolor\":\"white\",\"linecolor\":\"white\",\"showbackground\":true,\"ticks\":\"\",\"zerolinecolor\":\"white\",\"gridwidth\":2}},\"shapedefaults\":{\"line\":{\"color\":\"#2a3f5f\"}},\"annotationdefaults\":{\"arrowcolor\":\"#2a3f5f\",\"arrowhead\":0,\"arrowwidth\":1},\"geo\":{\"bgcolor\":\"white\",\"landcolor\":\"#E5ECF6\",\"subunitcolor\":\"white\",\"showland\":true,\"showlakes\":true,\"lakecolor\":\"white\"},\"title\":{\"x\":0.05},\"mapbox\":{\"style\":\"light\"}}},\"xaxis\":{\"anchor\":\"y\",\"domain\":[0.0,1.0],\"title\":{\"text\":\"frequency\"}},\"yaxis\":{\"anchor\":\"x\",\"domain\":[0.0,1.0],\"title\":{\"text\":\"word\"},\"categoryorder\":\"array\",\"categoryarray\":[\"\\u0917\\u092d\\u0930\\u094d\\u0928\\u0930\",\"\\u0924\\u092f\\u093e\\u0930\",\"\\u0936\\u094d\\u0930\\u0947\\u0937\\u094d\\u0920\",\"\\u0928\\u093f\\u0930\\u094d\\u0935\\u093e\\u091a\\u0928\",\"\\u091d\\u093e\\u092a\\u093e\\u092e\\u093e\",\"\\u0917\\u0920\\u092c\\u0928\\u094d\\u0927\\u0928\\u0915\\u094b\",\"\\u0918\\u091f\\u094d\\u092f\\u094b\",\"\\u0938\\u092e\\u0938\\u094d\\u092f\\u093e\",\"\\u0930\\u0941\\u0916\\u092e\\u093e\",\"\\u092a\\u094d\\u0930\\u0936\\u094d\\u0928\",\"\\u0928\\u093e\\u092b\\u093e\",\"\\u092a\\u0942\\u0930\\u093e\",\"\\u0938\\u0930\\u0915\\u093e\\u0930\\u0940\",\"\\u0936\\u0941\\u0915\\u094d\\u0930\\u0935\\u093e\\u0930\",\"\\u0915\\u093e\\u0930\\u094d\\u092f\\u0915\\u094d\\u0930\\u092e\",\"\\u092a\\u094d\\u0930\\u0927\\u093e\\u0928\\u092e\\u0928\\u094d\\u0924\\u094d\\u0930\\u0940\",\"\\u0936\\u0928\\u093f\\u0935\\u093e\\u0930\",\"\\u0930\\u093e\\u0937\\u094d\\u091f\\u094d\\u0930\\u092a\\u0924\\u093f\",\"\\u092b\\u0941\\u091f\\u092c\\u0932\",\"\\u092a\\u094d\\u0930\\u0924\\u093f\\u0936\\u0924\\u0932\\u0947\",\"\\u092c\\u091c\\u093e\\u0930\\u092e\\u093e\",\"\\u092f\\u094b\",\"\\u092d\\u093e\\u0930\\u0924\\u092c\\u093e\\u091f\",\"\\u092d\\u0915\\u094d\\u0924\\u092a\\u0941\\u0930\\u092e\\u093e\",\"\\u0906\\u0908\\u092a\\u0940\\u0913\",\"\\u0905\\u0938\\u093e\\u0930\",\"\\u0939\\u094b\\u0907\\u0928\",\"\\u0915\\u0930\\u094d\\u092e\\u091a\\u093e\\u0930\\u0940\",\"\\u0938\\u0941\\u0928\\u0915\\u094b\",\"\\u092e\\u0942\\u0932\\u094d\\u092f\",\"\\u0925\\u093e\\u092a\\u093e\",\"\\u0935\\u0930\\u094d\\u0937\",\"\\u092d\\u0947\\u091f\\u093f\\u090f\",\"\\u0938\\u0902\\u0915\\u094d\\u0930\\u092e\\u093f\\u0924\",\"\\u0906\\u092a\\u0924\\u0915\\u093e\\u0932\",\"\\u0935\\u093f\\u0924\\u0930\\u0923\",\"\\u0916\\u0930\\u094d\\u091a\",\"\\u0938\\u0941\\u0930\\u0941\",\"\\u091d\\u0941\\u0923\\u094d\\u0921\\u093f\\u090f\\u0915\\u094b\",\"\\u092d\\u094d\\u0930\\u092e\\u0923\",\"\\u092d\\u093e\\u0930\\u0924\\u0940\\u092f\",\"\\u0935\\u0930\\u094d\\u0937\\u092e\\u093e\",\"\\u0905\\u0930\\u094d\\u092c\",\"\\u0918\\u093e\\u0907\\u0924\\u0947\",\"\\u092e\\u0939\\u093f\\u0932\\u093e\\u0915\\u094b\",\"\\u0905\\u092d\\u093f\\u092f\\u093e\\u0928\",\"\\u092a\\u0941\\u0937\\u094d\\u091f\\u093f\",\"\\u0915\\u093e\\u0930\\u0923\",\"\\u0935\\u093f\\u0915\\u093e\\u0938\\u0915\\u093e\",\"\\u0938\\u0919\\u094d\\u0915\\u094d\\u0930\\u092e\\u0923\",\"\\u092d\\u093e\\u0930\\u0924\\u092e\\u093e\",\"\\u0939\\u0924\\u094d\\u092f\\u093e\",\"\\u092c\\u0922\\u094d\\u0926\\u0948\",\"\\u0905\\u0928\\u094d\\u0924\\u093f\\u092e\",\"\\u092c\\u0948\\u0902\\u0915\",\"\\u092a\\u094d\\u0930\\u0924\\u093f\\u0936\\u0924\",\"\\u0926\\u0947\\u0936\\u092e\\u093e\",\"\\u0928\\u0940\\u0924\\u093f\",\"\\u0928\\u0947\\u0924\\u093e\",\"\\u092a\\u094d\\u0930\\u091a\\u0923\\u094d\\u0921\",\"\\u0938\\u0930\\u0915\\u093e\\u0930\",\"\\u0905\\u0927\\u094d\\u092f\\u0915\\u094d\\u0937\",\"\\u092c\\u0948\\u0902\\u0915\\u0915\\u094b\",\"\\u092d\\u093e\\u0930\\u0924\",\"\\u0935\\u093f\\u0915\\u093e\\u0938\",\"\\u092c\\u0948\\u0920\\u0915\",\"\\u092e\\u0939\\u093f\\u0932\\u093e\",\"\\u091c\\u0928\\u093e\\u092e\\u093e\",\"\\u092a\\u094c\\u0921\\u0947\\u0932\",\"\\u092a\\u094d\\u0930\\u0926\\u0930\\u094d\\u0936\\u0928\",\"\\u092a\\u093e\\u0930\\u093f\\u0924\",\"\\u0939\\u0941\\u0901\\u0926\\u0948\",\"\\u0938\\u0947\\u092f\\u0930\",\"\\u092a\\u094d\\u0930\\u0939\\u0930\\u0940\",\"\\u092e\\u0928\\u094d\\u0924\\u094d\\u0930\\u0940\",\"\\u0924\\u092f\\u093e\\u0930\\u0940\",\"\\u092b\\u0947\\u0932\\u093e\",\"\\u0915\\u093f\\u0936\\u094b\\u0930\\u0940\",\"\\u0939\\u091c\\u093e\\u0930\",\"\\u0938\\u0930\\u0915\\u093e\\u0930\\u0915\\u094b\",\"\\u0905\\u0935\\u0938\\u094d\\u0925\\u093e\\u092e\\u093e\",\"\\u092c\\u0922\\u094d\\u092f\\u094b\",\"\\u0930\\u093e\\u0937\\u094d\\u091f\\u094d\\u0930\\u093f\\u092f\",\"\\u0938\\u0902\\u0915\\u094d\\u0930\\u092e\\u0923\",\"\\u091c\\u0928\\u093e\\u0915\\u094b\",\"\\u0935\\u093f\\u0927\\u0947\\u092f\\u0915\",\"\\u0938\\u093e\\u0930\\u094d\\u0935\\u091c\\u0928\\u093f\\u0915\",\"\\u0936\\u094d\\u0930\\u093e\\u0935\\u0923,\\u096e\",\"\\u092a\\u0915\\u094d\\u0930\\u093e\\u0909\",\"\\u092e\\u094c\\u0926\\u094d\\u0930\\u093f\\u0915\",\"\\u0915\\u094b\\u0930\\u094b\\u0928\\u093e\",\"\\u0915\\u0930\\u094b\\u0921\",\"\\u0906\\u0908\\u0924\\u0935\\u093e\\u0930\",\"\\u0928\\u093e\\u0917\\u0930\\u093f\\u0915\\u0924\\u093e\",\"\\u0918\\u094b\\u0937\\u0923\\u093e\",\"\\u0928\\u0947\\u092a\\u093e\\u0932\",\"\\u092e\\u0943\\u0924\\u094d\\u092f\\u0941\",\"\\u0928\\u0947\\u092a\\u093e\\u0932\\u0940\",\"\\u0938\\u093e\\u0909\\u0928\",\"\\u0968\\u0966\\u096d\\u096f\"]},\"legend\":{\"title\":{\"text\":\"word\"},\"tracegroupgap\":0},\"margin\":{\"t\":60},\"barmode\":\"relative\",\"height\":400},                        {\"responsive\": true}                    ).then(function(){\n",
       "                            \n",
       "var gd = document.getElementById('48e8ef8c-a0a3-4b74-91a5-00ce1b170623');\n",
       "var x = new MutationObserver(function (mutations, observer) {{\n",
       "        var display = window.getComputedStyle(gd).display;\n",
       "        if (!display || display === 'none') {{\n",
       "            console.log([gd, 'removed!']);\n",
       "            Plotly.purge(gd);\n",
       "            observer.disconnect();\n",
       "        }}\n",
       "}});\n",
       "\n",
       "// Listen for the removal of the full notebook cells\n",
       "var notebookContainer = gd.closest('#notebook-container');\n",
       "if (notebookContainer) {{\n",
       "    x.observe(notebookContainer, {childList: true});\n",
       "}}\n",
       "\n",
       "// Listen for the clearing of the current output cell\n",
       "var outputEl = gd.closest('.output');\n",
       "if (outputEl) {{\n",
       "    x.observe(outputEl, {childList: true});\n",
       "}}\n",
       "\n",
       "                        })                };                });            </script>        </div>"
      ]
     },
     "metadata": {},
     "output_type": "display_data"
    }
   ],
   "source": [
    "px.bar(dfftop.head(100), x=\"frequency\", y=\"word\", color=\"word\", \n",
    "       hover_data=[\"word\", \"frequency\"], height=400)"
   ]
  },
  {
   "cell_type": "code",
   "execution_count": 103,
   "id": "afe82e98",
   "metadata": {},
   "outputs": [
    {
     "data": {
      "image/png": "[encoded data removed]",
      "text/plain": [
       "<Figure size 1080x720 with 1 Axes>"
      ]
     },
     "metadata": {
      "needs_background": "light"
     },
     "output_type": "display_data"
    }
   ],
   "source": [
    "text = \" \".join(i for i in df.head_string)\n",
    "stopwords = set(nepali_stopwords)\n",
    "wordcloud = WordCloud(file_path= \n",
    "                      stopwords=stopwords, background_color=\"white\").generate(text)\n",
    "plt.figure(figsize=(15,10))\n",
    "plt.imshow(wordcloud, interpolation='bilinear')\n",
    "plt.axis(\"off\")\n",
    "plt.show()"
   ]
  },
  {
   "cell_type": "code",
   "execution_count": 107,
   "id": "9fe41f23",
   "metadata": {},
   "outputs": [
    {
     "name": "stderr",
     "output_type": "stream",
     "text": [
      "'fclist' is not recognized as an internal or external command,\n",
      "operable program or batch file.\n"
     ]
    }
   ],
   "source": []
  },
  {
   "cell_type": "code",
   "execution_count": null,
   "id": "8f84fff0",
   "metadata": {},
   "outputs": [],
   "source": []
  }
 ],
 "metadata": {
  "kernelspec": {
   "display_name": "Python 3 (ipykernel)",
   "language": "python",
   "name": "python3"
  },
  "language_info": {
   "codemirror_mode": {
    "name": "ipython",
    "version": 3
   },
   "file_extension": ".py",
   "mimetype": "text/x-python",
   "name": "python",
   "nbconvert_exporter": "python",
   "pygments_lexer": "ipython3",
   "version": "3.9.12"
  }
 },
 "nbformat": 4,
 "nbformat_minor": 5
}
